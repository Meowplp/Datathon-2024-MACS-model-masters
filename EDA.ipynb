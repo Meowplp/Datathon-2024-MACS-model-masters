{
 "cells": [
  {
   "cell_type": "code",
   "execution_count": 3,
   "metadata": {},
   "outputs": [],
   "source": [
    "import pandas as pd\n",
    "import numpy as np\n",
    "import matplotlib.pyplot as plt\n",
    "import seaborn as sns \n",
    "%matplotlib inline\n",
    "import numpy as np"
   ]
  },
  {
   "cell_type": "code",
   "execution_count": 4,
   "metadata": {},
   "outputs": [],
   "source": [
    "import re"
   ]
  },
  {
   "cell_type": "code",
   "execution_count": 5,
   "metadata": {},
   "outputs": [
    {
     "data": {
      "text/html": [
       "<div>\n",
       "<style scoped>\n",
       "    .dataframe tbody tr th:only-of-type {\n",
       "        vertical-align: middle;\n",
       "    }\n",
       "\n",
       "    .dataframe tbody tr th {\n",
       "        vertical-align: top;\n",
       "    }\n",
       "\n",
       "    .dataframe thead th {\n",
       "        text-align: right;\n",
       "    }\n",
       "</style>\n",
       "<table border=\"1\" class=\"dataframe\">\n",
       "  <thead>\n",
       "    <tr style=\"text-align: right;\">\n",
       "      <th></th>\n",
       "      <th>TransactionNumber</th>\n",
       "      <th>UserID</th>\n",
       "      <th>Age</th>\n",
       "      <th>Gender</th>\n",
       "      <th>Occupation</th>\n",
       "      <th>EducationLevel</th>\n",
       "      <th>MaritalStatus</th>\n",
       "      <th>NumDependents</th>\n",
       "      <th>Income</th>\n",
       "      <th>Expenditure</th>\n",
       "      <th>...</th>\n",
       "      <th>MerchantID</th>\n",
       "      <th>TransactionType</th>\n",
       "      <th>TransactionLocation</th>\n",
       "      <th>DeviceType</th>\n",
       "      <th>Latitude</th>\n",
       "      <th>Longitude</th>\n",
       "      <th>EmailDomain</th>\n",
       "      <th>Terrorism</th>\n",
       "      <th>UserTenure</th>\n",
       "      <th>IsFraud</th>\n",
       "    </tr>\n",
       "  </thead>\n",
       "  <tbody>\n",
       "    <tr>\n",
       "      <th>0</th>\n",
       "      <td>8765</td>\n",
       "      <td>70</td>\n",
       "      <td>37</td>\n",
       "      <td>Female</td>\n",
       "      <td>Professional</td>\n",
       "      <td>Bachelor</td>\n",
       "      <td>Widowed</td>\n",
       "      <td>3</td>\n",
       "      <td>28884.43 AUD</td>\n",
       "      <td>14610.61 AUD</td>\n",
       "      <td>...</td>\n",
       "      <td>M006</td>\n",
       "      <td>Withdrawal</td>\n",
       "      <td>Adelaide</td>\n",
       "      <td>Mobile</td>\n",
       "      <td>-31.840233</td>\n",
       "      <td>145.612793</td>\n",
       "      <td>jon44@disposable.com</td>\n",
       "      <td>False</td>\n",
       "      <td>113</td>\n",
       "      <td>1</td>\n",
       "    </tr>\n",
       "    <tr>\n",
       "      <th>1</th>\n",
       "      <td>9645</td>\n",
       "      <td>3386</td>\n",
       "      <td>34</td>\n",
       "      <td>Male</td>\n",
       "      <td>Student</td>\n",
       "      <td>High School</td>\n",
       "      <td>Married</td>\n",
       "      <td>4</td>\n",
       "      <td>AU$ 54919.07</td>\n",
       "      <td>39169.49 AUD</td>\n",
       "      <td>...</td>\n",
       "      <td>M002</td>\n",
       "      <td>Withdrawal</td>\n",
       "      <td>Canberra</td>\n",
       "      <td>Mobile</td>\n",
       "      <td>-37.020100</td>\n",
       "      <td>144.964600</td>\n",
       "      <td>emilyreese@gmail.com</td>\n",
       "      <td>False</td>\n",
       "      <td>104</td>\n",
       "      <td>1</td>\n",
       "    </tr>\n",
       "    <tr>\n",
       "      <th>2</th>\n",
       "      <td>1145</td>\n",
       "      <td>2971</td>\n",
       "      <td>25</td>\n",
       "      <td>Male</td>\n",
       "      <td>Unemployed</td>\n",
       "      <td>Master</td>\n",
       "      <td>Married</td>\n",
       "      <td>2</td>\n",
       "      <td>AU$ 74728.57</td>\n",
       "      <td>55873.76 AUD</td>\n",
       "      <td>...</td>\n",
       "      <td>M008</td>\n",
       "      <td>Purchase</td>\n",
       "      <td>Brisbane</td>\n",
       "      <td>Mobile</td>\n",
       "      <td>-31.840233</td>\n",
       "      <td>145.612793</td>\n",
       "      <td>fordevan@gmail.com</td>\n",
       "      <td>False</td>\n",
       "      <td>105</td>\n",
       "      <td>0</td>\n",
       "    </tr>\n",
       "    <tr>\n",
       "      <th>3</th>\n",
       "      <td>15308</td>\n",
       "      <td>2925</td>\n",
       "      <td>25</td>\n",
       "      <td>Male</td>\n",
       "      <td>Professional</td>\n",
       "      <td>High School</td>\n",
       "      <td>Married</td>\n",
       "      <td>3</td>\n",
       "      <td>AU$ 55712.62</td>\n",
       "      <td>AED 89649.04</td>\n",
       "      <td>...</td>\n",
       "      <td>M001</td>\n",
       "      <td>Purchase</td>\n",
       "      <td>Darwin</td>\n",
       "      <td>iphone 15</td>\n",
       "      <td>-37.020100</td>\n",
       "      <td>144.964600</td>\n",
       "      <td>kathleenlewis@tempmail.com</td>\n",
       "      <td>False</td>\n",
       "      <td>70</td>\n",
       "      <td>1</td>\n",
       "    </tr>\n",
       "    <tr>\n",
       "      <th>4</th>\n",
       "      <td>14967</td>\n",
       "      <td>2339</td>\n",
       "      <td>38</td>\n",
       "      <td>Male</td>\n",
       "      <td>Professional</td>\n",
       "      <td>High School</td>\n",
       "      <td>Single</td>\n",
       "      <td>4</td>\n",
       "      <td>53004.7 AUD</td>\n",
       "      <td>AED 43601.02</td>\n",
       "      <td>...</td>\n",
       "      <td>M001</td>\n",
       "      <td>Withdrawal</td>\n",
       "      <td>MLB</td>\n",
       "      <td>Tablet</td>\n",
       "      <td>-37.020100</td>\n",
       "      <td>144.964600</td>\n",
       "      <td>kristinawhite@gmail.com</td>\n",
       "      <td>False</td>\n",
       "      <td>27</td>\n",
       "      <td>0</td>\n",
       "    </tr>\n",
       "  </tbody>\n",
       "</table>\n",
       "<p>5 rows × 24 columns</p>\n",
       "</div>"
      ],
      "text/plain": [
       "   TransactionNumber  UserID  Age  Gender    Occupation EducationLevel  \\\n",
       "0               8765      70   37  Female  Professional       Bachelor   \n",
       "1               9645    3386   34    Male       Student    High School   \n",
       "2               1145    2971   25    Male    Unemployed         Master   \n",
       "3              15308    2925   25    Male  Professional    High School   \n",
       "4              14967    2339   38    Male  Professional    High School   \n",
       "\n",
       "  MaritalStatus  NumDependents        Income   Expenditure  ... MerchantID  \\\n",
       "0       Widowed              3  28884.43 AUD  14610.61 AUD  ...       M006   \n",
       "1       Married              4  AU$ 54919.07  39169.49 AUD  ...       M002   \n",
       "2       Married              2  AU$ 74728.57  55873.76 AUD  ...       M008   \n",
       "3       Married              3  AU$ 55712.62  AED 89649.04  ...       M001   \n",
       "4        Single              4   53004.7 AUD  AED 43601.02  ...       M001   \n",
       "\n",
       "  TransactionType TransactionLocation DeviceType   Latitude   Longitude  \\\n",
       "0      Withdrawal            Adelaide     Mobile -31.840233  145.612793   \n",
       "1      Withdrawal            Canberra     Mobile -37.020100  144.964600   \n",
       "2        Purchase            Brisbane     Mobile -31.840233  145.612793   \n",
       "3        Purchase              Darwin  iphone 15 -37.020100  144.964600   \n",
       "4      Withdrawal                 MLB     Tablet -37.020100  144.964600   \n",
       "\n",
       "                  EmailDomain Terrorism  UserTenure  IsFraud  \n",
       "0        jon44@disposable.com     False         113        1  \n",
       "1        emilyreese@gmail.com     False         104        1  \n",
       "2          fordevan@gmail.com     False         105        0  \n",
       "3  kathleenlewis@tempmail.com     False          70        1  \n",
       "4     kristinawhite@gmail.com     False          27        0  \n",
       "\n",
       "[5 rows x 24 columns]"
      ]
     },
     "execution_count": 5,
     "metadata": {},
     "output_type": "execute_result"
    }
   ],
   "source": [
    "# Load the dataset\n",
    "df = pd.read_csv(\"./train.csv\")\n",
    "df.head()"
   ]
  },
  {
   "cell_type": "code",
   "execution_count": 6,
   "metadata": {},
   "outputs": [
    {
     "name": "stdout",
     "output_type": "stream",
     "text": [
      "<class 'pandas.core.frame.DataFrame'>\n",
      "RangeIndex: 10966 entries, 0 to 10965\n",
      "Data columns (total 24 columns):\n",
      " #   Column               Non-Null Count  Dtype  \n",
      "---  ------               --------------  -----  \n",
      " 0   TransactionNumber    10966 non-null  int64  \n",
      " 1   UserID               10966 non-null  int64  \n",
      " 2   Age                  10966 non-null  int64  \n",
      " 3   Gender               10966 non-null  object \n",
      " 4   Occupation           10966 non-null  object \n",
      " 5   EducationLevel       10966 non-null  object \n",
      " 6   MaritalStatus        10966 non-null  object \n",
      " 7   NumDependents        10966 non-null  int64  \n",
      " 8   Income               10966 non-null  object \n",
      " 9   Expenditure          10966 non-null  object \n",
      " 10  GiftsTransaction     10966 non-null  object \n",
      " 11  TransactionDate      10966 non-null  object \n",
      " 12  TransactionTime      10966 non-null  object \n",
      " 13  TransactionAmount    10966 non-null  object \n",
      " 14  MerchantID           10966 non-null  object \n",
      " 15  TransactionType      10966 non-null  object \n",
      " 16  TransactionLocation  10966 non-null  object \n",
      " 17  DeviceType           10966 non-null  object \n",
      " 18  Latitude             10923 non-null  float64\n",
      " 19  Longitude            10923 non-null  float64\n",
      " 20  EmailDomain          10966 non-null  object \n",
      " 21  Terrorism            10966 non-null  bool   \n",
      " 22  UserTenure           10966 non-null  int64  \n",
      " 23  IsFraud              10966 non-null  int64  \n",
      "dtypes: bool(1), float64(2), int64(6), object(15)\n",
      "memory usage: 1.9+ MB\n"
     ]
    }
   ],
   "source": [
    "df.info()"
   ]
  },
  {
   "cell_type": "code",
   "execution_count": 7,
   "metadata": {},
   "outputs": [
    {
     "data": {
      "text/plain": [
       "(10966, 24)"
      ]
     },
     "execution_count": 7,
     "metadata": {},
     "output_type": "execute_result"
    }
   ],
   "source": [
    "df.shape"
   ]
  },
  {
   "cell_type": "code",
   "execution_count": 8,
   "metadata": {},
   "outputs": [
    {
     "data": {
      "text/html": [
       "<div>\n",
       "<style scoped>\n",
       "    .dataframe tbody tr th:only-of-type {\n",
       "        vertical-align: middle;\n",
       "    }\n",
       "\n",
       "    .dataframe tbody tr th {\n",
       "        vertical-align: top;\n",
       "    }\n",
       "\n",
       "    .dataframe thead th {\n",
       "        text-align: right;\n",
       "    }\n",
       "</style>\n",
       "<table border=\"1\" class=\"dataframe\">\n",
       "  <thead>\n",
       "    <tr style=\"text-align: right;\">\n",
       "      <th></th>\n",
       "      <th>TransactionNumber</th>\n",
       "      <th>UserID</th>\n",
       "      <th>Age</th>\n",
       "      <th>NumDependents</th>\n",
       "      <th>Latitude</th>\n",
       "      <th>Longitude</th>\n",
       "      <th>UserTenure</th>\n",
       "      <th>IsFraud</th>\n",
       "    </tr>\n",
       "  </thead>\n",
       "  <tbody>\n",
       "    <tr>\n",
       "      <th>count</th>\n",
       "      <td>10966.000000</td>\n",
       "      <td>10966.000000</td>\n",
       "      <td>10966.000000</td>\n",
       "      <td>10966.000000</td>\n",
       "      <td>10923.000000</td>\n",
       "      <td>10923.000000</td>\n",
       "      <td>10966.000000</td>\n",
       "      <td>10966.000000</td>\n",
       "    </tr>\n",
       "    <tr>\n",
       "      <th>mean</th>\n",
       "      <td>9117.500091</td>\n",
       "      <td>2483.885282</td>\n",
       "      <td>2751.845887</td>\n",
       "      <td>1.995714</td>\n",
       "      <td>-30.363255</td>\n",
       "      <td>141.254786</td>\n",
       "      <td>60.786157</td>\n",
       "      <td>0.364308</td>\n",
       "    </tr>\n",
       "    <tr>\n",
       "      <th>std</th>\n",
       "      <td>5293.669640</td>\n",
       "      <td>1429.402615</td>\n",
       "      <td>9730.988917</td>\n",
       "      <td>1.408035</td>\n",
       "      <td>6.962819</td>\n",
       "      <td>11.268395</td>\n",
       "      <td>34.254477</td>\n",
       "      <td>0.481257</td>\n",
       "    </tr>\n",
       "    <tr>\n",
       "      <th>min</th>\n",
       "      <td>1.000000</td>\n",
       "      <td>1.000000</td>\n",
       "      <td>-68.000000</td>\n",
       "      <td>0.000000</td>\n",
       "      <td>-41.640079</td>\n",
       "      <td>-112.026050</td>\n",
       "      <td>1.000000</td>\n",
       "      <td>0.000000</td>\n",
       "    </tr>\n",
       "    <tr>\n",
       "      <th>25%</th>\n",
       "      <td>4516.250000</td>\n",
       "      <td>1253.000000</td>\n",
       "      <td>26.000000</td>\n",
       "      <td>1.000000</td>\n",
       "      <td>-37.020100</td>\n",
       "      <td>142.702789</td>\n",
       "      <td>31.000000</td>\n",
       "      <td>0.000000</td>\n",
       "    </tr>\n",
       "    <tr>\n",
       "      <th>50%</th>\n",
       "      <td>9120.500000</td>\n",
       "      <td>2471.000000</td>\n",
       "      <td>34.000000</td>\n",
       "      <td>2.000000</td>\n",
       "      <td>-31.840233</td>\n",
       "      <td>144.964600</td>\n",
       "      <td>61.000000</td>\n",
       "      <td>0.000000</td>\n",
       "    </tr>\n",
       "    <tr>\n",
       "      <th>75%</th>\n",
       "      <td>13710.750000</td>\n",
       "      <td>3727.000000</td>\n",
       "      <td>43.000000</td>\n",
       "      <td>3.000000</td>\n",
       "      <td>-25.042261</td>\n",
       "      <td>145.612793</td>\n",
       "      <td>90.000000</td>\n",
       "      <td>1.000000</td>\n",
       "    </tr>\n",
       "    <tr>\n",
       "      <th>max</th>\n",
       "      <td>18277.000000</td>\n",
       "      <td>5000.000000</td>\n",
       "      <td>67000.000000</td>\n",
       "      <td>4.000000</td>\n",
       "      <td>57.851580</td>\n",
       "      <td>149.012375</td>\n",
       "      <td>119.000000</td>\n",
       "      <td>1.000000</td>\n",
       "    </tr>\n",
       "  </tbody>\n",
       "</table>\n",
       "</div>"
      ],
      "text/plain": [
       "       TransactionNumber        UserID           Age  NumDependents  \\\n",
       "count       10966.000000  10966.000000  10966.000000   10966.000000   \n",
       "mean         9117.500091   2483.885282   2751.845887       1.995714   \n",
       "std          5293.669640   1429.402615   9730.988917       1.408035   \n",
       "min             1.000000      1.000000    -68.000000       0.000000   \n",
       "25%          4516.250000   1253.000000     26.000000       1.000000   \n",
       "50%          9120.500000   2471.000000     34.000000       2.000000   \n",
       "75%         13710.750000   3727.000000     43.000000       3.000000   \n",
       "max         18277.000000   5000.000000  67000.000000       4.000000   \n",
       "\n",
       "           Latitude     Longitude    UserTenure       IsFraud  \n",
       "count  10923.000000  10923.000000  10966.000000  10966.000000  \n",
       "mean     -30.363255    141.254786     60.786157      0.364308  \n",
       "std        6.962819     11.268395     34.254477      0.481257  \n",
       "min      -41.640079   -112.026050      1.000000      0.000000  \n",
       "25%      -37.020100    142.702789     31.000000      0.000000  \n",
       "50%      -31.840233    144.964600     61.000000      0.000000  \n",
       "75%      -25.042261    145.612793     90.000000      1.000000  \n",
       "max       57.851580    149.012375    119.000000      1.000000  "
      ]
     },
     "execution_count": 8,
     "metadata": {},
     "output_type": "execute_result"
    }
   ],
   "source": [
    "df.describe()"
   ]
  },
  {
   "cell_type": "code",
   "execution_count": 9,
   "metadata": {},
   "outputs": [
    {
     "data": {
      "text/plain": [
       "TransactionNumber       0\n",
       "UserID                  0\n",
       "Age                     0\n",
       "Gender                  0\n",
       "Occupation              0\n",
       "EducationLevel          0\n",
       "MaritalStatus           0\n",
       "NumDependents           0\n",
       "Income                  0\n",
       "Expenditure             0\n",
       "GiftsTransaction        0\n",
       "TransactionDate         0\n",
       "TransactionTime         0\n",
       "TransactionAmount       0\n",
       "MerchantID              0\n",
       "TransactionType         0\n",
       "TransactionLocation     0\n",
       "DeviceType              0\n",
       "Latitude               43\n",
       "Longitude              43\n",
       "EmailDomain             0\n",
       "Terrorism               0\n",
       "UserTenure              0\n",
       "IsFraud                 0\n",
       "dtype: int64"
      ]
     },
     "execution_count": 9,
     "metadata": {},
     "output_type": "execute_result"
    }
   ],
   "source": [
    "df.isnull().sum()"
   ]
  },
  {
   "cell_type": "code",
   "execution_count": 10,
   "metadata": {},
   "outputs": [
    {
     "data": {
      "text/plain": [
       "np.int64(10931)"
      ]
     },
     "execution_count": 10,
     "metadata": {},
     "output_type": "execute_result"
    }
   ],
   "source": [
    "df['Latitude'].duplicated().sum()"
   ]
  },
  {
   "cell_type": "code",
   "execution_count": 11,
   "metadata": {},
   "outputs": [
    {
     "data": {
      "text/plain": [
       "np.int64(10931)"
      ]
     },
     "execution_count": 11,
     "metadata": {},
     "output_type": "execute_result"
    }
   ],
   "source": [
    "df['Longitude'].duplicated().sum()"
   ]
  },
  {
   "cell_type": "code",
   "execution_count": 12,
   "metadata": {},
   "outputs": [
    {
     "data": {
      "text/plain": [
       "np.int64(0)"
      ]
     },
     "execution_count": 12,
     "metadata": {},
     "output_type": "execute_result"
    }
   ],
   "source": [
    "df.duplicated().sum()"
   ]
  },
  {
   "cell_type": "code",
   "execution_count": 13,
   "metadata": {},
   "outputs": [
    {
     "data": {
      "text/plain": [
       "Gender\n",
       "Male           4887\n",
       "Female         4426\n",
       "isnotfemale     292\n",
       "he              268\n",
       "man             263\n",
       "fem             220\n",
       "she             207\n",
       "woman           206\n",
       "isnotmale       197\n",
       "Name: count, dtype: int64"
      ]
     },
     "execution_count": 13,
     "metadata": {},
     "output_type": "execute_result"
    }
   ],
   "source": [
    "df[\"Gender\"].value_counts()"
   ]
  },
  {
   "cell_type": "code",
   "execution_count": 14,
   "metadata": {},
   "outputs": [
    {
     "data": {
      "text/plain": [
       "np.int64(6543)"
      ]
     },
     "execution_count": 14,
     "metadata": {},
     "output_type": "execute_result"
    }
   ],
   "source": [
    "df[\"UserID\"].duplicated().sum()"
   ]
  },
  {
   "cell_type": "code",
   "execution_count": 15,
   "metadata": {},
   "outputs": [
    {
     "data": {
      "text/plain": [
       "0              jon44@disposable.com\n",
       "1              emilyreese@gmail.com\n",
       "2                fordevan@gmail.com\n",
       "3        kathleenlewis@tempmail.com\n",
       "4           kristinawhite@gmail.com\n",
       "                    ...            \n",
       "10961           rpalmer@outlook.com\n",
       "10962               rcruz@yahoo.com\n",
       "10963         dawnmendoza@yahoo.com\n",
       "10964      miranda86@disposable.com\n",
       "10965             brian94@gmail.com\n",
       "Name: EmailDomain, Length: 10966, dtype: object"
      ]
     },
     "execution_count": 15,
     "metadata": {},
     "output_type": "execute_result"
    }
   ],
   "source": [
    "def check_valid_email(email):\n",
    "    email = email.strip()\n",
    "    regex = r'^[a-z0-9]+[\\._]?[a-z0-9]+[@]\\w+[.]\\w+$'\n",
    "    if re.match(regex, email):\n",
    "        return email\n",
    "\n",
    "    else:\n",
    "        return \"not an email\"\n",
    "\n",
    "df['EmailDomain'].apply(check_valid_email)"
   ]
  },
  {
   "cell_type": "code",
   "execution_count": 16,
   "metadata": {},
   "outputs": [
    {
     "name": "stdout",
     "output_type": "stream",
     "text": [
      "0\n"
     ]
    }
   ],
   "source": [
    "mask = df['EmailDomain'] == \"not an email\"\n",
    "count = len(df[mask])\n",
    "print(count)"
   ]
  },
  {
   "cell_type": "code",
   "execution_count": 17,
   "metadata": {},
   "outputs": [
    {
     "name": "stdout",
     "output_type": "stream",
     "text": [
      "0\n"
     ]
    }
   ],
   "source": [
    "for email in df[\"EmailDomain\"]:\n",
    "    if email.strip() == 'not an email':\n",
    "        count +=1\n",
    "\n",
    "print (count) \n"
   ]
  },
  {
   "cell_type": "code",
   "execution_count": 18,
   "metadata": {},
   "outputs": [
    {
     "data": {
      "text/plain": [
       "Terrorism\n",
       "False    7623\n",
       "True     3343\n",
       "Name: count, dtype: int64"
      ]
     },
     "execution_count": 18,
     "metadata": {},
     "output_type": "execute_result"
    }
   ],
   "source": [
    "df['Terrorism'].value_counts()"
   ]
  },
  {
   "cell_type": "code",
   "execution_count": 19,
   "metadata": {},
   "outputs": [
    {
     "data": {
      "text/plain": [
       "count             10966\n",
       "unique             6546\n",
       "top       AU$ 125722.27\n",
       "freq                  7\n",
       "Name: Income, dtype: object"
      ]
     },
     "execution_count": 19,
     "metadata": {},
     "output_type": "execute_result"
    }
   ],
   "source": [
    "df['Income'].describe()"
   ]
  },
  {
   "cell_type": "code",
   "execution_count": 20,
   "metadata": {},
   "outputs": [
    {
     "data": {
      "text/plain": [
       "count            10966\n",
       "unique            7709\n",
       "top       AU$ 24202.02\n",
       "freq                 6\n",
       "Name: Expenditure, dtype: object"
      ]
     },
     "execution_count": 20,
     "metadata": {},
     "output_type": "execute_result"
    }
   ],
   "source": [
    "df['Expenditure'].describe()"
   ]
  },
  {
   "cell_type": "code",
   "execution_count": 21,
   "metadata": {},
   "outputs": [
    {
     "data": {
      "text/plain": [
       "Occupation\n",
       "Professional    5384\n",
       "Student         3321\n",
       "Unemployed      1151\n",
       "Retired         1110\n",
       "Name: count, dtype: int64"
      ]
     },
     "execution_count": 21,
     "metadata": {},
     "output_type": "execute_result"
    }
   ],
   "source": [
    "df['Occupation'].value_counts()"
   ]
  },
  {
   "cell_type": "code",
   "execution_count": 22,
   "metadata": {},
   "outputs": [
    {
     "data": {
      "text/plain": [
       "EducationLevel\n",
       "Bachelor       4367\n",
       "High School    4331\n",
       "Master         1641\n",
       "PhD             627\n",
       "Name: count, dtype: int64"
      ]
     },
     "execution_count": 22,
     "metadata": {},
     "output_type": "execute_result"
    }
   ],
   "source": [
    "df['EducationLevel'].value_counts()"
   ]
  },
  {
   "cell_type": "code",
   "execution_count": 23,
   "metadata": {},
   "outputs": [
    {
     "data": {
      "text/plain": [
       "MaritalStatus\n",
       "Married     5366\n",
       "Single      4418\n",
       "Divorced     626\n",
       "Widowed      556\n",
       "Name: count, dtype: int64"
      ]
     },
     "execution_count": 23,
     "metadata": {},
     "output_type": "execute_result"
    }
   ],
   "source": [
    "df['MaritalStatus'].value_counts()"
   ]
  },
  {
   "cell_type": "code",
   "execution_count": 24,
   "metadata": {},
   "outputs": [
    {
     "data": {
      "text/plain": [
       "count    10966.000000\n",
       "mean         1.995714\n",
       "std          1.408035\n",
       "min          0.000000\n",
       "25%          1.000000\n",
       "50%          2.000000\n",
       "75%          3.000000\n",
       "max          4.000000\n",
       "Name: NumDependents, dtype: float64"
      ]
     },
     "execution_count": 24,
     "metadata": {},
     "output_type": "execute_result"
    }
   ],
   "source": [
    "df['NumDependents'].describe()"
   ]
  },
  {
   "cell_type": "code",
   "execution_count": 25,
   "metadata": {},
   "outputs": [
    {
     "data": {
      "text/plain": [
       "np.int64(10958)"
      ]
     },
     "execution_count": 25,
     "metadata": {},
     "output_type": "execute_result"
    }
   ],
   "source": [
    "df[\"MerchantID\"].duplicated().sum()"
   ]
  },
  {
   "cell_type": "code",
   "execution_count": 26,
   "metadata": {},
   "outputs": [
    {
     "data": {
      "text/plain": [
       "IsFraud\n",
       "0    6971\n",
       "1    3995\n",
       "Name: count, dtype: int64"
      ]
     },
     "execution_count": 26,
     "metadata": {},
     "output_type": "execute_result"
    }
   ],
   "source": [
    "df['IsFraud'].value_counts()"
   ]
  },
  {
   "cell_type": "code",
   "execution_count": 27,
   "metadata": {},
   "outputs": [
    {
     "data": {
      "text/plain": [
       "count           10966\n",
       "unique           7718\n",
       "top       2911.07 GBP\n",
       "freq                6\n",
       "Name: GiftsTransaction, dtype: object"
      ]
     },
     "execution_count": 27,
     "metadata": {},
     "output_type": "execute_result"
    }
   ],
   "source": [
    "df['GiftsTransaction'].describe()"
   ]
  },
  {
   "cell_type": "code",
   "execution_count": 28,
   "metadata": {},
   "outputs": [
    {
     "data": {
      "text/plain": [
       "np.int64(0)"
      ]
     },
     "execution_count": 28,
     "metadata": {},
     "output_type": "execute_result"
    }
   ],
   "source": [
    "df['TransactionNumber'].duplicated().sum()\n"
   ]
  },
  {
   "cell_type": "code",
   "execution_count": 29,
   "metadata": {},
   "outputs": [
    {
     "data": {
      "text/plain": [
       "TransactionType\n",
       "Purchase      5440\n",
       "Transfer      2244\n",
       "Withdrawal    2159\n",
       "Payment       1123\n",
       "Name: count, dtype: int64"
      ]
     },
     "execution_count": 29,
     "metadata": {},
     "output_type": "execute_result"
    }
   ],
   "source": [
    "df['TransactionType'].value_counts()"
   ]
  },
  {
   "cell_type": "code",
   "execution_count": 30,
   "metadata": {},
   "outputs": [
    {
     "data": {
      "text/plain": [
       "count        10966\n",
       "unique        9851\n",
       "top       23:59:59\n",
       "freq           315\n",
       "Name: TransactionTime, dtype: object"
      ]
     },
     "execution_count": 30,
     "metadata": {},
     "output_type": "execute_result"
    }
   ],
   "source": [
    "df['TransactionTime'].describe()"
   ]
  },
  {
   "cell_type": "code",
   "execution_count": 31,
   "metadata": {},
   "outputs": [
    {
     "data": {
      "text/plain": [
       "count         10966\n",
       "unique        10510\n",
       "top       AU$ 30.61\n",
       "freq              4\n",
       "Name: TransactionAmount, dtype: object"
      ]
     },
     "execution_count": 31,
     "metadata": {},
     "output_type": "execute_result"
    }
   ],
   "source": [
    "df['TransactionAmount'].describe()"
   ]
  },
  {
   "cell_type": "code",
   "execution_count": 32,
   "metadata": {},
   "outputs": [
    {
     "data": {
      "text/plain": [
       "TransactionLocation\n",
       "Canberra         1380\n",
       "Darwin           1369\n",
       "Adelaide         1368\n",
       "Sydney           1349\n",
       "Hobart           1349\n",
       "Brisbane         1330\n",
       "Perth            1278\n",
       "Melbourne         984\n",
       "Melb               91\n",
       "melbourne          85\n",
       "Mel                76\n",
       "MLB                74\n",
       "Melburn            63\n",
       "perth              14\n",
       "BNE                13\n",
       "hobart             12\n",
       "brisbane           12\n",
       "Bne                12\n",
       "canberra            9\n",
       "CBR                 9\n",
       "SYD                 8\n",
       "DRW                 8\n",
       "Drw                 8\n",
       "Pth                 8\n",
       "PTH                 8\n",
       "Cbr                 7\n",
       "HBT                 6\n",
       "Syd                 6\n",
       "Adelaide City       6\n",
       "Adl                 6\n",
       "adl                 6\n",
       "sydney              5\n",
       "darwin              4\n",
       "Hbt                 3\n",
       "Name: count, dtype: int64"
      ]
     },
     "execution_count": 32,
     "metadata": {},
     "output_type": "execute_result"
    }
   ],
   "source": [
    "df['TransactionLocation'].value_counts()"
   ]
  },
  {
   "cell_type": "code",
   "execution_count": 33,
   "metadata": {},
   "outputs": [
    {
     "data": {
      "text/plain": [
       "count    10966.000000\n",
       "mean        60.786157\n",
       "std         34.254477\n",
       "min          1.000000\n",
       "25%         31.000000\n",
       "50%         61.000000\n",
       "75%         90.000000\n",
       "max        119.000000\n",
       "Name: UserTenure, dtype: float64"
      ]
     },
     "execution_count": 33,
     "metadata": {},
     "output_type": "execute_result"
    }
   ],
   "source": [
    "df['UserTenure'].describe()"
   ]
  },
  {
   "cell_type": "code",
   "execution_count": 34,
   "metadata": {},
   "outputs": [
    {
     "data": {
      "text/plain": [
       "DeviceType\n",
       "Mobile        4893\n",
       "Desktop       3325\n",
       "Tablet        1125\n",
       "galaxys7       344\n",
       "iphone 15      340\n",
       "android        338\n",
       "smartphone     306\n",
       "mob            295\n",
       "Name: count, dtype: int64"
      ]
     },
     "execution_count": 34,
     "metadata": {},
     "output_type": "execute_result"
    }
   ],
   "source": [
    "df['DeviceType'].value_counts()"
   ]
  },
  {
   "cell_type": "code",
   "execution_count": 35,
   "metadata": {},
   "outputs": [
    {
     "data": {
      "text/plain": [
       "<seaborn.axisgrid.PairGrid at 0x72c82bbcab40>"
      ]
     },
     "execution_count": 35,
     "metadata": {},
     "output_type": "execute_result"
    }
   ],
   "source": [
    "sns.pairplot(df) "
   ]
  },
  {
   "cell_type": "code",
   "execution_count": null,
   "metadata": {},
   "outputs": [],
   "source": []
  },
  {
   "cell_type": "markdown",
   "metadata": {},
   "source": [
    "# Encoding"
   ]
  },
  {
   "cell_type": "code",
   "execution_count": 35,
   "metadata": {},
   "outputs": [
    {
     "data": {
      "text/plain": [
       "Gender\n",
       "Male           4887\n",
       "Female         4426\n",
       "isnotfemale     292\n",
       "he              268\n",
       "man             263\n",
       "fem             220\n",
       "she             207\n",
       "woman           206\n",
       "isnotmale       197\n",
       "Name: count, dtype: int64"
      ]
     },
     "execution_count": 35,
     "metadata": {},
     "output_type": "execute_result"
    }
   ],
   "source": [
    "# Gender cleansing:\n",
    "\n",
    "df['Gender'].value_counts()"
   ]
  },
  {
   "cell_type": "code",
   "execution_count": 36,
   "metadata": {},
   "outputs": [
    {
     "data": {
      "text/plain": [
       "Gender\n",
       "Male      5710\n",
       "Female    5256\n",
       "Name: count, dtype: int64"
      ]
     },
     "execution_count": 36,
     "metadata": {},
     "output_type": "execute_result"
    }
   ],
   "source": [
    "gender_correction = {\"isnotfemale\": \"Male\", \"he\": \"Male\", \"he\": \"Male\", \"man\": \"Male\", \"man\": \"Male\",\"fem\": \"Female\", \"she\":\"Female\",\"woman\":\"Female\",\"isnotmale\":\"Female\"}\n",
    "df['Gender']=df['Gender'].replace(gender_correction)\n",
    "df['Gender'].value_counts()\n"
   ]
  },
  {
   "cell_type": "code",
   "execution_count": 37,
   "metadata": {},
   "outputs": [
    {
     "name": "stderr",
     "output_type": "stream",
     "text": [
      "/var/folders/r8/5x111tps1gd9t6d1d3qv3ndw0000gn/T/ipykernel_56277/3732448866.py:1: FutureWarning: Downcasting behavior in `replace` is deprecated and will be removed in a future version. To retain the old behavior, explicitly call `result.infer_objects(copy=False)`. To opt-in to the future behavior, set `pd.set_option('future.no_silent_downcasting', True)`\n",
      "  df[\"Gender\"] = df[\"Gender\"].replace({\"Male\": 0, \"Female\": 1})\n"
     ]
    }
   ],
   "source": [
    "df[\"Gender\"] = df[\"Gender\"].replace({\"Male\": 0, \"Female\": 1})"
   ]
  },
  {
   "cell_type": "code",
   "execution_count": 38,
   "metadata": {},
   "outputs": [
    {
     "data": {
      "text/plain": [
       "Occupation\n",
       "Professional    5384\n",
       "Student         3321\n",
       "Unemployed      1151\n",
       "Retired         1110\n",
       "Name: count, dtype: int64"
      ]
     },
     "execution_count": 38,
     "metadata": {},
     "output_type": "execute_result"
    }
   ],
   "source": [
    "df['Occupation'].value_counts()"
   ]
  },
  {
   "cell_type": "code",
   "execution_count": 39,
   "metadata": {},
   "outputs": [
    {
     "name": "stderr",
     "output_type": "stream",
     "text": [
      "/var/folders/r8/5x111tps1gd9t6d1d3qv3ndw0000gn/T/ipykernel_56277/2217682057.py:1: FutureWarning: Downcasting behavior in `replace` is deprecated and will be removed in a future version. To retain the old behavior, explicitly call `result.infer_objects(copy=False)`. To opt-in to the future behavior, set `pd.set_option('future.no_silent_downcasting', True)`\n",
      "  df[\"Occupation\"] = df[\"Occupation\"].replace({\"Student\": 0,\"Unemployed\":1, \"Professional\":2,\"Retired\":3})\n"
     ]
    },
    {
     "data": {
      "text/plain": [
       "Occupation\n",
       "2    5384\n",
       "0    3321\n",
       "1    1151\n",
       "3    1110\n",
       "Name: count, dtype: int64"
      ]
     },
     "execution_count": 39,
     "metadata": {},
     "output_type": "execute_result"
    }
   ],
   "source": [
    "df[\"Occupation\"] = df[\"Occupation\"].replace({\"Student\": 0,\"Unemployed\":1, \"Professional\":2,\"Retired\":3})\n",
    "df['Occupation'].value_counts()"
   ]
  },
  {
   "cell_type": "code",
   "execution_count": 40,
   "metadata": {},
   "outputs": [
    {
     "data": {
      "text/plain": [
       "EducationLevel\n",
       "Bachelor       4367\n",
       "High School    4331\n",
       "Master         1641\n",
       "PhD             627\n",
       "Name: count, dtype: int64"
      ]
     },
     "execution_count": 40,
     "metadata": {},
     "output_type": "execute_result"
    }
   ],
   "source": [
    "df['EducationLevel'].value_counts()"
   ]
  },
  {
   "cell_type": "code",
   "execution_count": 41,
   "metadata": {},
   "outputs": [
    {
     "name": "stderr",
     "output_type": "stream",
     "text": [
      "/var/folders/r8/5x111tps1gd9t6d1d3qv3ndw0000gn/T/ipykernel_56277/4197273118.py:1: FutureWarning: Downcasting behavior in `replace` is deprecated and will be removed in a future version. To retain the old behavior, explicitly call `result.infer_objects(copy=False)`. To opt-in to the future behavior, set `pd.set_option('future.no_silent_downcasting', True)`\n",
      "  df[\"EducationLevel\"] = df[\"EducationLevel\"].replace({\"High School\": 0,\"Bachelor\":1, \"Master\":2,\"PhD\":3})\n"
     ]
    },
    {
     "data": {
      "text/plain": [
       "EducationLevel\n",
       "1    4367\n",
       "0    4331\n",
       "2    1641\n",
       "3     627\n",
       "Name: count, dtype: int64"
      ]
     },
     "execution_count": 41,
     "metadata": {},
     "output_type": "execute_result"
    }
   ],
   "source": [
    "df[\"EducationLevel\"] = df[\"EducationLevel\"].replace({\"High School\": 0,\"Bachelor\":1, \"Master\":2,\"PhD\":3})\n",
    "df['EducationLevel'].value_counts()"
   ]
  },
  {
   "cell_type": "code",
   "execution_count": 42,
   "metadata": {},
   "outputs": [
    {
     "data": {
      "text/plain": [
       "MaritalStatus\n",
       "Married     5366\n",
       "Single      4418\n",
       "Divorced     626\n",
       "Widowed      556\n",
       "Name: count, dtype: int64"
      ]
     },
     "execution_count": 42,
     "metadata": {},
     "output_type": "execute_result"
    }
   ],
   "source": [
    "df['MaritalStatus'].value_counts()"
   ]
  },
  {
   "cell_type": "code",
   "execution_count": 43,
   "metadata": {},
   "outputs": [
    {
     "name": "stderr",
     "output_type": "stream",
     "text": [
      "/var/folders/r8/5x111tps1gd9t6d1d3qv3ndw0000gn/T/ipykernel_56277/885268059.py:1: FutureWarning: Downcasting behavior in `replace` is deprecated and will be removed in a future version. To retain the old behavior, explicitly call `result.infer_objects(copy=False)`. To opt-in to the future behavior, set `pd.set_option('future.no_silent_downcasting', True)`\n",
      "  df[\"MaritalStatus\"] = df[\"MaritalStatus\"].replace({\"Married\": 0,\"Single\":1, \"Divorced\":2,\"Widowed\":3})\n"
     ]
    },
    {
     "data": {
      "text/plain": [
       "MaritalStatus\n",
       "0    5366\n",
       "1    4418\n",
       "2     626\n",
       "3     556\n",
       "Name: count, dtype: int64"
      ]
     },
     "execution_count": 43,
     "metadata": {},
     "output_type": "execute_result"
    }
   ],
   "source": [
    "df[\"MaritalStatus\"] = df[\"MaritalStatus\"].replace({\"Married\": 0,\"Single\":1, \"Divorced\":2,\"Widowed\":3})\n",
    "df['MaritalStatus'].value_counts()"
   ]
  },
  {
   "cell_type": "code",
   "execution_count": 44,
   "metadata": {},
   "outputs": [
    {
     "data": {
      "text/plain": [
       "TransactionType\n",
       "Purchase      5440\n",
       "Transfer      2244\n",
       "Withdrawal    2159\n",
       "Payment       1123\n",
       "Name: count, dtype: int64"
      ]
     },
     "execution_count": 44,
     "metadata": {},
     "output_type": "execute_result"
    }
   ],
   "source": [
    "df['TransactionType'].value_counts()"
   ]
  },
  {
   "cell_type": "code",
   "execution_count": 46,
   "metadata": {},
   "outputs": [
    {
     "name": "stderr",
     "output_type": "stream",
     "text": [
      "/var/folders/r8/5x111tps1gd9t6d1d3qv3ndw0000gn/T/ipykernel_56277/1956010274.py:1: FutureWarning: Downcasting behavior in `replace` is deprecated and will be removed in a future version. To retain the old behavior, explicitly call `result.infer_objects(copy=False)`. To opt-in to the future behavior, set `pd.set_option('future.no_silent_downcasting', True)`\n",
      "  df[\"TransactionType\"] = df[\"TransactionType\"].replace({\"Purchase\": 0,\"Transfer\":1, \"Withdrawal\":2,\"Payment\":3})\n"
     ]
    },
    {
     "data": {
      "text/plain": [
       "TransactionType\n",
       "0    5440\n",
       "1    2244\n",
       "2    2159\n",
       "3    1123\n",
       "Name: count, dtype: int64"
      ]
     },
     "execution_count": 46,
     "metadata": {},
     "output_type": "execute_result"
    }
   ],
   "source": [
    "df[\"TransactionType\"] = df[\"TransactionType\"].replace({\"Purchase\": 0,\"Transfer\":1, \"Withdrawal\":2,\"Payment\":3})\n",
    "df['TransactionType'].value_counts()"
   ]
  },
  {
   "cell_type": "code",
   "execution_count": 47,
   "metadata": {},
   "outputs": [
    {
     "data": {
      "text/plain": [
       "DeviceType\n",
       "Mobile        4893\n",
       "Desktop       3325\n",
       "Tablet        1125\n",
       "galaxys7       344\n",
       "iphone 15      340\n",
       "android        338\n",
       "smartphone     306\n",
       "mob            295\n",
       "Name: count, dtype: int64"
      ]
     },
     "execution_count": 47,
     "metadata": {},
     "output_type": "execute_result"
    }
   ],
   "source": [
    "df['DeviceType'].value_counts()"
   ]
  },
  {
   "cell_type": "code",
   "execution_count": 49,
   "metadata": {},
   "outputs": [
    {
     "data": {
      "text/plain": [
       "DeviceType\n",
       "Mobile     6516\n",
       "Desktop    3325\n",
       "Tablet     1125\n",
       "Name: count, dtype: int64"
      ]
     },
     "execution_count": 49,
     "metadata": {},
     "output_type": "execute_result"
    }
   ],
   "source": [
    "df[\"DeviceType\"] = df[\"DeviceType\"].replace({\"galaxys7\": \"Mobile\",\"iphone 15\":\"Mobile\", \"android\":\"Mobile\",\"smartphone\":\"Mobile\",\"mob\":\"Mobile\"})\n",
    "df[\"DeviceType\"].value_counts()\n"
   ]
  },
  {
   "cell_type": "code",
   "execution_count": 52,
   "metadata": {},
   "outputs": [
    {
     "data": {
      "text/plain": [
       "DeviceType\n",
       "0    6516\n",
       "1    3325\n",
       "2    1125\n",
       "Name: count, dtype: int64"
      ]
     },
     "execution_count": 52,
     "metadata": {},
     "output_type": "execute_result"
    }
   ],
   "source": [
    "df[\"DeviceType\"] = df[\"DeviceType\"].replace({\"Mobile\":0,\"Desktop\":1,\"Tablet\":2})\n",
    "df[\"DeviceType\"].value_counts()"
   ]
  },
  {
   "cell_type": "markdown",
   "metadata": {},
   "source": [
    "# Convert date time and other numeric data"
   ]
  },
  {
   "cell_type": "code",
   "execution_count": 56,
   "metadata": {},
   "outputs": [],
   "source": [
    "df[\"TransactionDate\"] =pd.to_datetime(df[\"TransactionDate\"])"
   ]
  },
  {
   "cell_type": "code",
   "execution_count": null,
   "metadata": {},
   "outputs": [],
   "source": [
    "df[\"TransactionLocationCleaned\"]=df[\"TransactionLocation\"].str.upper()\n",
    "\n",
    "mapping = {\"MELB\":\"MELBOURNE\", \"MEL\":\"MELBOURNE\", \"MLB\":\"MELBOURNE\", \"MELBURN\" : \"MELBOURNE\",\n",
    "           \"BNE\":\"BRISBANE\", \n",
    "           \"DRW\": \"DARWIN\",\n",
    "           \"CBR\":\"CANBERRA\",\n",
    "           \"PTH\":\"PERTH\",\n",
    "           \"SYD\":\"SYDNEY\",\n",
    "           \"ADL\":\"ADELAIDE\", \"ADELAIDE CITY\":\"ADELAIDE\",\n",
    "           \"HBT\":\"HOBART\"}\n",
    "\n",
    "df[\"TransactionLocationCleaned\"] = df[\"TransactionLocationCleaned\"].map(mapping)"
   ]
  },
  {
   "cell_type": "markdown",
   "metadata": {},
   "source": [
    "## Converting all values in 'Expenditure'  to float64 and to AUD Equivalent"
   ]
  },
  {
   "cell_type": "code",
   "execution_count": null,
   "metadata": {},
   "outputs": [],
   "source": [
    "df_Expenditure = df[\"Expenditure\"]\n",
    "df['Expenditure']"
   ]
  },
  {
   "cell_type": "code",
   "execution_count": null,
   "metadata": {},
   "outputs": [],
   "source": [
    "import re\n",
    "\n",
    "# Exchange Rates\n",
    "exchange_rates = {\n",
    "    'AED': 0.42,  # 1 AED = 0.42 AUD\n",
    "    'USD': 1.56,  # 1 USD = 1.56 AUD\n",
    "    'AU$': 1.00,  # AU$ is already in AUD\n",
    "    'AUD': 1.00   # AUD is the target currency\n",
    "}\n",
    "\n",
    "# Step 1: Split the 'Expenditure' column into 'Expenditure_curr' and 'Expenditure_amt'\n",
    "# We use a regex pattern to extract currency symbols and amounts\n",
    "def split_expenditure(value):\n",
    "    # Extract currency (either at the start or end of the string)\n",
    "    currency_match = re.search(r'([A-Z]{2,3}|\\AU\\$|£)', value)  # Match 2-3 capital letters or 'AU$'\n",
    "    \n",
    "    if currency_match:\n",
    "        currency = currency_match.group(0)\n",
    "        # Remove any commas, spaces, or currency symbols from the amount\n",
    "        amount = re.sub(r'[^\\d.]', '', value)\n",
    "        return pd.Series([currency, float(amount)])\n",
    "    else:\n",
    "        # If no known currency symbol is found, return NaN\n",
    "        return pd.Series([np.nan, np.nan])\n",
    "\n",
    "# Apply the split function to the 'Expenditure' column\n",
    "df[['Expenditure_curr', 'Expenditure_amt']] = df['Expenditure'].apply(split_expenditure)\n"
   ]
  },
  {
   "cell_type": "code",
   "execution_count": null,
   "metadata": {},
   "outputs": [],
   "source": [
    "# Step 2: Ensure all currency information is correctly placed in 'Expenditure_curr'\n",
    "# (this is already handled by the split function)\n",
    "\n",
    "# Step 3: Convert all amounts to AUD\n",
    "def convert_to_aud(currency, amount):\n",
    "    # Check if the currency exists in the exchange rates dictionary\n",
    "    if currency in exchange_rates:\n",
    "        return amount * exchange_rates[currency]\n",
    "    else:\n",
    "        # If currency is unknown, assume it's USD or return NaN\n",
    "        return amount * 1.96  # Default conversion assuming USD-like\n"
   ]
  },
  {
   "cell_type": "code",
   "execution_count": null,
   "metadata": {},
   "outputs": [],
   "source": [
    "# Apply the conversion function\n",
    "df['Expenditure_AUD'] = df.apply(lambda x: convert_to_aud(x['Expenditure_curr'], x['Expenditure_amt']), axis=1)\n",
    "df"
   ]
  },
  {
   "cell_type": "code",
   "execution_count": null,
   "metadata": {},
   "outputs": [],
   "source": [
    "# Boxplot to check for outliers and get statistical view\n",
    "\n",
    "import seaborn as sns\n",
    "import matplotlib.pyplot as plt\n",
    "\n",
    "# Create subplots for each column\n",
    "fig, axes = plt.subplots(1, 5, figsize=(20, 5))\n",
    "\n",
    "# List of columns to plot\n",
    "columns = ['Age', 'NumDependents', 'Latitude', 'Longitude', 'UserTenure', 'TransactionAmount', 'GiftsTransaction', 'Expenditure', 'Income']\n",
    "\n",
    "# Loop through each column and create a boxplot\n",
    "for i, col in enumerate(columns):\n",
    "    sns.boxplot(y=df[col], ax=axes[i], color=\"skyblue\")\n",
    "    axes[i].set_title(f'Boxplot of {col}')\n",
    "\n",
    "plt.tight_layout()\n",
    "plt.show()"
   ]
  },
  {
   "cell_type": "code",
   "execution_count": null,
   "metadata": {},
   "outputs": [],
   "source": [
    "# Function to detect outliers using IQR\n",
    "def detect_outliers_iqr(df, column):\n",
    "    Q1 = df[column].quantile(0.25)\n",
    "    Q3 = df[column].quantile(0.75)\n",
    "    IQR = Q3 - Q1\n",
    "    lower_bound = Q1 - 1.5 * IQR\n",
    "    upper_bound = Q3 + 1.5 * IQR\n",
    "    return df[(df[column] < lower_bound) | (df[column] > upper_bound)]"
   ]
  },
  {
   "cell_type": "code",
   "execution_count": null,
   "metadata": {},
   "outputs": [],
   "source": [
    "def remove_outliers_iqr(df, column):\n",
    "    Q1 = df[column].quantile(0.25)\n",
    "    Q3 = df[column].quantile(0.75)\n",
    "    IQR = Q3 - Q1\n",
    "    lower_bound = Q1 - 1.5 * IQR\n",
    "    upper_bound = Q3 + 1.5 * IQR\n",
    "    return df[(df[column] >= lower_bound) & (df[column] <= upper_bound)]"
   ]
  },
  {
   "cell_type": "code",
   "execution_count": null,
   "metadata": {},
   "outputs": [],
   "source": [
    "for col in ['Age']:\n",
    "    outliers = detect_outliers_iqr(df, col)\n",
    "    print(f\"Outliers in {col}:\\n\", outliers)"
   ]
  },
  {
   "cell_type": "code",
   "execution_count": null,
   "metadata": {},
   "outputs": [],
   "source": [
    "df_cleaned = remove_outliers_iqr(df, 'Age')\n",
    "print(\"Dataset shape after removing outliers in 'Age':\", df_cleaned.shape)"
   ]
  }
 ],
 "metadata": {
  "kernelspec": {
   "display_name": "Python 3",
   "language": "python",
   "name": "python3"
  },
  "language_info": {
   "codemirror_mode": {
    "name": "ipython",
    "version": 3
   },
   "file_extension": ".py",
   "mimetype": "text/x-python",
   "name": "python",
   "nbconvert_exporter": "python",
   "pygments_lexer": "ipython3",
   "version": "3.12.1"
  }
 },
 "nbformat": 4,
 "nbformat_minor": 2
}
