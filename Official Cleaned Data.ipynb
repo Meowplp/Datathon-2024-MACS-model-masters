{
 "cells": [
  {
   "cell_type": "markdown",
   "metadata": {},
   "source": [
    "# I. EDA\n",
    "\n",
    "## I.I> Training Data\n",
    "\n",
    "### 1> Load the data"
   ]
  },
  {
   "cell_type": "code",
   "execution_count": 2,
   "metadata": {},
   "outputs": [
    {
     "name": "stderr",
     "output_type": "stream",
     "text": [
      "/var/folders/r8/5x111tps1gd9t6d1d3qv3ndw0000gn/T/ipykernel_9406/2967583135.py:1: DeprecationWarning: \n",
      "Pyarrow will become a required dependency of pandas in the next major release of pandas (pandas 3.0),\n",
      "(to allow more performant data types, such as the Arrow string type, and better interoperability with other libraries)\n",
      "but was not found to be installed on your system.\n",
      "If this would cause problems for you,\n",
      "please provide us feedback at https://github.com/pandas-dev/pandas/issues/54466\n",
      "        \n",
      "  import pandas as pd\n"
     ]
    }
   ],
   "source": [
    "import pandas as pd\n",
    "import matplotlib.pyplot as plt\n",
    "import seaborn as sns \n",
    "import numpy as np\n",
    "%matplotlib inline\n",
    "import re"
   ]
  },
  {
   "cell_type": "code",
   "execution_count": 3,
   "metadata": {},
   "outputs": [
    {
     "data": {
      "text/html": [
       "<div>\n",
       "<style scoped>\n",
       "    .dataframe tbody tr th:only-of-type {\n",
       "        vertical-align: middle;\n",
       "    }\n",
       "\n",
       "    .dataframe tbody tr th {\n",
       "        vertical-align: top;\n",
       "    }\n",
       "\n",
       "    .dataframe thead th {\n",
       "        text-align: right;\n",
       "    }\n",
       "</style>\n",
       "<table border=\"1\" class=\"dataframe\">\n",
       "  <thead>\n",
       "    <tr style=\"text-align: right;\">\n",
       "      <th></th>\n",
       "      <th>TransactionNumber</th>\n",
       "      <th>UserID</th>\n",
       "      <th>Age</th>\n",
       "      <th>Gender</th>\n",
       "      <th>Occupation</th>\n",
       "      <th>EducationLevel</th>\n",
       "      <th>MaritalStatus</th>\n",
       "      <th>NumDependents</th>\n",
       "      <th>Income</th>\n",
       "      <th>Expenditure</th>\n",
       "      <th>...</th>\n",
       "      <th>MerchantID</th>\n",
       "      <th>TransactionType</th>\n",
       "      <th>TransactionLocation</th>\n",
       "      <th>DeviceType</th>\n",
       "      <th>Latitude</th>\n",
       "      <th>Longitude</th>\n",
       "      <th>EmailDomain</th>\n",
       "      <th>Terrorism</th>\n",
       "      <th>UserTenure</th>\n",
       "      <th>IsFraud</th>\n",
       "    </tr>\n",
       "  </thead>\n",
       "  <tbody>\n",
       "    <tr>\n",
       "      <th>0</th>\n",
       "      <td>8765</td>\n",
       "      <td>70</td>\n",
       "      <td>37</td>\n",
       "      <td>Female</td>\n",
       "      <td>Professional</td>\n",
       "      <td>Bachelor</td>\n",
       "      <td>Widowed</td>\n",
       "      <td>3</td>\n",
       "      <td>28884.43 AUD</td>\n",
       "      <td>14610.61 AUD</td>\n",
       "      <td>...</td>\n",
       "      <td>M006</td>\n",
       "      <td>Withdrawal</td>\n",
       "      <td>Adelaide</td>\n",
       "      <td>Mobile</td>\n",
       "      <td>-31.840233</td>\n",
       "      <td>145.612793</td>\n",
       "      <td>jon44@disposable.com</td>\n",
       "      <td>False</td>\n",
       "      <td>113</td>\n",
       "      <td>1</td>\n",
       "    </tr>\n",
       "    <tr>\n",
       "      <th>1</th>\n",
       "      <td>9645</td>\n",
       "      <td>3386</td>\n",
       "      <td>34</td>\n",
       "      <td>Male</td>\n",
       "      <td>Student</td>\n",
       "      <td>High School</td>\n",
       "      <td>Married</td>\n",
       "      <td>4</td>\n",
       "      <td>AU$ 54919.07</td>\n",
       "      <td>39169.49 AUD</td>\n",
       "      <td>...</td>\n",
       "      <td>M002</td>\n",
       "      <td>Withdrawal</td>\n",
       "      <td>Canberra</td>\n",
       "      <td>Mobile</td>\n",
       "      <td>-37.020100</td>\n",
       "      <td>144.964600</td>\n",
       "      <td>emilyreese@gmail.com</td>\n",
       "      <td>False</td>\n",
       "      <td>104</td>\n",
       "      <td>1</td>\n",
       "    </tr>\n",
       "    <tr>\n",
       "      <th>2</th>\n",
       "      <td>1145</td>\n",
       "      <td>2971</td>\n",
       "      <td>25</td>\n",
       "      <td>Male</td>\n",
       "      <td>Unemployed</td>\n",
       "      <td>Master</td>\n",
       "      <td>Married</td>\n",
       "      <td>2</td>\n",
       "      <td>AU$ 74728.57</td>\n",
       "      <td>55873.76 AUD</td>\n",
       "      <td>...</td>\n",
       "      <td>M008</td>\n",
       "      <td>Purchase</td>\n",
       "      <td>Brisbane</td>\n",
       "      <td>Mobile</td>\n",
       "      <td>-31.840233</td>\n",
       "      <td>145.612793</td>\n",
       "      <td>fordevan@gmail.com</td>\n",
       "      <td>False</td>\n",
       "      <td>105</td>\n",
       "      <td>0</td>\n",
       "    </tr>\n",
       "    <tr>\n",
       "      <th>3</th>\n",
       "      <td>15308</td>\n",
       "      <td>2925</td>\n",
       "      <td>25</td>\n",
       "      <td>Male</td>\n",
       "      <td>Professional</td>\n",
       "      <td>High School</td>\n",
       "      <td>Married</td>\n",
       "      <td>3</td>\n",
       "      <td>AU$ 55712.62</td>\n",
       "      <td>AED 89649.04</td>\n",
       "      <td>...</td>\n",
       "      <td>M001</td>\n",
       "      <td>Purchase</td>\n",
       "      <td>Darwin</td>\n",
       "      <td>iphone 15</td>\n",
       "      <td>-37.020100</td>\n",
       "      <td>144.964600</td>\n",
       "      <td>kathleenlewis@tempmail.com</td>\n",
       "      <td>False</td>\n",
       "      <td>70</td>\n",
       "      <td>1</td>\n",
       "    </tr>\n",
       "    <tr>\n",
       "      <th>4</th>\n",
       "      <td>14967</td>\n",
       "      <td>2339</td>\n",
       "      <td>38</td>\n",
       "      <td>Male</td>\n",
       "      <td>Professional</td>\n",
       "      <td>High School</td>\n",
       "      <td>Single</td>\n",
       "      <td>4</td>\n",
       "      <td>53004.7 AUD</td>\n",
       "      <td>AED 43601.02</td>\n",
       "      <td>...</td>\n",
       "      <td>M001</td>\n",
       "      <td>Withdrawal</td>\n",
       "      <td>MLB</td>\n",
       "      <td>Tablet</td>\n",
       "      <td>-37.020100</td>\n",
       "      <td>144.964600</td>\n",
       "      <td>kristinawhite@gmail.com</td>\n",
       "      <td>False</td>\n",
       "      <td>27</td>\n",
       "      <td>0</td>\n",
       "    </tr>\n",
       "  </tbody>\n",
       "</table>\n",
       "<p>5 rows × 24 columns</p>\n",
       "</div>"
      ],
      "text/plain": [
       "   TransactionNumber  UserID  Age  Gender    Occupation EducationLevel  \\\n",
       "0               8765      70   37  Female  Professional       Bachelor   \n",
       "1               9645    3386   34    Male       Student    High School   \n",
       "2               1145    2971   25    Male    Unemployed         Master   \n",
       "3              15308    2925   25    Male  Professional    High School   \n",
       "4              14967    2339   38    Male  Professional    High School   \n",
       "\n",
       "  MaritalStatus  NumDependents        Income   Expenditure  ... MerchantID  \\\n",
       "0       Widowed              3  28884.43 AUD  14610.61 AUD  ...       M006   \n",
       "1       Married              4  AU$ 54919.07  39169.49 AUD  ...       M002   \n",
       "2       Married              2  AU$ 74728.57  55873.76 AUD  ...       M008   \n",
       "3       Married              3  AU$ 55712.62  AED 89649.04  ...       M001   \n",
       "4        Single              4   53004.7 AUD  AED 43601.02  ...       M001   \n",
       "\n",
       "  TransactionType TransactionLocation DeviceType   Latitude   Longitude  \\\n",
       "0      Withdrawal            Adelaide     Mobile -31.840233  145.612793   \n",
       "1      Withdrawal            Canberra     Mobile -37.020100  144.964600   \n",
       "2        Purchase            Brisbane     Mobile -31.840233  145.612793   \n",
       "3        Purchase              Darwin  iphone 15 -37.020100  144.964600   \n",
       "4      Withdrawal                 MLB     Tablet -37.020100  144.964600   \n",
       "\n",
       "                  EmailDomain Terrorism  UserTenure  IsFraud  \n",
       "0        jon44@disposable.com     False         113        1  \n",
       "1        emilyreese@gmail.com     False         104        1  \n",
       "2          fordevan@gmail.com     False         105        0  \n",
       "3  kathleenlewis@tempmail.com     False          70        1  \n",
       "4     kristinawhite@gmail.com     False          27        0  \n",
       "\n",
       "[5 rows x 24 columns]"
      ]
     },
     "execution_count": 3,
     "metadata": {},
     "output_type": "execute_result"
    }
   ],
   "source": [
    "# Load the dataset\n",
    "df = pd.read_csv(\"./train.csv\")\n",
    "df.head()"
   ]
  },
  {
   "cell_type": "code",
   "execution_count": 4,
   "metadata": {},
   "outputs": [
    {
     "name": "stdout",
     "output_type": "stream",
     "text": [
      "<class 'pandas.core.frame.DataFrame'>\n",
      "RangeIndex: 10966 entries, 0 to 10965\n",
      "Data columns (total 24 columns):\n",
      " #   Column               Non-Null Count  Dtype  \n",
      "---  ------               --------------  -----  \n",
      " 0   TransactionNumber    10966 non-null  int64  \n",
      " 1   UserID               10966 non-null  int64  \n",
      " 2   Age                  10966 non-null  int64  \n",
      " 3   Gender               10966 non-null  object \n",
      " 4   Occupation           10966 non-null  object \n",
      " 5   EducationLevel       10966 non-null  object \n",
      " 6   MaritalStatus        10966 non-null  object \n",
      " 7   NumDependents        10966 non-null  int64  \n",
      " 8   Income               10966 non-null  object \n",
      " 9   Expenditure          10966 non-null  object \n",
      " 10  GiftsTransaction     10966 non-null  object \n",
      " 11  TransactionDate      10966 non-null  object \n",
      " 12  TransactionTime      10966 non-null  object \n",
      " 13  TransactionAmount    10966 non-null  object \n",
      " 14  MerchantID           10966 non-null  object \n",
      " 15  TransactionType      10966 non-null  object \n",
      " 16  TransactionLocation  10966 non-null  object \n",
      " 17  DeviceType           10966 non-null  object \n",
      " 18  Latitude             10923 non-null  float64\n",
      " 19  Longitude            10923 non-null  float64\n",
      " 20  EmailDomain          10966 non-null  object \n",
      " 21  Terrorism            10966 non-null  bool   \n",
      " 22  UserTenure           10966 non-null  int64  \n",
      " 23  IsFraud              10966 non-null  int64  \n",
      "dtypes: bool(1), float64(2), int64(6), object(15)\n",
      "memory usage: 1.9+ MB\n"
     ]
    }
   ],
   "source": [
    "df.info()"
   ]
  },
  {
   "cell_type": "markdown",
   "metadata": {},
   "source": [
    "There are many columns that should be numeric data, and considered as object. Thus, data conversion is required."
   ]
  },
  {
   "cell_type": "code",
   "execution_count": 5,
   "metadata": {},
   "outputs": [
    {
     "data": {
      "text/html": [
       "<div>\n",
       "<style scoped>\n",
       "    .dataframe tbody tr th:only-of-type {\n",
       "        vertical-align: middle;\n",
       "    }\n",
       "\n",
       "    .dataframe tbody tr th {\n",
       "        vertical-align: top;\n",
       "    }\n",
       "\n",
       "    .dataframe thead th {\n",
       "        text-align: right;\n",
       "    }\n",
       "</style>\n",
       "<table border=\"1\" class=\"dataframe\">\n",
       "  <thead>\n",
       "    <tr style=\"text-align: right;\">\n",
       "      <th></th>\n",
       "      <th>TransactionNumber</th>\n",
       "      <th>UserID</th>\n",
       "      <th>Age</th>\n",
       "      <th>NumDependents</th>\n",
       "      <th>Latitude</th>\n",
       "      <th>Longitude</th>\n",
       "      <th>UserTenure</th>\n",
       "      <th>IsFraud</th>\n",
       "    </tr>\n",
       "  </thead>\n",
       "  <tbody>\n",
       "    <tr>\n",
       "      <th>count</th>\n",
       "      <td>10966.000000</td>\n",
       "      <td>10966.000000</td>\n",
       "      <td>10966.000000</td>\n",
       "      <td>10966.000000</td>\n",
       "      <td>10923.000000</td>\n",
       "      <td>10923.000000</td>\n",
       "      <td>10966.000000</td>\n",
       "      <td>10966.000000</td>\n",
       "    </tr>\n",
       "    <tr>\n",
       "      <th>mean</th>\n",
       "      <td>9117.500091</td>\n",
       "      <td>2483.885282</td>\n",
       "      <td>2751.845887</td>\n",
       "      <td>1.995714</td>\n",
       "      <td>-30.363255</td>\n",
       "      <td>141.254786</td>\n",
       "      <td>60.786157</td>\n",
       "      <td>0.364308</td>\n",
       "    </tr>\n",
       "    <tr>\n",
       "      <th>std</th>\n",
       "      <td>5293.669640</td>\n",
       "      <td>1429.402615</td>\n",
       "      <td>9730.988917</td>\n",
       "      <td>1.408035</td>\n",
       "      <td>6.962819</td>\n",
       "      <td>11.268395</td>\n",
       "      <td>34.254477</td>\n",
       "      <td>0.481257</td>\n",
       "    </tr>\n",
       "    <tr>\n",
       "      <th>min</th>\n",
       "      <td>1.000000</td>\n",
       "      <td>1.000000</td>\n",
       "      <td>-68.000000</td>\n",
       "      <td>0.000000</td>\n",
       "      <td>-41.640079</td>\n",
       "      <td>-112.026050</td>\n",
       "      <td>1.000000</td>\n",
       "      <td>0.000000</td>\n",
       "    </tr>\n",
       "    <tr>\n",
       "      <th>25%</th>\n",
       "      <td>4516.250000</td>\n",
       "      <td>1253.000000</td>\n",
       "      <td>26.000000</td>\n",
       "      <td>1.000000</td>\n",
       "      <td>-37.020100</td>\n",
       "      <td>142.702789</td>\n",
       "      <td>31.000000</td>\n",
       "      <td>0.000000</td>\n",
       "    </tr>\n",
       "    <tr>\n",
       "      <th>50%</th>\n",
       "      <td>9120.500000</td>\n",
       "      <td>2471.000000</td>\n",
       "      <td>34.000000</td>\n",
       "      <td>2.000000</td>\n",
       "      <td>-31.840233</td>\n",
       "      <td>144.964600</td>\n",
       "      <td>61.000000</td>\n",
       "      <td>0.000000</td>\n",
       "    </tr>\n",
       "    <tr>\n",
       "      <th>75%</th>\n",
       "      <td>13710.750000</td>\n",
       "      <td>3727.000000</td>\n",
       "      <td>43.000000</td>\n",
       "      <td>3.000000</td>\n",
       "      <td>-25.042261</td>\n",
       "      <td>145.612793</td>\n",
       "      <td>90.000000</td>\n",
       "      <td>1.000000</td>\n",
       "    </tr>\n",
       "    <tr>\n",
       "      <th>max</th>\n",
       "      <td>18277.000000</td>\n",
       "      <td>5000.000000</td>\n",
       "      <td>67000.000000</td>\n",
       "      <td>4.000000</td>\n",
       "      <td>57.851580</td>\n",
       "      <td>149.012375</td>\n",
       "      <td>119.000000</td>\n",
       "      <td>1.000000</td>\n",
       "    </tr>\n",
       "  </tbody>\n",
       "</table>\n",
       "</div>"
      ],
      "text/plain": [
       "       TransactionNumber        UserID           Age  NumDependents  \\\n",
       "count       10966.000000  10966.000000  10966.000000   10966.000000   \n",
       "mean         9117.500091   2483.885282   2751.845887       1.995714   \n",
       "std          5293.669640   1429.402615   9730.988917       1.408035   \n",
       "min             1.000000      1.000000    -68.000000       0.000000   \n",
       "25%          4516.250000   1253.000000     26.000000       1.000000   \n",
       "50%          9120.500000   2471.000000     34.000000       2.000000   \n",
       "75%         13710.750000   3727.000000     43.000000       3.000000   \n",
       "max         18277.000000   5000.000000  67000.000000       4.000000   \n",
       "\n",
       "           Latitude     Longitude    UserTenure       IsFraud  \n",
       "count  10923.000000  10923.000000  10966.000000  10966.000000  \n",
       "mean     -30.363255    141.254786     60.786157      0.364308  \n",
       "std        6.962819     11.268395     34.254477      0.481257  \n",
       "min      -41.640079   -112.026050      1.000000      0.000000  \n",
       "25%      -37.020100    142.702789     31.000000      0.000000  \n",
       "50%      -31.840233    144.964600     61.000000      0.000000  \n",
       "75%      -25.042261    145.612793     90.000000      1.000000  \n",
       "max       57.851580    149.012375    119.000000      1.000000  "
      ]
     },
     "execution_count": 5,
     "metadata": {},
     "output_type": "execute_result"
    }
   ],
   "source": [
    "df.describe()"
   ]
  },
  {
   "cell_type": "markdown",
   "metadata": {},
   "source": [
    "At a glance, Age would have outliers since the min and max are not reasonable "
   ]
  },
  {
   "cell_type": "markdown",
   "metadata": {},
   "source": [
    "## 2> Null values check"
   ]
  },
  {
   "cell_type": "code",
   "execution_count": 6,
   "metadata": {},
   "outputs": [
    {
     "data": {
      "text/plain": [
       "TransactionNumber       0\n",
       "UserID                  0\n",
       "Age                     0\n",
       "Gender                  0\n",
       "Occupation              0\n",
       "EducationLevel          0\n",
       "MaritalStatus           0\n",
       "NumDependents           0\n",
       "Income                  0\n",
       "Expenditure             0\n",
       "GiftsTransaction        0\n",
       "TransactionDate         0\n",
       "TransactionTime         0\n",
       "TransactionAmount       0\n",
       "MerchantID              0\n",
       "TransactionType         0\n",
       "TransactionLocation     0\n",
       "DeviceType              0\n",
       "Latitude               43\n",
       "Longitude              43\n",
       "EmailDomain             0\n",
       "Terrorism               0\n",
       "UserTenure              0\n",
       "IsFraud                 0\n",
       "dtype: int64"
      ]
     },
     "execution_count": 6,
     "metadata": {},
     "output_type": "execute_result"
    }
   ],
   "source": [
    "df.isnull().sum()"
   ]
  },
  {
   "cell_type": "code",
   "execution_count": 7,
   "metadata": {},
   "outputs": [],
   "source": [
    "df = df.dropna()"
   ]
  },
  {
   "cell_type": "markdown",
   "metadata": {},
   "source": [
    "## 3> Check duplicate and data validity"
   ]
  },
  {
   "cell_type": "code",
   "execution_count": 58,
   "metadata": {},
   "outputs": [
    {
     "name": "stdout",
     "output_type": "stream",
     "text": [
      "0\n"
     ]
    }
   ],
   "source": [
    "# Check valid email\n",
    "\n",
    "def check_valid_email(email):\n",
    "    email = email.strip()\n",
    "    regex = r'^[a-z0-9]+[\\._]?[a-z0-9]+[@]\\w+[.]\\w+$'\n",
    "    if re.match(regex, email):\n",
    "        return email\n",
    "\n",
    "    else:\n",
    "        return \"not an email\"\n",
    "\n",
    "df['EmailDomain'].apply(check_valid_email)\n",
    "\n",
    "# Count the number of not-an-email value\n",
    "mask = df['EmailDomain'] == \"not an email\"\n",
    "count = len(df[mask])\n",
    "print(count)\n",
    "\n",
    "def extract_email(email):\n",
    "    email_host = r\"[@]\\w+[.]\"\n",
    "    if re.match(email_host, email):\n",
    "        return \n",
    "\n",
    "# Extract the domain \n",
    "\n",
    "df['domain'] = df['EmailDomain'].str.split('@').str[1]\n",
    "df=df.drop(columns= 'EmailDomain')"
   ]
  },
  {
   "cell_type": "code",
   "execution_count": 54,
   "metadata": {},
   "outputs": [
    {
     "data": {
      "text/plain": [
       "domain\n",
       "gmail.com         4374\n",
       "outlook.com       2242\n",
       "yahoo.com         2207\n",
       "tempmail.com      1060\n",
       "securemail.com     526\n",
       "disposable.com     514\n",
       "Name: count, dtype: int64"
      ]
     },
     "execution_count": 54,
     "metadata": {},
     "output_type": "execute_result"
    }
   ],
   "source": [
    "df['domain'].value_counts()"
   ]
  },
  {
   "cell_type": "code",
   "execution_count": 9,
   "metadata": {},
   "outputs": [
    {
     "data": {
      "text/plain": [
       "0"
      ]
     },
     "execution_count": 9,
     "metadata": {},
     "output_type": "execute_result"
    }
   ],
   "source": [
    "df['TransactionNumber'].duplicated().sum()"
   ]
  },
  {
   "cell_type": "code",
   "execution_count": 10,
   "metadata": {},
   "outputs": [
    {
     "data": {
      "text/plain": [
       "0"
      ]
     },
     "execution_count": 10,
     "metadata": {},
     "output_type": "execute_result"
    }
   ],
   "source": [
    "df.duplicated().sum()"
   ]
  },
  {
   "cell_type": "code",
   "execution_count": 11,
   "metadata": {},
   "outputs": [
    {
     "data": {
      "text/plain": [
       "IsFraud\n",
       "0    6938\n",
       "1    3985\n",
       "Name: count, dtype: int64"
      ]
     },
     "execution_count": 11,
     "metadata": {},
     "output_type": "execute_result"
    }
   ],
   "source": [
    "df['IsFraud'].value_counts()"
   ]
  },
  {
   "cell_type": "markdown",
   "metadata": {},
   "source": [
    "All emails are in the correct format and transactions are not duplicate"
   ]
  },
  {
   "cell_type": "markdown",
   "metadata": {},
   "source": [
    "## 4> Handling categorical data"
   ]
  },
  {
   "cell_type": "code",
   "execution_count": 12,
   "metadata": {},
   "outputs": [
    {
     "data": {
      "text/plain": [
       "Gender\n",
       "Male           4860\n",
       "Female         4418\n",
       "isnotfemale     288\n",
       "he              266\n",
       "man             262\n",
       "fem             220\n",
       "she             207\n",
       "woman           205\n",
       "isnotmale       197\n",
       "Name: count, dtype: int64"
      ]
     },
     "execution_count": 12,
     "metadata": {},
     "output_type": "execute_result"
    }
   ],
   "source": [
    "# Data validity check: Gender\n",
    "df['Gender'].value_counts()"
   ]
  },
  {
   "cell_type": "code",
   "execution_count": 13,
   "metadata": {},
   "outputs": [
    {
     "data": {
      "text/plain": [
       "Gender\n",
       "Male      5676\n",
       "Female    5247\n",
       "Name: count, dtype: int64"
      ]
     },
     "execution_count": 13,
     "metadata": {},
     "output_type": "execute_result"
    }
   ],
   "source": [
    "# Fix the incorrect values\n",
    "gender_correction = {\"isnotfemale\": \"Male\", \"he\": \"Male\", \"he\": \"Male\", \"man\": \"Male\", \"man\": \"Male\",\"fem\": \"Female\", \"she\":\"Female\",\"woman\":\"Female\",\"isnotmale\":\"Female\"}\n",
    "df['Gender']=df['Gender'].replace(gender_correction)\n",
    "df['Gender'].value_counts()"
   ]
  },
  {
   "cell_type": "code",
   "execution_count": 14,
   "metadata": {},
   "outputs": [],
   "source": [
    "# Onehot encoding: Gender\n",
    "code_gender = pd.get_dummies(df[[\"Gender\"]], dtype = int, drop_first = True)\n",
    "df = df.join([code_gender])\n",
    "df = df.drop(columns = \"Gender\").reset_index(drop = True)"
   ]
  },
  {
   "cell_type": "code",
   "execution_count": 15,
   "metadata": {},
   "outputs": [
    {
     "data": {
      "text/plain": [
       "Occupation\n",
       "Professional    5356\n",
       "Student         3316\n",
       "Unemployed      1146\n",
       "Retired         1105\n",
       "Name: count, dtype: int64"
      ]
     },
     "execution_count": 15,
     "metadata": {},
     "output_type": "execute_result"
    }
   ],
   "source": [
    "# Data validity check: Occupation\n",
    "df['Occupation'].value_counts()"
   ]
  },
  {
   "cell_type": "code",
   "execution_count": 16,
   "metadata": {},
   "outputs": [],
   "source": [
    "# Onehot encoding: Occupation\n",
    "code_occupation = pd.get_dummies(df[[\"Occupation\"]], dtype = int, drop_first = True)\n",
    "df = df.join([code_occupation])\n",
    "df = df.drop(columns = \"Occupation\").reset_index(drop = True)"
   ]
  },
  {
   "cell_type": "code",
   "execution_count": 17,
   "metadata": {},
   "outputs": [
    {
     "data": {
      "text/plain": [
       "EducationLevel\n",
       "Bachelor       4344\n",
       "High School    4314\n",
       "Master         1638\n",
       "PhD             627\n",
       "Name: count, dtype: int64"
      ]
     },
     "execution_count": 17,
     "metadata": {},
     "output_type": "execute_result"
    }
   ],
   "source": [
    "# Data validity check: Education Level\n",
    "df[\"EducationLevel\"].value_counts()"
   ]
  },
  {
   "cell_type": "code",
   "execution_count": 18,
   "metadata": {},
   "outputs": [
    {
     "name": "stderr",
     "output_type": "stream",
     "text": [
      "/var/folders/r8/5x111tps1gd9t6d1d3qv3ndw0000gn/T/ipykernel_9406/212499577.py:2: FutureWarning: Downcasting behavior in `replace` is deprecated and will be removed in a future version. To retain the old behavior, explicitly call `result.infer_objects(copy=False)`. To opt-in to the future behavior, set `pd.set_option('future.no_silent_downcasting', True)`\n",
      "  df[\"EducationLevel\"] = df[\"EducationLevel\"].replace({\"High School\": 0,\"Bachelor\":1, \"Master\":2,\"PhD\":3})\n"
     ]
    }
   ],
   "source": [
    "# Education Level (ordinal value)\n",
    "df[\"EducationLevel\"] = df[\"EducationLevel\"].replace({\"High School\": 0,\"Bachelor\":1, \"Master\":2,\"PhD\":3})"
   ]
  },
  {
   "cell_type": "code",
   "execution_count": 19,
   "metadata": {},
   "outputs": [
    {
     "data": {
      "text/plain": [
       "MaritalStatus\n",
       "Married     5337\n",
       "Single      4410\n",
       "Divorced     625\n",
       "Widowed      551\n",
       "Name: count, dtype: int64"
      ]
     },
     "execution_count": 19,
     "metadata": {},
     "output_type": "execute_result"
    }
   ],
   "source": [
    "df['MaritalStatus'].value_counts()"
   ]
  },
  {
   "cell_type": "code",
   "execution_count": 20,
   "metadata": {},
   "outputs": [],
   "source": [
    "# Onehot encoding: Marital Status\n",
    "code_marital_status = pd.get_dummies(df[[\"MaritalStatus\"]], dtype = int, drop_first = True)\n",
    "df = df.join([code_marital_status])\n",
    "df = df.drop(columns = \"MaritalStatus\").reset_index(drop = True)"
   ]
  },
  {
   "cell_type": "code",
   "execution_count": 21,
   "metadata": {},
   "outputs": [],
   "source": [
    "# Fix incorrect values: TransactionLocation\n",
    "df[\"TransactionLocation\"]=df[\"TransactionLocation\"].str.upper()\n",
    "\n",
    "mapping = {\"MELB\":\"MELBOURNE\", \"MEL\":\"MELBOURNE\", \"MLB\":\"MELBOURNE\", \"MELBURN\" : \"MELBOURNE\",\n",
    "           \"BNE\":\"BRISBANE\", \n",
    "           \"DRW\": \"DARWIN\",\n",
    "           \"CBR\":\"CANBERRA\",\n",
    "           \"PTH\":\"PERTH\",\n",
    "           \"SYD\":\"SYDNEY\",\n",
    "           \"ADL\":\"ADELAIDE\", \"ADELAIDE CITY\":\"ADELAIDE\",\n",
    "           \"HBT\":\"HOBART\"}\n",
    "\n",
    "df[\"TransactionLocation\"] = df[\"TransactionLocation\"].replace(mapping)\n",
    "\n",
    "code_TransactionLocation = pd.get_dummies(df[[\"TransactionLocation\"]], dtype = int, drop_first = True)\n",
    "df = df.join([code_TransactionLocation])\n",
    "df = df.drop(columns = \"TransactionLocation\").reset_index(drop = True)"
   ]
  },
  {
   "cell_type": "code",
   "execution_count": 22,
   "metadata": {},
   "outputs": [],
   "source": [
    "# Fix incorrect value: Device Type\n",
    "df[\"DeviceType\"] = df[\"DeviceType\"].replace({\"galaxys7\": \"Mobile\",\"iphone 15\":\"Mobile\", \"android\":\"Mobile\",\"smartphone\":\"Mobile\",\"mob\":\"Mobile\"})\n",
    "\n",
    "# Onehot Encoding: Device Type\n",
    "code_DeviceType = pd.get_dummies(df[[\"DeviceType\"]], dtype = int, drop_first = True)\n",
    "df = df.join([code_DeviceType])\n",
    "df = df.drop(columns = \"DeviceType\").reset_index(drop = True)"
   ]
  },
  {
   "cell_type": "code",
   "execution_count": 23,
   "metadata": {},
   "outputs": [],
   "source": [
    "# Onehot Encoding: Transaction Type\n",
    "code_transaction_type = pd.get_dummies(df[[\"TransactionType\"]], dtype = int, drop_first = True)\n",
    "df = df.join([code_transaction_type])\n",
    "df = df.drop(columns = \"TransactionType\").reset_index(drop = True)"
   ]
  },
  {
   "cell_type": "markdown",
   "metadata": {},
   "source": [
    "## 5> Handling numeric data"
   ]
  },
  {
   "cell_type": "markdown",
   "metadata": {},
   "source": [
    "Since all the data have currency symbols and inconsistent type, we convert all of them into correct data type with consistent currency under AUD"
   ]
  },
  {
   "cell_type": "code",
   "execution_count": 24,
   "metadata": {},
   "outputs": [],
   "source": [
    "# Income, Expenditure, GiftsTransaction, TransactionAmount\n",
    "\n",
    "# GiftsTransaction\n",
    "df[['first_value', 'second_value']] = df[\"GiftsTransaction\"].str.split(' ', expand=True)\n",
    "    \n",
    "df[\"first_value_len\"] = df[\"first_value\"].apply(lambda s:len(s))\n",
    "df[\"second_value_len\"] = df[\"second_value\"].apply(lambda s:len(s))\n",
    "    \n",
    "    # function to get monetary symbol\n",
    "def get_monetary_symbol(row):\n",
    "    if row['first_value_len'] == 1:\n",
    "        return row['first_value']\n",
    "    elif row['first_value'] == \"AU$\":\n",
    "        return row['first_value']\n",
    "    elif row['first_value'] == \"AED\":\n",
    "        return row['first_value']\n",
    "    elif row['second_value'] == \"GBP\":\n",
    "        return row['second_value']\n",
    "    elif row['second_value'] == \"AUD\":\n",
    "        return row['second_value']\n",
    "    else:\n",
    "        return None\n",
    "    \n",
    "df[\"monetary_symbol\"] = df.apply(get_monetary_symbol, axis=1)\n",
    "    \n",
    "    # function to get monetary value\n",
    "def get_monetary_value(row):\n",
    "    if row['first_value'] == row[\"monetary_symbol\"]:\n",
    "        return row['second_value']\n",
    "    else:\n",
    "        return row['first_value']\n",
    "            \n",
    "df[\"monetary_value\"] = df.apply(get_monetary_value, axis=1)\n",
    "\n",
    "df[\"monetary_value\"] = df[\"monetary_value\"].astype(\"float\")\n",
    "    \n",
    "    # function to convert to AUD\n",
    "def get_exchange_rate(row):\n",
    "    if row['monetary_symbol'] == \"£\":\n",
    "        return 1.96\n",
    "    elif row['monetary_symbol'] == \"GBP\":\n",
    "        return 1.96\n",
    "    elif row['monetary_symbol'] == \"AED\":\n",
    "        return 0.41\n",
    "    else:\n",
    "        return 1\n",
    "    \n",
    "df[\"exchange_rate\"] = df.apply(get_exchange_rate, axis=1)\n",
    "    \n",
    "df[\"GiftsTransaction_AUD_equivalent\"] = df[\"exchange_rate\"]*df[\"monetary_value\"]\n",
    "    \n",
    "df = df.drop(columns = [\"first_value_len\", \"second_value_len\", 'first_value', 'second_value', \"exchange_rate\", \"monetary_symbol\",\"monetary_value\"]).reset_index(drop = True)"
   ]
  },
  {
   "cell_type": "code",
   "execution_count": 25,
   "metadata": {},
   "outputs": [],
   "source": [
    "# Income, Expenditure, GiftsTransaction, Transaction Amount\n",
    "\n",
    "# Income\n",
    "df[['first_value', 'second_value']] = df[\"Income\"].str.split(' ', expand=True)\n",
    "    \n",
    "df[\"first_value_len\"] = df[\"first_value\"].apply(lambda s:len(s))\n",
    "df[\"second_value_len\"] = df[\"second_value\"].apply(lambda s:len(s))\n",
    "    \n",
    "    # function to get monetary symbol\n",
    "def get_monetary_symbol(row):\n",
    "    if row['first_value_len'] == 1:\n",
    "        return row['first_value']\n",
    "    elif row['first_value'] == \"AU$\":\n",
    "        return row['first_value']\n",
    "    elif row['first_value'] == \"AED\":\n",
    "        return row['first_value']\n",
    "    elif row['second_value'] == \"GBP\":\n",
    "        return row['second_value']\n",
    "    elif row['second_value'] == \"AUD\":\n",
    "        return row['second_value']\n",
    "    else:\n",
    "        return None\n",
    "    \n",
    "df[\"monetary_symbol\"] = df.apply(get_monetary_symbol, axis=1)\n",
    "    \n",
    "    # function to get monetary value\n",
    "def get_monetary_value(row):\n",
    "    if row['first_value'] == row[\"monetary_symbol\"]:\n",
    "        return row['second_value']\n",
    "    else:\n",
    "        return row['first_value']\n",
    "            \n",
    "df[\"monetary_value\"] = df.apply(get_monetary_value, axis=1)\n",
    "\n",
    "df[\"monetary_value\"] = df[\"monetary_value\"].astype(\"float\")\n",
    "    \n",
    "    # function to convert to AUD\n",
    "def get_exchange_rate(row):\n",
    "    if row['monetary_symbol'] == \"£\":\n",
    "        return 1.96\n",
    "    elif row['monetary_symbol'] == \"GBP\":\n",
    "        return 1.96\n",
    "    elif row['monetary_symbol'] == \"AED\":\n",
    "        return 0.41\n",
    "    else:\n",
    "        return 1\n",
    "    \n",
    "df[\"exchange_rate\"] = df.apply(get_exchange_rate, axis=1)\n",
    "    \n",
    "df[\"Income_AUD_equivalent\"] = df[\"exchange_rate\"]*df[\"monetary_value\"]\n",
    "    \n",
    "df = df.drop(columns = [\"first_value_len\", \"second_value_len\", 'first_value', 'second_value', \"exchange_rate\", \"monetary_symbol\",\"monetary_value\"]).reset_index(drop = True)"
   ]
  },
  {
   "cell_type": "code",
   "execution_count": 26,
   "metadata": {},
   "outputs": [],
   "source": [
    "# Income, Expenditure, GiftsTransaction, TransactionAmount\n",
    "\n",
    "# Expenditure\n",
    "df[['first_value', 'second_value']] = df[\"Expenditure\"].str.split(' ', expand=True)\n",
    "    \n",
    "df[\"first_value_len\"] = df[\"first_value\"].apply(lambda s:len(s))\n",
    "df[\"second_value_len\"] = df[\"second_value\"].apply(lambda s:len(s))\n",
    "    \n",
    "    # function to get monetary symbol\n",
    "def get_monetary_symbol(row):\n",
    "    if row['first_value_len'] == 1:\n",
    "        return row['first_value']\n",
    "    elif row['first_value'] == \"AU$\":\n",
    "        return row['first_value']\n",
    "    elif row['first_value'] == \"AED\":\n",
    "        return row['first_value']\n",
    "    elif row['second_value'] == \"GBP\":\n",
    "        return row['second_value']\n",
    "    elif row['second_value'] == \"AUD\":\n",
    "        return row['second_value']\n",
    "    else:\n",
    "        return None\n",
    "    \n",
    "df[\"monetary_symbol\"] = df.apply(get_monetary_symbol, axis=1)\n",
    "    \n",
    "    # function to get monetary value\n",
    "def get_monetary_value(row):\n",
    "    if row['first_value'] == row[\"monetary_symbol\"]:\n",
    "        return row['second_value']\n",
    "    else:\n",
    "        return row['first_value']\n",
    "            \n",
    "df[\"monetary_value\"] = df.apply(get_monetary_value, axis=1)\n",
    "\n",
    "df[\"monetary_value\"] = df[\"monetary_value\"].astype(\"float\")\n",
    "    \n",
    "    # function to convert to AUD\n",
    "def get_exchange_rate(row):\n",
    "    if row['monetary_symbol'] == \"£\":\n",
    "        return 1.96\n",
    "    elif row['monetary_symbol'] == \"GBP\":\n",
    "        return 1.96\n",
    "    elif row['monetary_symbol'] == \"AED\":\n",
    "        return 0.41\n",
    "    else:\n",
    "        return 1\n",
    "    \n",
    "df[\"exchange_rate\"] = df.apply(get_exchange_rate, axis=1)\n",
    "    \n",
    "df[\"Expenditure_AUD_equivalent\"] = df[\"exchange_rate\"]*df[\"monetary_value\"]\n",
    "    \n",
    "df = df.drop(columns = [\"first_value_len\", \"second_value_len\", 'first_value', 'second_value', \"exchange_rate\", \"monetary_symbol\",\"monetary_value\"]).reset_index(drop = True)"
   ]
  },
  {
   "cell_type": "code",
   "execution_count": 27,
   "metadata": {},
   "outputs": [],
   "source": [
    "# Income, Expenditure, GiftsTransaction, TransactionAmount\n",
    "\n",
    "# TransactionAmount\n",
    "df[['first_value', 'second_value']] = df[\"TransactionAmount\"].str.split(' ', expand=True)\n",
    "    \n",
    "df[\"first_value_len\"] = df[\"first_value\"].apply(lambda s:len(s))\n",
    "df[\"second_value_len\"] = df[\"second_value\"].apply(lambda s:len(s))\n",
    "    \n",
    "    # function to get monetary symbol\n",
    "def get_monetary_symbol(row):\n",
    "    if row['first_value_len'] == 1:\n",
    "        return row['first_value']\n",
    "    elif row['first_value'] == \"AU$\":\n",
    "        return row['first_value']\n",
    "    elif row['first_value'] == \"AED\":\n",
    "        return row['first_value']\n",
    "    elif row['second_value'] == \"GBP\":\n",
    "        return row['second_value']\n",
    "    elif row['second_value'] == \"AUD\":\n",
    "        return row['second_value']\n",
    "    else:\n",
    "        return None\n",
    "    \n",
    "df[\"monetary_symbol\"] = df.apply(get_monetary_symbol, axis=1)\n",
    "    \n",
    "    # function to get monetary value\n",
    "def get_monetary_value(row):\n",
    "    if row['first_value'] == row[\"monetary_symbol\"]:\n",
    "        return row['second_value']\n",
    "    else:\n",
    "        return row['first_value']\n",
    "            \n",
    "df[\"monetary_value\"] = df.apply(get_monetary_value, axis=1)\n",
    "\n",
    "df[\"monetary_value\"] = df[\"monetary_value\"].astype(\"float\")\n",
    "    \n",
    "    # function to convert to AUD\n",
    "def get_exchange_rate(row):\n",
    "    if row['monetary_symbol'] == \"£\":\n",
    "        return 1.96\n",
    "    elif row['monetary_symbol'] == \"GBP\":\n",
    "        return 1.96\n",
    "    elif row['monetary_symbol'] == \"AED\":\n",
    "        return 0.41\n",
    "    else:\n",
    "        return 1\n",
    "    \n",
    "df[\"exchange_rate\"] = df.apply(get_exchange_rate, axis=1)\n",
    "    \n",
    "df[\"TransactionAmount_AUD_equivalent\"] = df[\"exchange_rate\"]*df[\"monetary_value\"]\n",
    "    \n",
    "df = df.drop(columns = [\"first_value_len\", \"second_value_len\", 'first_value', 'second_value', \"exchange_rate\", \"monetary_symbol\",\"monetary_value\"]).reset_index(drop = True)"
   ]
  },
  {
   "cell_type": "code",
   "execution_count": 28,
   "metadata": {},
   "outputs": [],
   "source": [
    "# Drop the original columns to prevent confusion\n",
    "df = df.drop(columns = [\"GiftsTransaction\", \"Income\", 'Expenditure', 'TransactionAmount']).reset_index(drop = True)"
   ]
  },
  {
   "cell_type": "markdown",
   "metadata": {},
   "source": [
    "## 6> Handling date time"
   ]
  },
  {
   "cell_type": "code",
   "execution_count": 29,
   "metadata": {},
   "outputs": [],
   "source": [
    "# Transaction date, Transaction time\n",
    "\n",
    "# Convert Transaction date\n",
    "df[\"TransactionDate\"] =pd.to_datetime(df[\"TransactionDate\"])\n",
    "# Separate into year, month, day\n",
    "df['Year'] = df['TransactionDate'].dt.year\n",
    "df['Month'] = df['TransactionDate'].dt.month\n",
    "df['Day'] = df['TransactionDate'].dt.day\n",
    "\n",
    "#Convert Transaction time\n",
    "def standardize_time(time):\n",
    "    # Remove extra characters and whitespace\n",
    "    time = time.strip()\n",
    "    # Handle the \"/\" \n",
    "    if \"/\" in time:\n",
    "        time = time.replace(\"/\", \":\")\n",
    "    # Handle AM/PM format\n",
    "    if time[-2:] in ['AM', 'PM']:\n",
    "        return pd.to_datetime(time, format='%I:%M:%S %p').strftime('%H:%M:%S')\n",
    "    else:\n",
    "        return pd.to_datetime(time, format='%H:%M:%S').strftime('%H:%M:%S')\n",
    "\n",
    "# Assuming your DataFrame is named 'df' and the column is 'TransactionTime'\n",
    "df['TransactionTime'] = df['TransactionTime'].apply(standardize_time)\n"
   ]
  },
  {
   "cell_type": "markdown",
   "metadata": {},
   "source": [
    "## 7> Handling outliers"
   ]
  },
  {
   "cell_type": "markdown",
   "metadata": {},
   "source": [
    "#### 7.1> Detecting outliers"
   ]
  },
  {
   "cell_type": "code",
   "execution_count": 30,
   "metadata": {},
   "outputs": [
    {
     "data": {
      "image/png": "[encoded data removed]",
      "text/plain": [
       "<Figure size 2000x2500 with 9 Axes>"
      ]
     },
     "metadata": {},
     "output_type": "display_data"
    }
   ],
   "source": [
    "# Detect outliers \n",
    "plt.figure(figsize=(20,25))\n",
    "\n",
    "# List of columns to plot\n",
    "columns1 = ['Age', 'NumDependents', 'Latitude', 'Longitude', 'UserTenure', 'GiftsTransaction_AUD_equivalent', 'Income_AUD_equivalent', 'Expenditure_AUD_equivalent', 'TransactionAmount_AUD_equivalent']\n",
    "\n",
    "# Loop through each column and create a boxplot\n",
    "for i, col in enumerate(columns1):\n",
    "    plt.subplot(3,3,i+1)\n",
    "    sns.boxplot(y=df[col], color=\"skyblue\")\n",
    "    plt.xlabel(col, size=13)\n",
    "    plt.title(f\"Box plot of {col}\", size=15)"
   ]
  },
  {
   "cell_type": "code",
   "execution_count": 31,
   "metadata": {},
   "outputs": [
    {
     "name": "stdout",
     "output_type": "stream",
     "text": [
      "The number of Age outliers: 1735\n",
      "The number of NumDependents outliers: 0\n",
      "The number of Latitude outliers: 23\n",
      "The number of Longitude outliers: 1772\n",
      "The number of UserTenure outliers: 0\n",
      "The number of GiftsTransaction_AUD_equivalent outliers: 646\n",
      "The number of Income_AUD_equivalent outliers: 220\n",
      "The number of Expenditure_AUD_equivalent outliers: 526\n",
      "The number of TransactionAmount_AUD_equivalent outliers: 1066\n"
     ]
    }
   ],
   "source": [
    "# Define the number of outliers\n",
    "def detect_outliers (df, col):\n",
    "    # calculate 25th  of the feature\n",
    "    q1 = df[col].quantile(0.25)\n",
    "    # caluclate 75th percentile of feature\n",
    "    q3 = df[col].quantile(0.75)\n",
    "    # Calculate interquartile range\n",
    "    IQR = q3 - q1\n",
    "    lower_bound = q1 - 1.5 * IQR\n",
    "    upper_bound = q3 + 1.5 * IQR\n",
    "    number_outliers = df[(df[col] > upper_bound) | (df[col] < lower_bound)].shape[0]\n",
    "    return number_outliers\n",
    "\n",
    "for col in columns1:\n",
    "    outliers = detect_outliers(df, col)\n",
    "    print(f\"The number of {col} outliers: {outliers}\")"
   ]
  },
  {
   "cell_type": "markdown",
   "metadata": {},
   "source": [
    "- No outlier in NumDependents and UserTenure.\n",
    "- Latitude, GiftsTransaction_AUD_equivalent, Income_AUD_equivalent, Expenditure_AUD_equivalent are columns with small number of outliers (less than 10% of the dataset)\n",
    "- Age, Longitude, and TransactionAmount_AUD_equivalent are columns with larger number of outliers (more than 10% but less than 20% of the dataset)"
   ]
  },
  {
   "cell_type": "markdown",
   "metadata": {},
   "source": [
    "## 8> Exploring data with graphs"
   ]
  },
  {
   "cell_type": "code",
   "execution_count": null,
   "metadata": {},
   "outputs": [],
   "source": []
  },
  {
   "cell_type": "markdown",
   "metadata": {},
   "source": [
    "## 9> Conclusion for EDA"
   ]
  },
  {
   "cell_type": "code",
   "execution_count": 32,
   "metadata": {},
   "outputs": [
    {
     "data": {
      "text/plain": [
       "(10923, 41)"
      ]
     },
     "execution_count": 32,
     "metadata": {},
     "output_type": "execute_result"
    }
   ],
   "source": [
    "df.shape"
   ]
  },
  {
   "cell_type": "code",
   "execution_count": 33,
   "metadata": {},
   "outputs": [
    {
     "data": {
      "text/html": [
       "<div>\n",
       "<style scoped>\n",
       "    .dataframe tbody tr th:only-of-type {\n",
       "        vertical-align: middle;\n",
       "    }\n",
       "\n",
       "    .dataframe tbody tr th {\n",
       "        vertical-align: top;\n",
       "    }\n",
       "\n",
       "    .dataframe thead th {\n",
       "        text-align: right;\n",
       "    }\n",
       "</style>\n",
       "<table border=\"1\" class=\"dataframe\">\n",
       "  <thead>\n",
       "    <tr style=\"text-align: right;\">\n",
       "      <th></th>\n",
       "      <th>TransactionNumber</th>\n",
       "      <th>UserID</th>\n",
       "      <th>Age</th>\n",
       "      <th>EducationLevel</th>\n",
       "      <th>NumDependents</th>\n",
       "      <th>TransactionDate</th>\n",
       "      <th>Latitude</th>\n",
       "      <th>Longitude</th>\n",
       "      <th>UserTenure</th>\n",
       "      <th>IsFraud</th>\n",
       "      <th>...</th>\n",
       "      <th>TransactionType_Purchase</th>\n",
       "      <th>TransactionType_Transfer</th>\n",
       "      <th>TransactionType_Withdrawal</th>\n",
       "      <th>GiftsTransaction_AUD_equivalent</th>\n",
       "      <th>Income_AUD_equivalent</th>\n",
       "      <th>Expenditure_AUD_equivalent</th>\n",
       "      <th>TransactionAmount_AUD_equivalent</th>\n",
       "      <th>Year</th>\n",
       "      <th>Month</th>\n",
       "      <th>Day</th>\n",
       "    </tr>\n",
       "  </thead>\n",
       "  <tbody>\n",
       "    <tr>\n",
       "      <th>count</th>\n",
       "      <td>10923.000000</td>\n",
       "      <td>10923.000000</td>\n",
       "      <td>10923.000000</td>\n",
       "      <td>10923.000000</td>\n",
       "      <td>10923.000000</td>\n",
       "      <td>10923</td>\n",
       "      <td>10923.000000</td>\n",
       "      <td>10923.000000</td>\n",
       "      <td>10923.000000</td>\n",
       "      <td>10923.000000</td>\n",
       "      <td>...</td>\n",
       "      <td>10923.000000</td>\n",
       "      <td>10923.000000</td>\n",
       "      <td>10923.000000</td>\n",
       "      <td>10923.000000</td>\n",
       "      <td>10923.000000</td>\n",
       "      <td>10923.000000</td>\n",
       "      <td>10923.000000</td>\n",
       "      <td>10923.0</td>\n",
       "      <td>10923.000000</td>\n",
       "      <td>10923.000000</td>\n",
       "    </tr>\n",
       "    <tr>\n",
       "      <th>mean</th>\n",
       "      <td>9121.296347</td>\n",
       "      <td>2481.995331</td>\n",
       "      <td>2748.755928</td>\n",
       "      <td>0.869816</td>\n",
       "      <td>1.997620</td>\n",
       "      <td>2023-08-22 07:13:35.709969920</td>\n",
       "      <td>-30.363255</td>\n",
       "      <td>141.254786</td>\n",
       "      <td>60.744301</td>\n",
       "      <td>0.364827</td>\n",
       "      <td>...</td>\n",
       "      <td>0.495926</td>\n",
       "      <td>0.204706</td>\n",
       "      <td>0.196924</td>\n",
       "      <td>6187.329031</td>\n",
       "      <td>71054.355339</td>\n",
       "      <td>44796.388939</td>\n",
       "      <td>374.888877</td>\n",
       "      <td>2023.0</td>\n",
       "      <td>8.190332</td>\n",
       "      <td>16.331960</td>\n",
       "    </tr>\n",
       "    <tr>\n",
       "      <th>min</th>\n",
       "      <td>1.000000</td>\n",
       "      <td>1.000000</td>\n",
       "      <td>-68.000000</td>\n",
       "      <td>0.000000</td>\n",
       "      <td>0.000000</td>\n",
       "      <td>2023-01-01 00:00:00</td>\n",
       "      <td>-41.640079</td>\n",
       "      <td>-112.026050</td>\n",
       "      <td>1.000000</td>\n",
       "      <td>0.000000</td>\n",
       "      <td>...</td>\n",
       "      <td>0.000000</td>\n",
       "      <td>0.000000</td>\n",
       "      <td>0.000000</td>\n",
       "      <td>4.174800</td>\n",
       "      <td>5229.820000</td>\n",
       "      <td>3813.530000</td>\n",
       "      <td>1.730000</td>\n",
       "      <td>2023.0</td>\n",
       "      <td>1.000000</td>\n",
       "      <td>1.000000</td>\n",
       "    </tr>\n",
       "    <tr>\n",
       "      <th>25%</th>\n",
       "      <td>4522.500000</td>\n",
       "      <td>1252.500000</td>\n",
       "      <td>26.000000</td>\n",
       "      <td>0.000000</td>\n",
       "      <td>1.000000</td>\n",
       "      <td>2023-06-07 00:00:00</td>\n",
       "      <td>-37.020100</td>\n",
       "      <td>142.702789</td>\n",
       "      <td>31.000000</td>\n",
       "      <td>0.000000</td>\n",
       "      <td>...</td>\n",
       "      <td>0.000000</td>\n",
       "      <td>0.000000</td>\n",
       "      <td>0.000000</td>\n",
       "      <td>2193.396800</td>\n",
       "      <td>47138.510000</td>\n",
       "      <td>24662.409000</td>\n",
       "      <td>59.535000</td>\n",
       "      <td>2023.0</td>\n",
       "      <td>6.000000</td>\n",
       "      <td>9.000000</td>\n",
       "    </tr>\n",
       "    <tr>\n",
       "      <th>50%</th>\n",
       "      <td>9121.000000</td>\n",
       "      <td>2463.000000</td>\n",
       "      <td>34.000000</td>\n",
       "      <td>1.000000</td>\n",
       "      <td>2.000000</td>\n",
       "      <td>2023-09-15 00:00:00</td>\n",
       "      <td>-31.840233</td>\n",
       "      <td>144.964600</td>\n",
       "      <td>61.000000</td>\n",
       "      <td>0.000000</td>\n",
       "      <td>...</td>\n",
       "      <td>0.000000</td>\n",
       "      <td>0.000000</td>\n",
       "      <td>0.000000</td>\n",
       "      <td>4444.907600</td>\n",
       "      <td>66050.810000</td>\n",
       "      <td>36961.900000</td>\n",
       "      <td>156.310000</td>\n",
       "      <td>2023.0</td>\n",
       "      <td>9.000000</td>\n",
       "      <td>17.000000</td>\n",
       "    </tr>\n",
       "    <tr>\n",
       "      <th>75%</th>\n",
       "      <td>13716.500000</td>\n",
       "      <td>3725.500000</td>\n",
       "      <td>43.000000</td>\n",
       "      <td>1.000000</td>\n",
       "      <td>3.000000</td>\n",
       "      <td>2023-11-19 00:00:00</td>\n",
       "      <td>-25.042261</td>\n",
       "      <td>145.612793</td>\n",
       "      <td>90.000000</td>\n",
       "      <td>1.000000</td>\n",
       "      <td>...</td>\n",
       "      <td>1.000000</td>\n",
       "      <td>0.000000</td>\n",
       "      <td>0.000000</td>\n",
       "      <td>8125.764600</td>\n",
       "      <td>86880.540000</td>\n",
       "      <td>54980.759350</td>\n",
       "      <td>377.103100</td>\n",
       "      <td>2023.0</td>\n",
       "      <td>11.000000</td>\n",
       "      <td>24.000000</td>\n",
       "    </tr>\n",
       "    <tr>\n",
       "      <th>max</th>\n",
       "      <td>18277.000000</td>\n",
       "      <td>5000.000000</td>\n",
       "      <td>67000.000000</td>\n",
       "      <td>3.000000</td>\n",
       "      <td>4.000000</td>\n",
       "      <td>2023-12-30 00:00:00</td>\n",
       "      <td>57.851580</td>\n",
       "      <td>149.012375</td>\n",
       "      <td>119.000000</td>\n",
       "      <td>1.000000</td>\n",
       "      <td>...</td>\n",
       "      <td>1.000000</td>\n",
       "      <td>1.000000</td>\n",
       "      <td>1.000000</td>\n",
       "      <td>60150.400000</td>\n",
       "      <td>200354.470000</td>\n",
       "      <td>325600.570000</td>\n",
       "      <td>24180.918500</td>\n",
       "      <td>2023.0</td>\n",
       "      <td>12.000000</td>\n",
       "      <td>31.000000</td>\n",
       "    </tr>\n",
       "    <tr>\n",
       "      <th>std</th>\n",
       "      <td>5293.617927</td>\n",
       "      <td>1429.064053</td>\n",
       "      <td>9725.332418</td>\n",
       "      <td>0.870422</td>\n",
       "      <td>1.409413</td>\n",
       "      <td>NaN</td>\n",
       "      <td>6.962819</td>\n",
       "      <td>11.268395</td>\n",
       "      <td>34.257223</td>\n",
       "      <td>0.481404</td>\n",
       "      <td>...</td>\n",
       "      <td>0.500006</td>\n",
       "      <td>0.403505</td>\n",
       "      <td>0.397693</td>\n",
       "      <td>5951.741701</td>\n",
       "      <td>31320.083281</td>\n",
       "      <td>31161.609685</td>\n",
       "      <td>853.613759</td>\n",
       "      <td>0.0</td>\n",
       "      <td>3.342135</td>\n",
       "      <td>8.781016</td>\n",
       "    </tr>\n",
       "  </tbody>\n",
       "</table>\n",
       "<p>8 rows × 36 columns</p>\n",
       "</div>"
      ],
      "text/plain": [
       "       TransactionNumber        UserID           Age  EducationLevel  \\\n",
       "count       10923.000000  10923.000000  10923.000000    10923.000000   \n",
       "mean         9121.296347   2481.995331   2748.755928        0.869816   \n",
       "min             1.000000      1.000000    -68.000000        0.000000   \n",
       "25%          4522.500000   1252.500000     26.000000        0.000000   \n",
       "50%          9121.000000   2463.000000     34.000000        1.000000   \n",
       "75%         13716.500000   3725.500000     43.000000        1.000000   \n",
       "max         18277.000000   5000.000000  67000.000000        3.000000   \n",
       "std          5293.617927   1429.064053   9725.332418        0.870422   \n",
       "\n",
       "       NumDependents                TransactionDate      Latitude  \\\n",
       "count   10923.000000                          10923  10923.000000   \n",
       "mean        1.997620  2023-08-22 07:13:35.709969920    -30.363255   \n",
       "min         0.000000            2023-01-01 00:00:00    -41.640079   \n",
       "25%         1.000000            2023-06-07 00:00:00    -37.020100   \n",
       "50%         2.000000            2023-09-15 00:00:00    -31.840233   \n",
       "75%         3.000000            2023-11-19 00:00:00    -25.042261   \n",
       "max         4.000000            2023-12-30 00:00:00     57.851580   \n",
       "std         1.409413                            NaN      6.962819   \n",
       "\n",
       "          Longitude    UserTenure       IsFraud  ...  \\\n",
       "count  10923.000000  10923.000000  10923.000000  ...   \n",
       "mean     141.254786     60.744301      0.364827  ...   \n",
       "min     -112.026050      1.000000      0.000000  ...   \n",
       "25%      142.702789     31.000000      0.000000  ...   \n",
       "50%      144.964600     61.000000      0.000000  ...   \n",
       "75%      145.612793     90.000000      1.000000  ...   \n",
       "max      149.012375    119.000000      1.000000  ...   \n",
       "std       11.268395     34.257223      0.481404  ...   \n",
       "\n",
       "       TransactionType_Purchase  TransactionType_Transfer  \\\n",
       "count              10923.000000              10923.000000   \n",
       "mean                   0.495926                  0.204706   \n",
       "min                    0.000000                  0.000000   \n",
       "25%                    0.000000                  0.000000   \n",
       "50%                    0.000000                  0.000000   \n",
       "75%                    1.000000                  0.000000   \n",
       "max                    1.000000                  1.000000   \n",
       "std                    0.500006                  0.403505   \n",
       "\n",
       "       TransactionType_Withdrawal  GiftsTransaction_AUD_equivalent  \\\n",
       "count                10923.000000                     10923.000000   \n",
       "mean                     0.196924                      6187.329031   \n",
       "min                      0.000000                         4.174800   \n",
       "25%                      0.000000                      2193.396800   \n",
       "50%                      0.000000                      4444.907600   \n",
       "75%                      0.000000                      8125.764600   \n",
       "max                      1.000000                     60150.400000   \n",
       "std                      0.397693                      5951.741701   \n",
       "\n",
       "       Income_AUD_equivalent  Expenditure_AUD_equivalent  \\\n",
       "count           10923.000000                10923.000000   \n",
       "mean            71054.355339                44796.388939   \n",
       "min              5229.820000                 3813.530000   \n",
       "25%             47138.510000                24662.409000   \n",
       "50%             66050.810000                36961.900000   \n",
       "75%             86880.540000                54980.759350   \n",
       "max            200354.470000               325600.570000   \n",
       "std             31320.083281                31161.609685   \n",
       "\n",
       "       TransactionAmount_AUD_equivalent     Year         Month           Day  \n",
       "count                      10923.000000  10923.0  10923.000000  10923.000000  \n",
       "mean                         374.888877   2023.0      8.190332     16.331960  \n",
       "min                            1.730000   2023.0      1.000000      1.000000  \n",
       "25%                           59.535000   2023.0      6.000000      9.000000  \n",
       "50%                          156.310000   2023.0      9.000000     17.000000  \n",
       "75%                          377.103100   2023.0     11.000000     24.000000  \n",
       "max                        24180.918500   2023.0     12.000000     31.000000  \n",
       "std                          853.613759      0.0      3.342135      8.781016  \n",
       "\n",
       "[8 rows x 36 columns]"
      ]
     },
     "execution_count": 33,
     "metadata": {},
     "output_type": "execute_result"
    }
   ],
   "source": [
    "df.describe()"
   ]
  },
  {
   "cell_type": "markdown",
   "metadata": {},
   "source": []
  },
  {
   "cell_type": "markdown",
   "metadata": {},
   "source": [
    "#### Handling categoriacal and numeric of test data"
   ]
  },
  {
   "cell_type": "code",
   "execution_count": 34,
   "metadata": {},
   "outputs": [],
   "source": [
    "df_test = pd.read_csv(\"./test.csv\")"
   ]
  },
  {
   "cell_type": "code",
   "execution_count": 35,
   "metadata": {},
   "outputs": [
    {
     "name": "stderr",
     "output_type": "stream",
     "text": [
      "/var/folders/r8/5x111tps1gd9t6d1d3qv3ndw0000gn/T/ipykernel_9406/3090556217.py:14: FutureWarning: Downcasting behavior in `replace` is deprecated and will be removed in a future version. To retain the old behavior, explicitly call `result.infer_objects(copy=False)`. To opt-in to the future behavior, set `pd.set_option('future.no_silent_downcasting', True)`\n",
      "  df_test[\"EducationLevel\"] = df_test[\"EducationLevel\"].replace({\"High School\": 0,\"Bachelor\":1, \"Master\":2,\"PhD\":3})\n"
     ]
    }
   ],
   "source": [
    "gender_correction = {\"isnotfemale\": \"Male\", \"he\": \"Male\", \"he\": \"Male\", \"man\": \"Male\", \"man\": \"Male\",\"fem\": \"Female\", \"she\":\"Female\",\"woman\":\"Female\",\"isnotmale\":\"Female\"}\n",
    "df_test['Gender']=df_test['Gender'].replace(gender_correction)\n",
    "# Onehot encoding: Gender\n",
    "code_gender = pd.get_dummies(df_test[[\"Gender\"]], dtype = int, drop_first = True)\n",
    "df_test = df_test.join([code_gender])\n",
    "df_test = df_test.drop(columns = \"Gender\").reset_index(drop = True)\n",
    "\n",
    "# Onehot encoding: Occupation\n",
    "code_occupation = pd.get_dummies(df_test[[\"Occupation\"]], dtype = int, drop_first = True)\n",
    "df_test = df_test.join([code_occupation])\n",
    "df_test = df_test.drop(columns = \"Occupation\").reset_index(drop = True)\n",
    "\n",
    "# Education Level (ordinal value)\n",
    "df_test[\"EducationLevel\"] = df_test[\"EducationLevel\"].replace({\"High School\": 0,\"Bachelor\":1, \"Master\":2,\"PhD\":3})\n",
    "\n",
    "# Onehot encoding: Marital Status\n",
    "code_marital_status = pd.get_dummies(df_test[[\"MaritalStatus\"]], dtype = int, drop_first = True)\n",
    "df_test = df_test.join([code_marital_status])\n",
    "df_test = df_test.drop(columns = \"MaritalStatus\").reset_index(drop = True)\n",
    "\n",
    "# Fix incorrect values: TransactionLocation\n",
    "df_test[\"TransactionLocation\"]=df_test[\"TransactionLocation\"].str.upper()\n",
    "mapping = {\"MELB\":\"MELBOURNE\", \"MEL\":\"MELBOURNE\", \"MLB\":\"MELBOURNE\", \"MELBURN\" : \"MELBOURNE\",\n",
    "\"BNE\":\"BRISBANE\",\n",
    "\"DRW\": \"DARWIN\",\n",
    "\"CBR\":\"CANBERRA\",\n",
    "\"PTH\":\"PERTH\",\n",
    "\"SYD\":\"SYDNEY\",\n",
    "\"ADL\":\"ADELAIDE\", \"ADELAIDE CITY\":\"ADELAIDE\",\n",
    "\"HBT\":\"HOBART\"}\n",
    "df_test[\"TransactionLocation\"] = df_test[\"TransactionLocation\"].replace(mapping)\n",
    "code_TransactionLocation = pd.get_dummies(df_test[[\"TransactionLocation\"]], dtype = int, drop_first = True)\n",
    "df_test = df_test.join([code_TransactionLocation])\n",
    "df_test = df_test.drop(columns = \"TransactionLocation\").reset_index(drop = True)\n",
    "\n",
    "# Fix incorrect value: Device Type\n",
    "df_test[\"DeviceType\"] = df_test[\"DeviceType\"].replace({\"galaxys7\": \"Mobile\",\"iphone 15\":\"Mobile\", \"android\":\"Mobile\",\"smartphone\":\"Mobile\",\"mob\":\"Mobile\"})\n",
    "\n",
    "# Onehot Encoding: Device Type\n",
    "code_DeviceType = pd.get_dummies(df_test[[\"DeviceType\"]], dtype = int, drop_first = True)\n",
    "df_test = df_test.join([code_DeviceType])\n",
    "df_test = df_test.drop(columns = \"DeviceType\").reset_index(drop = True)\n",
    "\n",
    "# Onehot Encoding: Transaction Type\n",
    "code_transaction_type = pd.get_dummies(df_test[[\"TransactionType\"]], dtype = int, drop_first = True)\n",
    "df_test = df_test.join([code_transaction_type])\n",
    "df_test = df_test.drop(columns = \"TransactionType\").reset_index(drop = True)\n"
   ]
  },
  {
   "cell_type": "code",
   "execution_count": 36,
   "metadata": {},
   "outputs": [],
   "source": [
    "# Income, Expenditure, GiftsTransaction, TransactionAmount\n",
    "# GiftsTransaction\n",
    "df_test[['first_value', 'second_value']] = df_test[\"GiftsTransaction\"].str.split(' ', expand=True)\n",
    "    \n",
    "df_test[\"first_value_len\"] = df_test[\"first_value\"].apply(lambda s:len(s))\n",
    "df_test[\"second_value_len\"] = df_test[\"second_value\"].apply(lambda s:len(s))\n",
    "    \n",
    "    # function to get monetary symbol\n",
    "def get_monetary_symbol(row):\n",
    "    if row['first_value_len'] == 1:\n",
    "        return row['first_value']\n",
    "    elif row['first_value'] == \"AU$\":\n",
    "        return row['first_value']\n",
    "    elif row['first_value'] == \"AED\":\n",
    "        return row['first_value']\n",
    "    elif row['second_value'] == \"GBP\":\n",
    "        return row['second_value']\n",
    "    elif row['second_value'] == \"AUD\":\n",
    "        return row['second_value']\n",
    "    else:\n",
    "        return None\n",
    "    \n",
    "df_test[\"monetary_symbol\"] = df_test.apply(get_monetary_symbol, axis=1)\n",
    "    \n",
    "    # function to get monetary value\n",
    "def get_monetary_value(row):\n",
    "    if row['first_value'] == row[\"monetary_symbol\"]:\n",
    "        return row['second_value']\n",
    "    else:\n",
    "        return row['first_value']\n",
    "            \n",
    "df_test[\"monetary_value\"] = df_test.apply(get_monetary_value, axis=1)\n",
    "\n",
    "df_test[\"monetary_value\"] = df_test[\"monetary_value\"].astype(\"float\")\n",
    "    \n",
    "    # function to convert to AUD\n",
    "def get_exchange_rate(row):\n",
    "    if row['monetary_symbol'] == \"£\":\n",
    "        return 1.96\n",
    "    elif row['monetary_symbol'] == \"GBP\":\n",
    "        return 1.96\n",
    "    elif row['monetary_symbol'] == \"AED\":\n",
    "        return 0.41\n",
    "    else:\n",
    "        return 1\n",
    "    \n",
    "df_test[\"exchange_rate\"] = df_test.apply(get_exchange_rate, axis=1)\n",
    "    \n",
    "df_test[\"GiftsTransaction_AUD_equivalent\"] = df_test[\"exchange_rate\"]*df_test[\"monetary_value\"]\n",
    "    \n",
    "df_test = df_test.drop(columns = [\"first_value_len\", \"second_value_len\", 'first_value', 'second_value', \"exchange_rate\", \"monetary_symbol\",\"monetary_value\"]).reset_index(drop = True)"
   ]
  },
  {
   "cell_type": "code",
   "execution_count": 37,
   "metadata": {},
   "outputs": [],
   "source": [
    "# Income, Expenditure, GiftsTransaction, Transaction Amount\n",
    "\n",
    "# Income\n",
    "df_test[['first_value', 'second_value']] = df_test[\"Income\"].str.split(' ', expand=True)\n",
    "    \n",
    "df_test[\"first_value_len\"] = df_test[\"first_value\"].apply(lambda s:len(s))\n",
    "df_test[\"second_value_len\"] = df_test[\"second_value\"].apply(lambda s:len(s))\n",
    "    \n",
    "    # function to get monetary symbol\n",
    "def get_monetary_symbol(row):\n",
    "    if row['first_value_len'] == 1:\n",
    "        return row['first_value']\n",
    "    elif row['first_value'] == \"AU$\":\n",
    "        return row['first_value']\n",
    "    elif row['first_value'] == \"AED\":\n",
    "        return row['first_value']\n",
    "    elif row['second_value'] == \"GBP\":\n",
    "        return row['second_value']\n",
    "    elif row['second_value'] == \"AUD\":\n",
    "        return row['second_value']\n",
    "    else:\n",
    "        return None\n",
    "    \n",
    "df_test[\"monetary_symbol\"] = df_test.apply(get_monetary_symbol, axis=1)\n",
    "    \n",
    "    # function to get monetary value\n",
    "def get_monetary_value(row):\n",
    "    if row['first_value'] == row[\"monetary_symbol\"]:\n",
    "        return row['second_value']\n",
    "    else:\n",
    "        return row['first_value']\n",
    "            \n",
    "df_test[\"monetary_value\"] = df_test.apply(get_monetary_value, axis=1)\n",
    "\n",
    "df_test[\"monetary_value\"] = df_test[\"monetary_value\"].astype(\"float\")\n",
    "    \n",
    "    # function to convert to AUD\n",
    "def get_exchange_rate(row):\n",
    "    if row['monetary_symbol'] == \"£\":\n",
    "        return 1.96\n",
    "    elif row['monetary_symbol'] == \"GBP\":\n",
    "        return 1.96\n",
    "    elif row['monetary_symbol'] == \"AED\":\n",
    "        return 0.41\n",
    "    else:\n",
    "        return 1\n",
    "    \n",
    "df_test[\"exchange_rate\"] = df_test.apply(get_exchange_rate, axis=1)\n",
    "    \n",
    "df_test[\"Income_AUD_equivalent\"] = df_test[\"exchange_rate\"]*df_test[\"monetary_value\"]\n",
    "    \n",
    "df_test = df_test.drop(columns = [\"first_value_len\", \"second_value_len\", 'first_value', 'second_value', \"exchange_rate\", \"monetary_symbol\",\"monetary_value\"]).reset_index(drop = True)"
   ]
  },
  {
   "cell_type": "code",
   "execution_count": 38,
   "metadata": {},
   "outputs": [],
   "source": [
    "# Income, Expenditure, GiftsTransaction, TransactionAmount\n",
    "\n",
    "# Expenditure\n",
    "df_test[['first_value', 'second_value']] = df_test[\"Expenditure\"].str.split(' ', expand=True)\n",
    "    \n",
    "df_test[\"first_value_len\"] = df_test[\"first_value\"].apply(lambda s:len(s))\n",
    "df_test[\"second_value_len\"] = df_test[\"second_value\"].apply(lambda s:len(s))\n",
    "    \n",
    "    # function to get monetary symbol\n",
    "def get_monetary_symbol(row):\n",
    "    if row['first_value_len'] == 1:\n",
    "        return row['first_value']\n",
    "    elif row['first_value'] == \"AU$\":\n",
    "        return row['first_value']\n",
    "    elif row['first_value'] == \"AED\":\n",
    "        return row['first_value']\n",
    "    elif row['second_value'] == \"GBP\":\n",
    "        return row['second_value']\n",
    "    elif row['second_value'] == \"AUD\":\n",
    "        return row['second_value']\n",
    "    else:\n",
    "        return None\n",
    "    \n",
    "df_test[\"monetary_symbol\"] = df_test.apply(get_monetary_symbol, axis=1)\n",
    "    \n",
    "    # function to get monetary value\n",
    "def get_monetary_value(row):\n",
    "    if row['first_value'] == row[\"monetary_symbol\"]:\n",
    "        return row['second_value']\n",
    "    else:\n",
    "        return row['first_value']\n",
    "            \n",
    "df_test[\"monetary_value\"] = df_test.apply(get_monetary_value, axis=1)\n",
    "\n",
    "df_test[\"monetary_value\"] = df_test[\"monetary_value\"].astype(\"float\")\n",
    "    \n",
    "    # function to convert to AUD\n",
    "def get_exchange_rate(row):\n",
    "    if row['monetary_symbol'] == \"£\":\n",
    "        return 1.96\n",
    "    elif row['monetary_symbol'] == \"GBP\":\n",
    "        return 1.96\n",
    "    elif row['monetary_symbol'] == \"AED\":\n",
    "        return 0.41\n",
    "    else:\n",
    "        return 1\n",
    "    \n",
    "df_test[\"exchange_rate\"] = df_test.apply(get_exchange_rate, axis=1)\n",
    "    \n",
    "df_test[\"Expenditure_AUD_equivalent\"] = df_test[\"exchange_rate\"]*df_test[\"monetary_value\"]\n",
    "    \n",
    "df_test = df_test.drop(columns = [\"first_value_len\", \"second_value_len\", 'first_value', 'second_value', \"exchange_rate\", \"monetary_symbol\",\"monetary_value\"]).reset_index(drop = True)"
   ]
  },
  {
   "cell_type": "code",
   "execution_count": 39,
   "metadata": {},
   "outputs": [],
   "source": [
    "# Income, Expenditure, GiftsTransaction, TransactionAmount\n",
    "\n",
    "# TransactionAmount\n",
    "df_test[['first_value', 'second_value']] = df_test[\"TransactionAmount\"].str.split(' ', expand=True)\n",
    "    \n",
    "df_test[\"first_value_len\"] = df_test[\"first_value\"].apply(lambda s:len(s))\n",
    "df_test[\"second_value_len\"] = df_test[\"second_value\"].apply(lambda s:len(s))\n",
    "    \n",
    "    # function to get monetary symbol\n",
    "def get_monetary_symbol(row):\n",
    "    if row['first_value_len'] == 1:\n",
    "        return row['first_value']\n",
    "    elif row['first_value'] == \"AU$\":\n",
    "        return row['first_value']\n",
    "    elif row['first_value'] == \"AED\":\n",
    "        return row['first_value']\n",
    "    elif row['second_value'] == \"GBP\":\n",
    "        return row['second_value']\n",
    "    elif row['second_value'] == \"AUD\":\n",
    "        return row['second_value']\n",
    "    else:\n",
    "        return None\n",
    "    \n",
    "df_test[\"monetary_symbol\"] = df_test.apply(get_monetary_symbol, axis=1)\n",
    "    \n",
    "    # function to get monetary value\n",
    "def get_monetary_value(row):\n",
    "    if row['first_value'] == row[\"monetary_symbol\"]:\n",
    "        return row['second_value']\n",
    "    else:\n",
    "        return row['first_value']\n",
    "            \n",
    "df_test[\"monetary_value\"] = df_test.apply(get_monetary_value, axis=1)\n",
    "\n",
    "df_test[\"monetary_value\"] = df_test[\"monetary_value\"].astype(\"float\")\n",
    "    \n",
    "    # function to convert to AUD\n",
    "def get_exchange_rate(row):\n",
    "    if row['monetary_symbol'] == \"£\":\n",
    "        return 1.96\n",
    "    elif row['monetary_symbol'] == \"GBP\":\n",
    "        return 1.96\n",
    "    elif row['monetary_symbol'] == \"AED\":\n",
    "        return 0.41\n",
    "    else:\n",
    "        return 1\n",
    "    \n",
    "df_test[\"exchange_rate\"] = df_test.apply(get_exchange_rate, axis=1)\n",
    "    \n",
    "df_test[\"TransactionAmount_AUD_equivalent\"] = df_test[\"exchange_rate\"]*df_test[\"monetary_value\"]\n",
    "    \n",
    "df_test = df_test.drop(columns = [\"first_value_len\", \"second_value_len\", 'first_value', 'second_value', \"exchange_rate\", \"monetary_symbol\",\"monetary_value\"]).reset_index(drop = True)"
   ]
  },
  {
   "cell_type": "code",
   "execution_count": 40,
   "metadata": {},
   "outputs": [],
   "source": [
    "# Drop the original columns to prevent confusion\n",
    "df_test = df_test.drop(columns = [\"GiftsTransaction\", \"Income\", 'Expenditure', 'TransactionAmount']).reset_index(drop = True)"
   ]
  },
  {
   "cell_type": "code",
   "execution_count": 41,
   "metadata": {},
   "outputs": [],
   "source": [
    "# Transaction date, Transaction time\n",
    "\n",
    "# Convert Transaction date\n",
    "df_test[\"TransactionDate\"] =pd.to_datetime(df_test[\"TransactionDate\"])\n",
    "# Separate into year, month, day\n",
    "df_test['Year'] = df_test['TransactionDate'].dt.year\n",
    "df_test['Month'] = df_test['TransactionDate'].dt.month\n",
    "df_test['Day'] = df_test['TransactionDate'].dt.day\n",
    "\n",
    "#Convert Transaction time\n",
    "def standardize_time(time):\n",
    "    # Remove extra characters and whitespace\n",
    "    time = time.strip()\n",
    "    # Handle the \"/\" \n",
    "    if \"/\" in time:\n",
    "        time = time.replace(\"/\", \":\")\n",
    "    # Handle AM/PM format\n",
    "    if time[-2:] in ['AM', 'PM']:\n",
    "        return pd.to_datetime(time, format='%I:%M:%S %p').strftime('%H:%M:%S')\n",
    "    else:\n",
    "        return pd.to_datetime(time, format='%H:%M:%S').strftime('%H:%M:%S')\n",
    "\n",
    "# Assuming your DataFrame is named 'df' and the column is 'TransactionTime'\n",
    "df_test['TransactionTime'] = df_test['TransactionTime'].apply(standardize_time)"
   ]
  },
  {
   "cell_type": "code",
   "execution_count": 42,
   "metadata": {},
   "outputs": [],
   "source": [
    "df_test = df_test.drop(['TransactionDate','TransactionTime',\"TransactionNumber\", \"UserID\", \"MerchantID\", \"EmailDomain\"], axis=1)"
   ]
  },
  {
   "cell_type": "markdown",
   "metadata": {},
   "source": [
    "# II. Models\n",
    "\n",
    "## 1. Random Forest"
   ]
  },
  {
   "cell_type": "code",
   "execution_count": 43,
   "metadata": {},
   "outputs": [],
   "source": [
    "from sklearn.model_selection import train_test_split\n",
    "from sklearn.ensemble import RandomForestClassifier\n",
    "from sklearn.metrics import confusion_matrix, classification_report"
   ]
  },
  {
   "cell_type": "code",
   "execution_count": 44,
   "metadata": {},
   "outputs": [
    {
     "ename": "ValueError",
     "evalue": "could not convert string to float: '[@]\\\\w+[.]'",
     "output_type": "error",
     "traceback": [
      "\u001b[0;31m---------------------------------------------------------------------------\u001b[0m",
      "\u001b[0;31mValueError\u001b[0m                                Traceback (most recent call last)",
      "Cell \u001b[0;32mIn[44], line 5\u001b[0m\n\u001b[1;32m      3\u001b[0m X_train, X_test, y_train, y_test \u001b[38;5;241m=\u001b[39m train_test_split(X, y, test_size \u001b[38;5;241m=\u001b[39m \u001b[38;5;241m0.20\u001b[39m, random_state \u001b[38;5;241m=\u001b[39m \u001b[38;5;241m8\u001b[39m, stratify \u001b[38;5;241m=\u001b[39m y)\n\u001b[1;32m      4\u001b[0m rfr \u001b[38;5;241m=\u001b[39m RandomForestClassifier (random_state\u001b[38;5;241m=\u001b[39m\u001b[38;5;241m123\u001b[39m)\n\u001b[0;32m----> 5\u001b[0m \u001b[43mrfr\u001b[49m\u001b[38;5;241;43m.\u001b[39;49m\u001b[43mfit\u001b[49m\u001b[43m(\u001b[49m\u001b[43mX_train\u001b[49m\u001b[43m,\u001b[49m\u001b[43m \u001b[49m\u001b[43my_train\u001b[49m\u001b[43m)\u001b[49m\n\u001b[1;32m      6\u001b[0m y_pred \u001b[38;5;241m=\u001b[39m rfr\u001b[38;5;241m.\u001b[39mpredict(X_test)\n",
      "File \u001b[0;32m/Library/Frameworks/Python.framework/Versions/3.12/lib/python3.12/site-packages/sklearn/base.py:1474\u001b[0m, in \u001b[0;36m_fit_context.<locals>.decorator.<locals>.wrapper\u001b[0;34m(estimator, *args, **kwargs)\u001b[0m\n\u001b[1;32m   1467\u001b[0m     estimator\u001b[38;5;241m.\u001b[39m_validate_params()\n\u001b[1;32m   1469\u001b[0m \u001b[38;5;28;01mwith\u001b[39;00m config_context(\n\u001b[1;32m   1470\u001b[0m     skip_parameter_validation\u001b[38;5;241m=\u001b[39m(\n\u001b[1;32m   1471\u001b[0m         prefer_skip_nested_validation \u001b[38;5;129;01mor\u001b[39;00m global_skip_validation\n\u001b[1;32m   1472\u001b[0m     )\n\u001b[1;32m   1473\u001b[0m ):\n\u001b[0;32m-> 1474\u001b[0m     \u001b[38;5;28;01mreturn\u001b[39;00m \u001b[43mfit_method\u001b[49m\u001b[43m(\u001b[49m\u001b[43mestimator\u001b[49m\u001b[43m,\u001b[49m\u001b[43m \u001b[49m\u001b[38;5;241;43m*\u001b[39;49m\u001b[43margs\u001b[49m\u001b[43m,\u001b[49m\u001b[43m \u001b[49m\u001b[38;5;241;43m*\u001b[39;49m\u001b[38;5;241;43m*\u001b[39;49m\u001b[43mkwargs\u001b[49m\u001b[43m)\u001b[49m\n",
      "File \u001b[0;32m/Library/Frameworks/Python.framework/Versions/3.12/lib/python3.12/site-packages/sklearn/ensemble/_forest.py:363\u001b[0m, in \u001b[0;36mBaseForest.fit\u001b[0;34m(self, X, y, sample_weight)\u001b[0m\n\u001b[1;32m    360\u001b[0m \u001b[38;5;28;01mif\u001b[39;00m issparse(y):\n\u001b[1;32m    361\u001b[0m     \u001b[38;5;28;01mraise\u001b[39;00m \u001b[38;5;167;01mValueError\u001b[39;00m(\u001b[38;5;124m\"\u001b[39m\u001b[38;5;124msparse multilabel-indicator for y is not supported.\u001b[39m\u001b[38;5;124m\"\u001b[39m)\n\u001b[0;32m--> 363\u001b[0m X, y \u001b[38;5;241m=\u001b[39m \u001b[38;5;28;43mself\u001b[39;49m\u001b[38;5;241;43m.\u001b[39;49m\u001b[43m_validate_data\u001b[49m\u001b[43m(\u001b[49m\n\u001b[1;32m    364\u001b[0m \u001b[43m    \u001b[49m\u001b[43mX\u001b[49m\u001b[43m,\u001b[49m\n\u001b[1;32m    365\u001b[0m \u001b[43m    \u001b[49m\u001b[43my\u001b[49m\u001b[43m,\u001b[49m\n\u001b[1;32m    366\u001b[0m \u001b[43m    \u001b[49m\u001b[43mmulti_output\u001b[49m\u001b[38;5;241;43m=\u001b[39;49m\u001b[38;5;28;43;01mTrue\u001b[39;49;00m\u001b[43m,\u001b[49m\n\u001b[1;32m    367\u001b[0m \u001b[43m    \u001b[49m\u001b[43maccept_sparse\u001b[49m\u001b[38;5;241;43m=\u001b[39;49m\u001b[38;5;124;43m\"\u001b[39;49m\u001b[38;5;124;43mcsc\u001b[39;49m\u001b[38;5;124;43m\"\u001b[39;49m\u001b[43m,\u001b[49m\n\u001b[1;32m    368\u001b[0m \u001b[43m    \u001b[49m\u001b[43mdtype\u001b[49m\u001b[38;5;241;43m=\u001b[39;49m\u001b[43mDTYPE\u001b[49m\u001b[43m,\u001b[49m\n\u001b[1;32m    369\u001b[0m \u001b[43m    \u001b[49m\u001b[43mforce_all_finite\u001b[49m\u001b[38;5;241;43m=\u001b[39;49m\u001b[38;5;28;43;01mFalse\u001b[39;49;00m\u001b[43m,\u001b[49m\n\u001b[1;32m    370\u001b[0m \u001b[43m\u001b[49m\u001b[43m)\u001b[49m\n\u001b[1;32m    371\u001b[0m \u001b[38;5;66;03m# _compute_missing_values_in_feature_mask checks if X has missing values and\u001b[39;00m\n\u001b[1;32m    372\u001b[0m \u001b[38;5;66;03m# will raise an error if the underlying tree base estimator can't handle missing\u001b[39;00m\n\u001b[1;32m    373\u001b[0m \u001b[38;5;66;03m# values. Only the criterion is required to determine if the tree supports\u001b[39;00m\n\u001b[1;32m    374\u001b[0m \u001b[38;5;66;03m# missing values.\u001b[39;00m\n\u001b[1;32m    375\u001b[0m estimator \u001b[38;5;241m=\u001b[39m \u001b[38;5;28mtype\u001b[39m(\u001b[38;5;28mself\u001b[39m\u001b[38;5;241m.\u001b[39mestimator)(criterion\u001b[38;5;241m=\u001b[39m\u001b[38;5;28mself\u001b[39m\u001b[38;5;241m.\u001b[39mcriterion)\n",
      "File \u001b[0;32m/Library/Frameworks/Python.framework/Versions/3.12/lib/python3.12/site-packages/sklearn/base.py:650\u001b[0m, in \u001b[0;36mBaseEstimator._validate_data\u001b[0;34m(self, X, y, reset, validate_separately, cast_to_ndarray, **check_params)\u001b[0m\n\u001b[1;32m    648\u001b[0m         y \u001b[38;5;241m=\u001b[39m check_array(y, input_name\u001b[38;5;241m=\u001b[39m\u001b[38;5;124m\"\u001b[39m\u001b[38;5;124my\u001b[39m\u001b[38;5;124m\"\u001b[39m, \u001b[38;5;241m*\u001b[39m\u001b[38;5;241m*\u001b[39mcheck_y_params)\n\u001b[1;32m    649\u001b[0m     \u001b[38;5;28;01melse\u001b[39;00m:\n\u001b[0;32m--> 650\u001b[0m         X, y \u001b[38;5;241m=\u001b[39m \u001b[43mcheck_X_y\u001b[49m\u001b[43m(\u001b[49m\u001b[43mX\u001b[49m\u001b[43m,\u001b[49m\u001b[43m \u001b[49m\u001b[43my\u001b[49m\u001b[43m,\u001b[49m\u001b[43m \u001b[49m\u001b[38;5;241;43m*\u001b[39;49m\u001b[38;5;241;43m*\u001b[39;49m\u001b[43mcheck_params\u001b[49m\u001b[43m)\u001b[49m\n\u001b[1;32m    651\u001b[0m     out \u001b[38;5;241m=\u001b[39m X, y\n\u001b[1;32m    653\u001b[0m \u001b[38;5;28;01mif\u001b[39;00m \u001b[38;5;129;01mnot\u001b[39;00m no_val_X \u001b[38;5;129;01mand\u001b[39;00m check_params\u001b[38;5;241m.\u001b[39mget(\u001b[38;5;124m\"\u001b[39m\u001b[38;5;124mensure_2d\u001b[39m\u001b[38;5;124m\"\u001b[39m, \u001b[38;5;28;01mTrue\u001b[39;00m):\n",
      "File \u001b[0;32m/Library/Frameworks/Python.framework/Versions/3.12/lib/python3.12/site-packages/sklearn/utils/validation.py:1263\u001b[0m, in \u001b[0;36mcheck_X_y\u001b[0;34m(X, y, accept_sparse, accept_large_sparse, dtype, order, copy, force_all_finite, ensure_2d, allow_nd, multi_output, ensure_min_samples, ensure_min_features, y_numeric, estimator)\u001b[0m\n\u001b[1;32m   1258\u001b[0m         estimator_name \u001b[38;5;241m=\u001b[39m _check_estimator_name(estimator)\n\u001b[1;32m   1259\u001b[0m     \u001b[38;5;28;01mraise\u001b[39;00m \u001b[38;5;167;01mValueError\u001b[39;00m(\n\u001b[1;32m   1260\u001b[0m         \u001b[38;5;124mf\u001b[39m\u001b[38;5;124m\"\u001b[39m\u001b[38;5;132;01m{\u001b[39;00mestimator_name\u001b[38;5;132;01m}\u001b[39;00m\u001b[38;5;124m requires y to be passed, but the target y is None\u001b[39m\u001b[38;5;124m\"\u001b[39m\n\u001b[1;32m   1261\u001b[0m     )\n\u001b[0;32m-> 1263\u001b[0m X \u001b[38;5;241m=\u001b[39m \u001b[43mcheck_array\u001b[49m\u001b[43m(\u001b[49m\n\u001b[1;32m   1264\u001b[0m \u001b[43m    \u001b[49m\u001b[43mX\u001b[49m\u001b[43m,\u001b[49m\n\u001b[1;32m   1265\u001b[0m \u001b[43m    \u001b[49m\u001b[43maccept_sparse\u001b[49m\u001b[38;5;241;43m=\u001b[39;49m\u001b[43maccept_sparse\u001b[49m\u001b[43m,\u001b[49m\n\u001b[1;32m   1266\u001b[0m \u001b[43m    \u001b[49m\u001b[43maccept_large_sparse\u001b[49m\u001b[38;5;241;43m=\u001b[39;49m\u001b[43maccept_large_sparse\u001b[49m\u001b[43m,\u001b[49m\n\u001b[1;32m   1267\u001b[0m \u001b[43m    \u001b[49m\u001b[43mdtype\u001b[49m\u001b[38;5;241;43m=\u001b[39;49m\u001b[43mdtype\u001b[49m\u001b[43m,\u001b[49m\n\u001b[1;32m   1268\u001b[0m \u001b[43m    \u001b[49m\u001b[43morder\u001b[49m\u001b[38;5;241;43m=\u001b[39;49m\u001b[43morder\u001b[49m\u001b[43m,\u001b[49m\n\u001b[1;32m   1269\u001b[0m \u001b[43m    \u001b[49m\u001b[43mcopy\u001b[49m\u001b[38;5;241;43m=\u001b[39;49m\u001b[43mcopy\u001b[49m\u001b[43m,\u001b[49m\n\u001b[1;32m   1270\u001b[0m \u001b[43m    \u001b[49m\u001b[43mforce_all_finite\u001b[49m\u001b[38;5;241;43m=\u001b[39;49m\u001b[43mforce_all_finite\u001b[49m\u001b[43m,\u001b[49m\n\u001b[1;32m   1271\u001b[0m \u001b[43m    \u001b[49m\u001b[43mensure_2d\u001b[49m\u001b[38;5;241;43m=\u001b[39;49m\u001b[43mensure_2d\u001b[49m\u001b[43m,\u001b[49m\n\u001b[1;32m   1272\u001b[0m \u001b[43m    \u001b[49m\u001b[43mallow_nd\u001b[49m\u001b[38;5;241;43m=\u001b[39;49m\u001b[43mallow_nd\u001b[49m\u001b[43m,\u001b[49m\n\u001b[1;32m   1273\u001b[0m \u001b[43m    \u001b[49m\u001b[43mensure_min_samples\u001b[49m\u001b[38;5;241;43m=\u001b[39;49m\u001b[43mensure_min_samples\u001b[49m\u001b[43m,\u001b[49m\n\u001b[1;32m   1274\u001b[0m \u001b[43m    \u001b[49m\u001b[43mensure_min_features\u001b[49m\u001b[38;5;241;43m=\u001b[39;49m\u001b[43mensure_min_features\u001b[49m\u001b[43m,\u001b[49m\n\u001b[1;32m   1275\u001b[0m \u001b[43m    \u001b[49m\u001b[43mestimator\u001b[49m\u001b[38;5;241;43m=\u001b[39;49m\u001b[43mestimator\u001b[49m\u001b[43m,\u001b[49m\n\u001b[1;32m   1276\u001b[0m \u001b[43m    \u001b[49m\u001b[43minput_name\u001b[49m\u001b[38;5;241;43m=\u001b[39;49m\u001b[38;5;124;43m\"\u001b[39;49m\u001b[38;5;124;43mX\u001b[39;49m\u001b[38;5;124;43m\"\u001b[39;49m\u001b[43m,\u001b[49m\n\u001b[1;32m   1277\u001b[0m \u001b[43m\u001b[49m\u001b[43m)\u001b[49m\n\u001b[1;32m   1279\u001b[0m y \u001b[38;5;241m=\u001b[39m _check_y(y, multi_output\u001b[38;5;241m=\u001b[39mmulti_output, y_numeric\u001b[38;5;241m=\u001b[39my_numeric, estimator\u001b[38;5;241m=\u001b[39mestimator)\n\u001b[1;32m   1281\u001b[0m check_consistent_length(X, y)\n",
      "File \u001b[0;32m/Library/Frameworks/Python.framework/Versions/3.12/lib/python3.12/site-packages/sklearn/utils/validation.py:921\u001b[0m, in \u001b[0;36mcheck_array\u001b[0;34m(array, accept_sparse, accept_large_sparse, dtype, order, copy, force_all_finite, ensure_2d, allow_nd, ensure_min_samples, ensure_min_features, estimator, input_name)\u001b[0m\n\u001b[1;32m    916\u001b[0m \u001b[38;5;28;01mif\u001b[39;00m pandas_requires_conversion:\n\u001b[1;32m    917\u001b[0m     \u001b[38;5;66;03m# pandas dataframe requires conversion earlier to handle extension dtypes with\u001b[39;00m\n\u001b[1;32m    918\u001b[0m     \u001b[38;5;66;03m# nans\u001b[39;00m\n\u001b[1;32m    919\u001b[0m     \u001b[38;5;66;03m# Use the original dtype for conversion if dtype is None\u001b[39;00m\n\u001b[1;32m    920\u001b[0m     new_dtype \u001b[38;5;241m=\u001b[39m dtype_orig \u001b[38;5;28;01mif\u001b[39;00m dtype \u001b[38;5;129;01mis\u001b[39;00m \u001b[38;5;28;01mNone\u001b[39;00m \u001b[38;5;28;01melse\u001b[39;00m dtype\n\u001b[0;32m--> 921\u001b[0m     array \u001b[38;5;241m=\u001b[39m \u001b[43marray\u001b[49m\u001b[38;5;241;43m.\u001b[39;49m\u001b[43mastype\u001b[49m\u001b[43m(\u001b[49m\u001b[43mnew_dtype\u001b[49m\u001b[43m)\u001b[49m\n\u001b[1;32m    922\u001b[0m     \u001b[38;5;66;03m# Since we converted here, we do not need to convert again later\u001b[39;00m\n\u001b[1;32m    923\u001b[0m     dtype \u001b[38;5;241m=\u001b[39m \u001b[38;5;28;01mNone\u001b[39;00m\n",
      "File \u001b[0;32m/Library/Frameworks/Python.framework/Versions/3.12/lib/python3.12/site-packages/pandas/core/generic.py:6637\u001b[0m, in \u001b[0;36mNDFrame.astype\u001b[0;34m(self, dtype, copy, errors)\u001b[0m\n\u001b[1;32m   6631\u001b[0m     results \u001b[38;5;241m=\u001b[39m [\n\u001b[1;32m   6632\u001b[0m         ser\u001b[38;5;241m.\u001b[39mastype(dtype, copy\u001b[38;5;241m=\u001b[39mcopy, errors\u001b[38;5;241m=\u001b[39merrors) \u001b[38;5;28;01mfor\u001b[39;00m _, ser \u001b[38;5;129;01min\u001b[39;00m \u001b[38;5;28mself\u001b[39m\u001b[38;5;241m.\u001b[39mitems()\n\u001b[1;32m   6633\u001b[0m     ]\n\u001b[1;32m   6635\u001b[0m \u001b[38;5;28;01melse\u001b[39;00m:\n\u001b[1;32m   6636\u001b[0m     \u001b[38;5;66;03m# else, only a single dtype is given\u001b[39;00m\n\u001b[0;32m-> 6637\u001b[0m     new_data \u001b[38;5;241m=\u001b[39m \u001b[38;5;28;43mself\u001b[39;49m\u001b[38;5;241;43m.\u001b[39;49m\u001b[43m_mgr\u001b[49m\u001b[38;5;241;43m.\u001b[39;49m\u001b[43mastype\u001b[49m\u001b[43m(\u001b[49m\u001b[43mdtype\u001b[49m\u001b[38;5;241;43m=\u001b[39;49m\u001b[43mdtype\u001b[49m\u001b[43m,\u001b[49m\u001b[43m \u001b[49m\u001b[43mcopy\u001b[49m\u001b[38;5;241;43m=\u001b[39;49m\u001b[43mcopy\u001b[49m\u001b[43m,\u001b[49m\u001b[43m \u001b[49m\u001b[43merrors\u001b[49m\u001b[38;5;241;43m=\u001b[39;49m\u001b[43merrors\u001b[49m\u001b[43m)\u001b[49m\n\u001b[1;32m   6638\u001b[0m     res \u001b[38;5;241m=\u001b[39m \u001b[38;5;28mself\u001b[39m\u001b[38;5;241m.\u001b[39m_constructor_from_mgr(new_data, axes\u001b[38;5;241m=\u001b[39mnew_data\u001b[38;5;241m.\u001b[39maxes)\n\u001b[1;32m   6639\u001b[0m     \u001b[38;5;28;01mreturn\u001b[39;00m res\u001b[38;5;241m.\u001b[39m__finalize__(\u001b[38;5;28mself\u001b[39m, method\u001b[38;5;241m=\u001b[39m\u001b[38;5;124m\"\u001b[39m\u001b[38;5;124mastype\u001b[39m\u001b[38;5;124m\"\u001b[39m)\n",
      "File \u001b[0;32m/Library/Frameworks/Python.framework/Versions/3.12/lib/python3.12/site-packages/pandas/core/internals/managers.py:431\u001b[0m, in \u001b[0;36mBaseBlockManager.astype\u001b[0;34m(self, dtype, copy, errors)\u001b[0m\n\u001b[1;32m    428\u001b[0m \u001b[38;5;28;01melif\u001b[39;00m using_copy_on_write():\n\u001b[1;32m    429\u001b[0m     copy \u001b[38;5;241m=\u001b[39m \u001b[38;5;28;01mFalse\u001b[39;00m\n\u001b[0;32m--> 431\u001b[0m \u001b[38;5;28;01mreturn\u001b[39;00m \u001b[38;5;28;43mself\u001b[39;49m\u001b[38;5;241;43m.\u001b[39;49m\u001b[43mapply\u001b[49m\u001b[43m(\u001b[49m\n\u001b[1;32m    432\u001b[0m \u001b[43m    \u001b[49m\u001b[38;5;124;43m\"\u001b[39;49m\u001b[38;5;124;43mastype\u001b[39;49m\u001b[38;5;124;43m\"\u001b[39;49m\u001b[43m,\u001b[49m\n\u001b[1;32m    433\u001b[0m \u001b[43m    \u001b[49m\u001b[43mdtype\u001b[49m\u001b[38;5;241;43m=\u001b[39;49m\u001b[43mdtype\u001b[49m\u001b[43m,\u001b[49m\n\u001b[1;32m    434\u001b[0m \u001b[43m    \u001b[49m\u001b[43mcopy\u001b[49m\u001b[38;5;241;43m=\u001b[39;49m\u001b[43mcopy\u001b[49m\u001b[43m,\u001b[49m\n\u001b[1;32m    435\u001b[0m \u001b[43m    \u001b[49m\u001b[43merrors\u001b[49m\u001b[38;5;241;43m=\u001b[39;49m\u001b[43merrors\u001b[49m\u001b[43m,\u001b[49m\n\u001b[1;32m    436\u001b[0m \u001b[43m    \u001b[49m\u001b[43musing_cow\u001b[49m\u001b[38;5;241;43m=\u001b[39;49m\u001b[43musing_copy_on_write\u001b[49m\u001b[43m(\u001b[49m\u001b[43m)\u001b[49m\u001b[43m,\u001b[49m\n\u001b[1;32m    437\u001b[0m \u001b[43m\u001b[49m\u001b[43m)\u001b[49m\n",
      "File \u001b[0;32m/Library/Frameworks/Python.framework/Versions/3.12/lib/python3.12/site-packages/pandas/core/internals/managers.py:364\u001b[0m, in \u001b[0;36mBaseBlockManager.apply\u001b[0;34m(self, f, align_keys, **kwargs)\u001b[0m\n\u001b[1;32m    362\u001b[0m         applied \u001b[38;5;241m=\u001b[39m b\u001b[38;5;241m.\u001b[39mapply(f, \u001b[38;5;241m*\u001b[39m\u001b[38;5;241m*\u001b[39mkwargs)\n\u001b[1;32m    363\u001b[0m     \u001b[38;5;28;01melse\u001b[39;00m:\n\u001b[0;32m--> 364\u001b[0m         applied \u001b[38;5;241m=\u001b[39m \u001b[38;5;28;43mgetattr\u001b[39;49m\u001b[43m(\u001b[49m\u001b[43mb\u001b[49m\u001b[43m,\u001b[49m\u001b[43m \u001b[49m\u001b[43mf\u001b[49m\u001b[43m)\u001b[49m\u001b[43m(\u001b[49m\u001b[38;5;241;43m*\u001b[39;49m\u001b[38;5;241;43m*\u001b[39;49m\u001b[43mkwargs\u001b[49m\u001b[43m)\u001b[49m\n\u001b[1;32m    365\u001b[0m     result_blocks \u001b[38;5;241m=\u001b[39m extend_blocks(applied, result_blocks)\n\u001b[1;32m    367\u001b[0m out \u001b[38;5;241m=\u001b[39m \u001b[38;5;28mtype\u001b[39m(\u001b[38;5;28mself\u001b[39m)\u001b[38;5;241m.\u001b[39mfrom_blocks(result_blocks, \u001b[38;5;28mself\u001b[39m\u001b[38;5;241m.\u001b[39maxes)\n",
      "File \u001b[0;32m/Library/Frameworks/Python.framework/Versions/3.12/lib/python3.12/site-packages/pandas/core/internals/blocks.py:758\u001b[0m, in \u001b[0;36mBlock.astype\u001b[0;34m(self, dtype, copy, errors, using_cow, squeeze)\u001b[0m\n\u001b[1;32m    755\u001b[0m         \u001b[38;5;28;01mraise\u001b[39;00m \u001b[38;5;167;01mValueError\u001b[39;00m(\u001b[38;5;124m\"\u001b[39m\u001b[38;5;124mCan not squeeze with more than one column.\u001b[39m\u001b[38;5;124m\"\u001b[39m)\n\u001b[1;32m    756\u001b[0m     values \u001b[38;5;241m=\u001b[39m values[\u001b[38;5;241m0\u001b[39m, :]  \u001b[38;5;66;03m# type: ignore[call-overload]\u001b[39;00m\n\u001b[0;32m--> 758\u001b[0m new_values \u001b[38;5;241m=\u001b[39m \u001b[43mastype_array_safe\u001b[49m\u001b[43m(\u001b[49m\u001b[43mvalues\u001b[49m\u001b[43m,\u001b[49m\u001b[43m \u001b[49m\u001b[43mdtype\u001b[49m\u001b[43m,\u001b[49m\u001b[43m \u001b[49m\u001b[43mcopy\u001b[49m\u001b[38;5;241;43m=\u001b[39;49m\u001b[43mcopy\u001b[49m\u001b[43m,\u001b[49m\u001b[43m \u001b[49m\u001b[43merrors\u001b[49m\u001b[38;5;241;43m=\u001b[39;49m\u001b[43merrors\u001b[49m\u001b[43m)\u001b[49m\n\u001b[1;32m    760\u001b[0m new_values \u001b[38;5;241m=\u001b[39m maybe_coerce_values(new_values)\n\u001b[1;32m    762\u001b[0m refs \u001b[38;5;241m=\u001b[39m \u001b[38;5;28;01mNone\u001b[39;00m\n",
      "File \u001b[0;32m/Library/Frameworks/Python.framework/Versions/3.12/lib/python3.12/site-packages/pandas/core/dtypes/astype.py:237\u001b[0m, in \u001b[0;36mastype_array_safe\u001b[0;34m(values, dtype, copy, errors)\u001b[0m\n\u001b[1;32m    234\u001b[0m     dtype \u001b[38;5;241m=\u001b[39m dtype\u001b[38;5;241m.\u001b[39mnumpy_dtype\n\u001b[1;32m    236\u001b[0m \u001b[38;5;28;01mtry\u001b[39;00m:\n\u001b[0;32m--> 237\u001b[0m     new_values \u001b[38;5;241m=\u001b[39m \u001b[43mastype_array\u001b[49m\u001b[43m(\u001b[49m\u001b[43mvalues\u001b[49m\u001b[43m,\u001b[49m\u001b[43m \u001b[49m\u001b[43mdtype\u001b[49m\u001b[43m,\u001b[49m\u001b[43m \u001b[49m\u001b[43mcopy\u001b[49m\u001b[38;5;241;43m=\u001b[39;49m\u001b[43mcopy\u001b[49m\u001b[43m)\u001b[49m\n\u001b[1;32m    238\u001b[0m \u001b[38;5;28;01mexcept\u001b[39;00m (\u001b[38;5;167;01mValueError\u001b[39;00m, \u001b[38;5;167;01mTypeError\u001b[39;00m):\n\u001b[1;32m    239\u001b[0m     \u001b[38;5;66;03m# e.g. _astype_nansafe can fail on object-dtype of strings\u001b[39;00m\n\u001b[1;32m    240\u001b[0m     \u001b[38;5;66;03m#  trying to convert to float\u001b[39;00m\n\u001b[1;32m    241\u001b[0m     \u001b[38;5;28;01mif\u001b[39;00m errors \u001b[38;5;241m==\u001b[39m \u001b[38;5;124m\"\u001b[39m\u001b[38;5;124mignore\u001b[39m\u001b[38;5;124m\"\u001b[39m:\n",
      "File \u001b[0;32m/Library/Frameworks/Python.framework/Versions/3.12/lib/python3.12/site-packages/pandas/core/dtypes/astype.py:182\u001b[0m, in \u001b[0;36mastype_array\u001b[0;34m(values, dtype, copy)\u001b[0m\n\u001b[1;32m    179\u001b[0m     values \u001b[38;5;241m=\u001b[39m values\u001b[38;5;241m.\u001b[39mastype(dtype, copy\u001b[38;5;241m=\u001b[39mcopy)\n\u001b[1;32m    181\u001b[0m \u001b[38;5;28;01melse\u001b[39;00m:\n\u001b[0;32m--> 182\u001b[0m     values \u001b[38;5;241m=\u001b[39m \u001b[43m_astype_nansafe\u001b[49m\u001b[43m(\u001b[49m\u001b[43mvalues\u001b[49m\u001b[43m,\u001b[49m\u001b[43m \u001b[49m\u001b[43mdtype\u001b[49m\u001b[43m,\u001b[49m\u001b[43m \u001b[49m\u001b[43mcopy\u001b[49m\u001b[38;5;241;43m=\u001b[39;49m\u001b[43mcopy\u001b[49m\u001b[43m)\u001b[49m\n\u001b[1;32m    184\u001b[0m \u001b[38;5;66;03m# in pandas we don't store numpy str dtypes, so convert to object\u001b[39;00m\n\u001b[1;32m    185\u001b[0m \u001b[38;5;28;01mif\u001b[39;00m \u001b[38;5;28misinstance\u001b[39m(dtype, np\u001b[38;5;241m.\u001b[39mdtype) \u001b[38;5;129;01mand\u001b[39;00m \u001b[38;5;28missubclass\u001b[39m(values\u001b[38;5;241m.\u001b[39mdtype\u001b[38;5;241m.\u001b[39mtype, \u001b[38;5;28mstr\u001b[39m):\n",
      "File \u001b[0;32m/Library/Frameworks/Python.framework/Versions/3.12/lib/python3.12/site-packages/pandas/core/dtypes/astype.py:133\u001b[0m, in \u001b[0;36m_astype_nansafe\u001b[0;34m(arr, dtype, copy, skipna)\u001b[0m\n\u001b[1;32m    129\u001b[0m     \u001b[38;5;28;01mraise\u001b[39;00m \u001b[38;5;167;01mValueError\u001b[39;00m(msg)\n\u001b[1;32m    131\u001b[0m \u001b[38;5;28;01mif\u001b[39;00m copy \u001b[38;5;129;01mor\u001b[39;00m arr\u001b[38;5;241m.\u001b[39mdtype \u001b[38;5;241m==\u001b[39m \u001b[38;5;28mobject\u001b[39m \u001b[38;5;129;01mor\u001b[39;00m dtype \u001b[38;5;241m==\u001b[39m \u001b[38;5;28mobject\u001b[39m:\n\u001b[1;32m    132\u001b[0m     \u001b[38;5;66;03m# Explicit copy, or required since NumPy can't view from / to object.\u001b[39;00m\n\u001b[0;32m--> 133\u001b[0m     \u001b[38;5;28;01mreturn\u001b[39;00m \u001b[43marr\u001b[49m\u001b[38;5;241;43m.\u001b[39;49m\u001b[43mastype\u001b[49m\u001b[43m(\u001b[49m\u001b[43mdtype\u001b[49m\u001b[43m,\u001b[49m\u001b[43m \u001b[49m\u001b[43mcopy\u001b[49m\u001b[38;5;241;43m=\u001b[39;49m\u001b[38;5;28;43;01mTrue\u001b[39;49;00m\u001b[43m)\u001b[49m\n\u001b[1;32m    135\u001b[0m \u001b[38;5;28;01mreturn\u001b[39;00m arr\u001b[38;5;241m.\u001b[39mastype(dtype, copy\u001b[38;5;241m=\u001b[39mcopy)\n",
      "\u001b[0;31mValueError\u001b[0m: could not convert string to float: '[@]\\\\w+[.]'"
     ]
    }
   ],
   "source": [
    "X = df.drop(['IsFraud','TransactionDate','TransactionTime',\"TransactionNumber\", \"UserID\", \"MerchantID\", \"EmailDomain\"], axis=1)\n",
    "y = df['IsFraud']\n",
    "X_train, X_test, y_train, y_test = train_test_split(X, y, test_size = 0.20, random_state = 8, stratify = y)\n",
    "rfr = RandomForestClassifier (random_state=123)\n",
    "rfr.fit(X_train, y_train)\n",
    "y_pred = rfr.predict(X_test)\n"
   ]
  },
  {
   "cell_type": "code",
   "execution_count": 315,
   "metadata": {},
   "outputs": [
    {
     "name": "stdout",
     "output_type": "stream",
     "text": [
      "Training Features Shape: (8738, 33)\n",
      "Training Labels Shape: (8738,)\n",
      "Testing Features Shape: (2185, 33)\n",
      "Testing Labels Shape: (2185,)\n"
     ]
    }
   ],
   "source": [
    "print('Training Features Shape:', X_train.shape)\n",
    "print('Training Labels Shape:', y_train.shape)\n",
    "print('Testing Features Shape:', X_test.shape)\n",
    "print('Testing Labels Shape:', y_test.shape)"
   ]
  },
  {
   "cell_type": "code",
   "execution_count": 316,
   "metadata": {},
   "outputs": [
    {
     "data": {
      "text/plain": [
       "array([[1380,    8],\n",
       "       [ 351,  446]])"
      ]
     },
     "execution_count": 316,
     "metadata": {},
     "output_type": "execute_result"
    }
   ],
   "source": [
    "confusion_matrix(y_test, y_pred)"
   ]
  },
  {
   "cell_type": "markdown",
   "metadata": {},
   "source": [
    "TN (True Negatives): 1380 - The number of negative instances correctly classified by the model (not a fraud)\n",
    "FP (False Positives): 8 - The number of negative instances incorrectly classified as positive (8 frauds wrongly label as normal )\n",
    "FN (False Negatives): 351 - The number of positive instances incorrectly classified as negative (351 normal wrongly label as frauds)\n",
    "TP (True Positives): 446 - The number of positive instances correctly classified by the model (446 frauds)"
   ]
  },
  {
   "cell_type": "code",
   "execution_count": 317,
   "metadata": {},
   "outputs": [
    {
     "name": "stdout",
     "output_type": "stream",
     "text": [
      "              precision    recall  f1-score   support\n",
      "\n",
      "           0       0.80      0.99      0.88      1388\n",
      "           1       0.98      0.56      0.71       797\n",
      "\n",
      "    accuracy                           0.84      2185\n",
      "   macro avg       0.89      0.78      0.80      2185\n",
      "weighted avg       0.86      0.84      0.82      2185\n",
      "\n"
     ]
    }
   ],
   "source": [
    "print(classification_report(y_test, y_pred))"
   ]
  },
  {
   "cell_type": "code",
   "execution_count": 347,
   "metadata": {},
   "outputs": [
    {
     "name": "stdout",
     "output_type": "stream",
     "text": [
      "Fitting 3 folds for each of 64 candidates, totalling 192 fits\n"
     ]
    },
    {
     "ename": "KeyboardInterrupt",
     "evalue": "",
     "output_type": "error",
     "traceback": [
      "\u001b[0;31m---------------------------------------------------------------------------\u001b[0m",
      "\u001b[0;31mKeyboardInterrupt\u001b[0m                         Traceback (most recent call last)",
      "Cell \u001b[0;32mIn[347], line 38\u001b[0m\n\u001b[1;32m     34\u001b[0m \u001b[38;5;28;01mfrom\u001b[39;00m \u001b[38;5;21;01msklearn\u001b[39;00m\u001b[38;5;21;01m.\u001b[39;00m\u001b[38;5;21;01mmodel_selection\u001b[39;00m \u001b[38;5;28;01mimport\u001b[39;00m GridSearchCV\n\u001b[1;32m     36\u001b[0m rfr_cv \u001b[38;5;241m=\u001b[39m GridSearchCV(estimator\u001b[38;5;241m=\u001b[39mrfr, param_grid\u001b[38;5;241m=\u001b[39mparam_grid, cv\u001b[38;5;241m=\u001b[39m\u001b[38;5;241m3\u001b[39m, verbose\u001b[38;5;241m=\u001b[39m\u001b[38;5;241m2\u001b[39m, n_jobs\u001b[38;5;241m=\u001b[39m\u001b[38;5;241m4\u001b[39m)\n\u001b[0;32m---> 38\u001b[0m \u001b[43mrfr_cv\u001b[49m\u001b[38;5;241;43m.\u001b[39;49m\u001b[43mfit\u001b[49m\u001b[43m(\u001b[49m\u001b[43mX_train\u001b[49m\u001b[43m,\u001b[49m\u001b[43m \u001b[49m\u001b[43my_train\u001b[49m\u001b[43m)\u001b[49m\n",
      "File \u001b[0;32m/Library/Frameworks/Python.framework/Versions/3.12/lib/python3.12/site-packages/sklearn/base.py:1474\u001b[0m, in \u001b[0;36m_fit_context.<locals>.decorator.<locals>.wrapper\u001b[0;34m(estimator, *args, **kwargs)\u001b[0m\n\u001b[1;32m   1467\u001b[0m     estimator\u001b[38;5;241m.\u001b[39m_validate_params()\n\u001b[1;32m   1469\u001b[0m \u001b[38;5;28;01mwith\u001b[39;00m config_context(\n\u001b[1;32m   1470\u001b[0m     skip_parameter_validation\u001b[38;5;241m=\u001b[39m(\n\u001b[1;32m   1471\u001b[0m         prefer_skip_nested_validation \u001b[38;5;129;01mor\u001b[39;00m global_skip_validation\n\u001b[1;32m   1472\u001b[0m     )\n\u001b[1;32m   1473\u001b[0m ):\n\u001b[0;32m-> 1474\u001b[0m     \u001b[38;5;28;01mreturn\u001b[39;00m \u001b[43mfit_method\u001b[49m\u001b[43m(\u001b[49m\u001b[43mestimator\u001b[49m\u001b[43m,\u001b[49m\u001b[43m \u001b[49m\u001b[38;5;241;43m*\u001b[39;49m\u001b[43margs\u001b[49m\u001b[43m,\u001b[49m\u001b[43m \u001b[49m\u001b[38;5;241;43m*\u001b[39;49m\u001b[38;5;241;43m*\u001b[39;49m\u001b[43mkwargs\u001b[49m\u001b[43m)\u001b[49m\n",
      "File \u001b[0;32m/Library/Frameworks/Python.framework/Versions/3.12/lib/python3.12/site-packages/sklearn/model_selection/_search.py:970\u001b[0m, in \u001b[0;36mBaseSearchCV.fit\u001b[0;34m(self, X, y, **params)\u001b[0m\n\u001b[1;32m    964\u001b[0m     results \u001b[38;5;241m=\u001b[39m \u001b[38;5;28mself\u001b[39m\u001b[38;5;241m.\u001b[39m_format_results(\n\u001b[1;32m    965\u001b[0m         all_candidate_params, n_splits, all_out, all_more_results\n\u001b[1;32m    966\u001b[0m     )\n\u001b[1;32m    968\u001b[0m     \u001b[38;5;28;01mreturn\u001b[39;00m results\n\u001b[0;32m--> 970\u001b[0m \u001b[38;5;28;43mself\u001b[39;49m\u001b[38;5;241;43m.\u001b[39;49m\u001b[43m_run_search\u001b[49m\u001b[43m(\u001b[49m\u001b[43mevaluate_candidates\u001b[49m\u001b[43m)\u001b[49m\n\u001b[1;32m    972\u001b[0m \u001b[38;5;66;03m# multimetric is determined here because in the case of a callable\u001b[39;00m\n\u001b[1;32m    973\u001b[0m \u001b[38;5;66;03m# self.scoring the return type is only known after calling\u001b[39;00m\n\u001b[1;32m    974\u001b[0m first_test_score \u001b[38;5;241m=\u001b[39m all_out[\u001b[38;5;241m0\u001b[39m][\u001b[38;5;124m\"\u001b[39m\u001b[38;5;124mtest_scores\u001b[39m\u001b[38;5;124m\"\u001b[39m]\n",
      "File \u001b[0;32m/Library/Frameworks/Python.framework/Versions/3.12/lib/python3.12/site-packages/sklearn/model_selection/_search.py:1527\u001b[0m, in \u001b[0;36mGridSearchCV._run_search\u001b[0;34m(self, evaluate_candidates)\u001b[0m\n\u001b[1;32m   1525\u001b[0m \u001b[38;5;28;01mdef\u001b[39;00m \u001b[38;5;21m_run_search\u001b[39m(\u001b[38;5;28mself\u001b[39m, evaluate_candidates):\n\u001b[1;32m   1526\u001b[0m \u001b[38;5;250m    \u001b[39m\u001b[38;5;124;03m\"\"\"Search all candidates in param_grid\"\"\"\u001b[39;00m\n\u001b[0;32m-> 1527\u001b[0m     \u001b[43mevaluate_candidates\u001b[49m\u001b[43m(\u001b[49m\u001b[43mParameterGrid\u001b[49m\u001b[43m(\u001b[49m\u001b[38;5;28;43mself\u001b[39;49m\u001b[38;5;241;43m.\u001b[39;49m\u001b[43mparam_grid\u001b[49m\u001b[43m)\u001b[49m\u001b[43m)\u001b[49m\n",
      "File \u001b[0;32m/Library/Frameworks/Python.framework/Versions/3.12/lib/python3.12/site-packages/sklearn/model_selection/_search.py:916\u001b[0m, in \u001b[0;36mBaseSearchCV.fit.<locals>.evaluate_candidates\u001b[0;34m(candidate_params, cv, more_results)\u001b[0m\n\u001b[1;32m    908\u001b[0m \u001b[38;5;28;01mif\u001b[39;00m \u001b[38;5;28mself\u001b[39m\u001b[38;5;241m.\u001b[39mverbose \u001b[38;5;241m>\u001b[39m \u001b[38;5;241m0\u001b[39m:\n\u001b[1;32m    909\u001b[0m     \u001b[38;5;28mprint\u001b[39m(\n\u001b[1;32m    910\u001b[0m         \u001b[38;5;124m\"\u001b[39m\u001b[38;5;124mFitting \u001b[39m\u001b[38;5;132;01m{0}\u001b[39;00m\u001b[38;5;124m folds for each of \u001b[39m\u001b[38;5;132;01m{1}\u001b[39;00m\u001b[38;5;124m candidates,\u001b[39m\u001b[38;5;124m\"\u001b[39m\n\u001b[1;32m    911\u001b[0m         \u001b[38;5;124m\"\u001b[39m\u001b[38;5;124m totalling \u001b[39m\u001b[38;5;132;01m{2}\u001b[39;00m\u001b[38;5;124m fits\u001b[39m\u001b[38;5;124m\"\u001b[39m\u001b[38;5;241m.\u001b[39mformat(\n\u001b[1;32m    912\u001b[0m             n_splits, n_candidates, n_candidates \u001b[38;5;241m*\u001b[39m n_splits\n\u001b[1;32m    913\u001b[0m         )\n\u001b[1;32m    914\u001b[0m     )\n\u001b[0;32m--> 916\u001b[0m out \u001b[38;5;241m=\u001b[39m \u001b[43mparallel\u001b[49m\u001b[43m(\u001b[49m\n\u001b[1;32m    917\u001b[0m \u001b[43m    \u001b[49m\u001b[43mdelayed\u001b[49m\u001b[43m(\u001b[49m\u001b[43m_fit_and_score\u001b[49m\u001b[43m)\u001b[49m\u001b[43m(\u001b[49m\n\u001b[1;32m    918\u001b[0m \u001b[43m        \u001b[49m\u001b[43mclone\u001b[49m\u001b[43m(\u001b[49m\u001b[43mbase_estimator\u001b[49m\u001b[43m)\u001b[49m\u001b[43m,\u001b[49m\n\u001b[1;32m    919\u001b[0m \u001b[43m        \u001b[49m\u001b[43mX\u001b[49m\u001b[43m,\u001b[49m\n\u001b[1;32m    920\u001b[0m \u001b[43m        \u001b[49m\u001b[43my\u001b[49m\u001b[43m,\u001b[49m\n\u001b[1;32m    921\u001b[0m \u001b[43m        \u001b[49m\u001b[43mtrain\u001b[49m\u001b[38;5;241;43m=\u001b[39;49m\u001b[43mtrain\u001b[49m\u001b[43m,\u001b[49m\n\u001b[1;32m    922\u001b[0m \u001b[43m        \u001b[49m\u001b[43mtest\u001b[49m\u001b[38;5;241;43m=\u001b[39;49m\u001b[43mtest\u001b[49m\u001b[43m,\u001b[49m\n\u001b[1;32m    923\u001b[0m \u001b[43m        \u001b[49m\u001b[43mparameters\u001b[49m\u001b[38;5;241;43m=\u001b[39;49m\u001b[43mparameters\u001b[49m\u001b[43m,\u001b[49m\n\u001b[1;32m    924\u001b[0m \u001b[43m        \u001b[49m\u001b[43msplit_progress\u001b[49m\u001b[38;5;241;43m=\u001b[39;49m\u001b[43m(\u001b[49m\u001b[43msplit_idx\u001b[49m\u001b[43m,\u001b[49m\u001b[43m \u001b[49m\u001b[43mn_splits\u001b[49m\u001b[43m)\u001b[49m\u001b[43m,\u001b[49m\n\u001b[1;32m    925\u001b[0m \u001b[43m        \u001b[49m\u001b[43mcandidate_progress\u001b[49m\u001b[38;5;241;43m=\u001b[39;49m\u001b[43m(\u001b[49m\u001b[43mcand_idx\u001b[49m\u001b[43m,\u001b[49m\u001b[43m \u001b[49m\u001b[43mn_candidates\u001b[49m\u001b[43m)\u001b[49m\u001b[43m,\u001b[49m\n\u001b[1;32m    926\u001b[0m \u001b[43m        \u001b[49m\u001b[38;5;241;43m*\u001b[39;49m\u001b[38;5;241;43m*\u001b[39;49m\u001b[43mfit_and_score_kwargs\u001b[49m\u001b[43m,\u001b[49m\n\u001b[1;32m    927\u001b[0m \u001b[43m    \u001b[49m\u001b[43m)\u001b[49m\n\u001b[1;32m    928\u001b[0m \u001b[43m    \u001b[49m\u001b[38;5;28;43;01mfor\u001b[39;49;00m\u001b[43m \u001b[49m\u001b[43m(\u001b[49m\u001b[43mcand_idx\u001b[49m\u001b[43m,\u001b[49m\u001b[43m \u001b[49m\u001b[43mparameters\u001b[49m\u001b[43m)\u001b[49m\u001b[43m,\u001b[49m\u001b[43m \u001b[49m\u001b[43m(\u001b[49m\u001b[43msplit_idx\u001b[49m\u001b[43m,\u001b[49m\u001b[43m \u001b[49m\u001b[43m(\u001b[49m\u001b[43mtrain\u001b[49m\u001b[43m,\u001b[49m\u001b[43m \u001b[49m\u001b[43mtest\u001b[49m\u001b[43m)\u001b[49m\u001b[43m)\u001b[49m\u001b[43m \u001b[49m\u001b[38;5;129;43;01min\u001b[39;49;00m\u001b[43m \u001b[49m\u001b[43mproduct\u001b[49m\u001b[43m(\u001b[49m\n\u001b[1;32m    929\u001b[0m \u001b[43m        \u001b[49m\u001b[38;5;28;43menumerate\u001b[39;49m\u001b[43m(\u001b[49m\u001b[43mcandidate_params\u001b[49m\u001b[43m)\u001b[49m\u001b[43m,\u001b[49m\n\u001b[1;32m    930\u001b[0m \u001b[43m        \u001b[49m\u001b[38;5;28;43menumerate\u001b[39;49m\u001b[43m(\u001b[49m\u001b[43mcv\u001b[49m\u001b[38;5;241;43m.\u001b[39;49m\u001b[43msplit\u001b[49m\u001b[43m(\u001b[49m\u001b[43mX\u001b[49m\u001b[43m,\u001b[49m\u001b[43m \u001b[49m\u001b[43my\u001b[49m\u001b[43m,\u001b[49m\u001b[43m \u001b[49m\u001b[38;5;241;43m*\u001b[39;49m\u001b[38;5;241;43m*\u001b[39;49m\u001b[43mrouted_params\u001b[49m\u001b[38;5;241;43m.\u001b[39;49m\u001b[43msplitter\u001b[49m\u001b[38;5;241;43m.\u001b[39;49m\u001b[43msplit\u001b[49m\u001b[43m)\u001b[49m\u001b[43m)\u001b[49m\u001b[43m,\u001b[49m\n\u001b[1;32m    931\u001b[0m \u001b[43m    \u001b[49m\u001b[43m)\u001b[49m\n\u001b[1;32m    932\u001b[0m \u001b[43m\u001b[49m\u001b[43m)\u001b[49m\n\u001b[1;32m    934\u001b[0m \u001b[38;5;28;01mif\u001b[39;00m \u001b[38;5;28mlen\u001b[39m(out) \u001b[38;5;241m<\u001b[39m \u001b[38;5;241m1\u001b[39m:\n\u001b[1;32m    935\u001b[0m     \u001b[38;5;28;01mraise\u001b[39;00m \u001b[38;5;167;01mValueError\u001b[39;00m(\n\u001b[1;32m    936\u001b[0m         \u001b[38;5;124m\"\u001b[39m\u001b[38;5;124mNo fits were performed. \u001b[39m\u001b[38;5;124m\"\u001b[39m\n\u001b[1;32m    937\u001b[0m         \u001b[38;5;124m\"\u001b[39m\u001b[38;5;124mWas the CV iterator empty? \u001b[39m\u001b[38;5;124m\"\u001b[39m\n\u001b[1;32m    938\u001b[0m         \u001b[38;5;124m\"\u001b[39m\u001b[38;5;124mWere there no candidates?\u001b[39m\u001b[38;5;124m\"\u001b[39m\n\u001b[1;32m    939\u001b[0m     )\n",
      "File \u001b[0;32m/Library/Frameworks/Python.framework/Versions/3.12/lib/python3.12/site-packages/sklearn/utils/parallel.py:67\u001b[0m, in \u001b[0;36mParallel.__call__\u001b[0;34m(self, iterable)\u001b[0m\n\u001b[1;32m     62\u001b[0m config \u001b[38;5;241m=\u001b[39m get_config()\n\u001b[1;32m     63\u001b[0m iterable_with_config \u001b[38;5;241m=\u001b[39m (\n\u001b[1;32m     64\u001b[0m     (_with_config(delayed_func, config), args, kwargs)\n\u001b[1;32m     65\u001b[0m     \u001b[38;5;28;01mfor\u001b[39;00m delayed_func, args, kwargs \u001b[38;5;129;01min\u001b[39;00m iterable\n\u001b[1;32m     66\u001b[0m )\n\u001b[0;32m---> 67\u001b[0m \u001b[38;5;28;01mreturn\u001b[39;00m \u001b[38;5;28;43msuper\u001b[39;49m\u001b[43m(\u001b[49m\u001b[43m)\u001b[49m\u001b[38;5;241;43m.\u001b[39;49m\u001b[38;5;21;43m__call__\u001b[39;49m\u001b[43m(\u001b[49m\u001b[43miterable_with_config\u001b[49m\u001b[43m)\u001b[49m\n",
      "File \u001b[0;32m/Library/Frameworks/Python.framework/Versions/3.12/lib/python3.12/site-packages/joblib/parallel.py:1952\u001b[0m, in \u001b[0;36mParallel.__call__\u001b[0;34m(self, iterable)\u001b[0m\n\u001b[1;32m   1946\u001b[0m \u001b[38;5;66;03m# The first item from the output is blank, but it makes the interpreter\u001b[39;00m\n\u001b[1;32m   1947\u001b[0m \u001b[38;5;66;03m# progress until it enters the Try/Except block of the generator and\u001b[39;00m\n\u001b[1;32m   1948\u001b[0m \u001b[38;5;66;03m# reach the first `yield` statement. This starts the aynchronous\u001b[39;00m\n\u001b[1;32m   1949\u001b[0m \u001b[38;5;66;03m# dispatch of the tasks to the workers.\u001b[39;00m\n\u001b[1;32m   1950\u001b[0m \u001b[38;5;28mnext\u001b[39m(output)\n\u001b[0;32m-> 1952\u001b[0m \u001b[38;5;28;01mreturn\u001b[39;00m output \u001b[38;5;28;01mif\u001b[39;00m \u001b[38;5;28mself\u001b[39m\u001b[38;5;241m.\u001b[39mreturn_generator \u001b[38;5;28;01melse\u001b[39;00m \u001b[38;5;28;43mlist\u001b[39;49m\u001b[43m(\u001b[49m\u001b[43moutput\u001b[49m\u001b[43m)\u001b[49m\n",
      "File \u001b[0;32m/Library/Frameworks/Python.framework/Versions/3.12/lib/python3.12/site-packages/joblib/parallel.py:1595\u001b[0m, in \u001b[0;36mParallel._get_outputs\u001b[0;34m(self, iterator, pre_dispatch)\u001b[0m\n\u001b[1;32m   1592\u001b[0m     \u001b[38;5;28;01myield\u001b[39;00m\n\u001b[1;32m   1594\u001b[0m     \u001b[38;5;28;01mwith\u001b[39;00m \u001b[38;5;28mself\u001b[39m\u001b[38;5;241m.\u001b[39m_backend\u001b[38;5;241m.\u001b[39mretrieval_context():\n\u001b[0;32m-> 1595\u001b[0m         \u001b[38;5;28;01myield from\u001b[39;00m \u001b[38;5;28mself\u001b[39m\u001b[38;5;241m.\u001b[39m_retrieve()\n\u001b[1;32m   1597\u001b[0m \u001b[38;5;28;01mexcept\u001b[39;00m \u001b[38;5;167;01mGeneratorExit\u001b[39;00m:\n\u001b[1;32m   1598\u001b[0m     \u001b[38;5;66;03m# The generator has been garbage collected before being fully\u001b[39;00m\n\u001b[1;32m   1599\u001b[0m     \u001b[38;5;66;03m# consumed. This aborts the remaining tasks if possible and warn\u001b[39;00m\n\u001b[1;32m   1600\u001b[0m     \u001b[38;5;66;03m# the user if necessary.\u001b[39;00m\n\u001b[1;32m   1601\u001b[0m     \u001b[38;5;28mself\u001b[39m\u001b[38;5;241m.\u001b[39m_exception \u001b[38;5;241m=\u001b[39m \u001b[38;5;28;01mTrue\u001b[39;00m\n",
      "File \u001b[0;32m/Library/Frameworks/Python.framework/Versions/3.12/lib/python3.12/site-packages/joblib/parallel.py:1707\u001b[0m, in \u001b[0;36mParallel._retrieve\u001b[0;34m(self)\u001b[0m\n\u001b[1;32m   1702\u001b[0m \u001b[38;5;66;03m# If the next job is not ready for retrieval yet, we just wait for\u001b[39;00m\n\u001b[1;32m   1703\u001b[0m \u001b[38;5;66;03m# async callbacks to progress.\u001b[39;00m\n\u001b[1;32m   1704\u001b[0m \u001b[38;5;28;01mif\u001b[39;00m ((\u001b[38;5;28mlen\u001b[39m(\u001b[38;5;28mself\u001b[39m\u001b[38;5;241m.\u001b[39m_jobs) \u001b[38;5;241m==\u001b[39m \u001b[38;5;241m0\u001b[39m) \u001b[38;5;129;01mor\u001b[39;00m\n\u001b[1;32m   1705\u001b[0m     (\u001b[38;5;28mself\u001b[39m\u001b[38;5;241m.\u001b[39m_jobs[\u001b[38;5;241m0\u001b[39m]\u001b[38;5;241m.\u001b[39mget_status(\n\u001b[1;32m   1706\u001b[0m         timeout\u001b[38;5;241m=\u001b[39m\u001b[38;5;28mself\u001b[39m\u001b[38;5;241m.\u001b[39mtimeout) \u001b[38;5;241m==\u001b[39m TASK_PENDING)):\n\u001b[0;32m-> 1707\u001b[0m     \u001b[43mtime\u001b[49m\u001b[38;5;241;43m.\u001b[39;49m\u001b[43msleep\u001b[49m\u001b[43m(\u001b[49m\u001b[38;5;241;43m0.01\u001b[39;49m\u001b[43m)\u001b[49m\n\u001b[1;32m   1708\u001b[0m     \u001b[38;5;28;01mcontinue\u001b[39;00m\n\u001b[1;32m   1710\u001b[0m \u001b[38;5;66;03m# We need to be careful: the job list can be filling up as\u001b[39;00m\n\u001b[1;32m   1711\u001b[0m \u001b[38;5;66;03m# we empty it and Python list are not thread-safe by\u001b[39;00m\n\u001b[1;32m   1712\u001b[0m \u001b[38;5;66;03m# default hence the use of the lock\u001b[39;00m\n",
      "\u001b[0;31mKeyboardInterrupt\u001b[0m: "
     ]
    }
   ],
   "source": [
    "# Build random forest model with hyperparameters\n",
    "# Number of decision trees in random forest\n",
    "# n_estimators = [int(x) for x in np.linspace(start=10, stop=80, num=10)]\n",
    "\n",
    "n_estimators = [50,100]\n",
    "\n",
    "# Number of features to consider at every split\n",
    "max_features = ['auto','sqrt']\n",
    "\n",
    "# Max number of levels in tree\n",
    "max_depth = [1,10]\n",
    "\n",
    "#Min samples required to split a node\n",
    "min_sam_split = [1,10]\n",
    "\n",
    "#Min sam require at each leaf node\n",
    "min_sample_leaf = [1,4]\n",
    "\n",
    "#Method of selecting samples for training each tree\n",
    "bootstrap = [True,False]\n",
    "\n",
    "\n",
    "# the random grid\n",
    "\n",
    "param_grid ={\n",
    "    'n_estimators': n_estimators,\n",
    "    'max_features': max_features,\n",
    "    'max_depth': max_depth,\n",
    "    'min_samples_split': min_sam_split,\n",
    "    'min_samples_leaf': min_sample_leaf,\n",
    "    'bootstrap': bootstrap\n",
    "}\n",
    "\n",
    "from sklearn.model_selection import GridSearchCV\n",
    "\n",
    "rfr_cv = GridSearchCV(estimator=rfr, param_grid=param_grid, cv=3, verbose=2, n_jobs=4)\n",
    "\n",
    "rfr_cv.fit(X_train, y_train)"
   ]
  },
  {
   "cell_type": "code",
   "execution_count": 343,
   "metadata": {},
   "outputs": [
    {
     "name": "stdout",
     "output_type": "stream",
     "text": [
      "{'bootstrap': False, 'max_depth': 20, 'max_features': 'sqrt', 'min_samples_leaf': 2, 'min_samples_split': 2, 'n_estimators': 100}\n"
     ]
    }
   ],
   "source": [
    "best = rfr_cv.best_params_\n",
    "print(best)"
   ]
  },
  {
   "cell_type": "code",
   "execution_count": 344,
   "metadata": {},
   "outputs": [
    {
     "name": "stdout",
     "output_type": "stream",
     "text": [
      "Best score: 0.8238726565515958\n"
     ]
    }
   ],
   "source": [
    "print(f'Best score: {rfr_cv.best_score_}')\n",
    "\n",
    "#Best score la z=))"
   ]
  },
  {
   "cell_type": "code",
   "execution_count": 345,
   "metadata": {},
   "outputs": [
    {
     "name": "stdout",
     "output_type": "stream",
     "text": [
      "0.7039106145251397\n"
     ]
    }
   ],
   "source": [
    "from sklearn.metrics import f1_score\n",
    "best_model = rfr_cv.best_estimator_\n",
    "y_pred = best_model.predict(X_test)\n",
    "f1 = f1_score(y_test, y_pred)\n",
    "print(f1)"
   ]
  },
  {
   "cell_type": "code",
   "execution_count": 322,
   "metadata": {},
   "outputs": [
    {
     "name": "stdout",
     "output_type": "stream",
     "text": [
      "              precision    recall  f1-score   support\n",
      "\n",
      "           0       0.80      0.99      0.88      1388\n",
      "           1       0.98      0.56      0.71       797\n",
      "\n",
      "    accuracy                           0.84      2185\n",
      "   macro avg       0.89      0.78      0.80      2185\n",
      "weighted avg       0.86      0.84      0.82      2185\n",
      "\n"
     ]
    }
   ],
   "source": [
    "print(classification_report(y_test, y_pred))"
   ]
  },
  {
   "cell_type": "code",
   "execution_count": 323,
   "metadata": {},
   "outputs": [],
   "source": [
    "predictions = rfr.predict(df_test)\n",
    "df_test['IsFraud'] = ['yes' if y_pred == 1 else 'no' for y_pred in predictions]"
   ]
  },
  {
   "cell_type": "code",
   "execution_count": 324,
   "metadata": {},
   "outputs": [],
   "source": [
    "df_test.to_csv('result.csv')"
   ]
  },
  {
   "cell_type": "markdown",
   "metadata": {},
   "source": [
    "New run"
   ]
  },
  {
   "cell_type": "code",
   "execution_count": 354,
   "metadata": {},
   "outputs": [
    {
     "name": "stderr",
     "output_type": "stream",
     "text": [
      "[I 2024-09-15 12:28:43,480] A new study created in memory with name: no-name-6bd07379-8c2c-44f8-ae6d-d83b1c9efb7f\n",
      "/Library/Frameworks/Python.framework/Versions/3.12/lib/python3.12/site-packages/optuna/trial/_trial.py:678: RuntimeWarning: Inconsistent parameter values for distribution with name \"min_samples_leaf\"! This might be a configuration mistake. Optuna allows to call the same distribution with the same name more than once in a trial. When the parameter values are inconsistent optuna only uses the values of the first call and ignores all following. Using these values: {'log': False, 'step': 1, 'low': 2, 'high': 32}\n",
      "  warnings.warn(\n",
      "[I 2024-09-15 12:29:30,217] Trial 0 finished with value: 0.6563640478702477 and parameters: {'n_estimators': 727, 'min_samples_split': 10, 'min_samples_leaf': 9}. Best is trial 0 with value: 0.6563640478702477.\n",
      "/Library/Frameworks/Python.framework/Versions/3.12/lib/python3.12/site-packages/optuna/trial/_trial.py:678: RuntimeWarning: Inconsistent parameter values for distribution with name \"min_samples_leaf\"! This might be a configuration mistake. Optuna allows to call the same distribution with the same name more than once in a trial. When the parameter values are inconsistent optuna only uses the values of the first call and ignores all following. Using these values: {'log': False, 'step': 1, 'low': 2, 'high': 32}\n",
      "  warnings.warn(\n",
      "[I 2024-09-15 12:30:08,030] Trial 1 finished with value: 0.6566346569501407 and parameters: {'n_estimators': 596, 'min_samples_split': 24, 'min_samples_leaf': 15}. Best is trial 1 with value: 0.6566346569501407.\n",
      "/Library/Frameworks/Python.framework/Versions/3.12/lib/python3.12/site-packages/optuna/trial/_trial.py:678: RuntimeWarning: Inconsistent parameter values for distribution with name \"min_samples_leaf\"! This might be a configuration mistake. Optuna allows to call the same distribution with the same name more than once in a trial. When the parameter values are inconsistent optuna only uses the values of the first call and ignores all following. Using these values: {'log': False, 'step': 1, 'low': 2, 'high': 32}\n",
      "  warnings.warn(\n",
      "[I 2024-09-15 12:31:07,224] Trial 2 finished with value: 0.6569283454049306 and parameters: {'n_estimators': 983, 'min_samples_split': 23, 'min_samples_leaf': 16}. Best is trial 2 with value: 0.6569283454049306.\n",
      "/Library/Frameworks/Python.framework/Versions/3.12/lib/python3.12/site-packages/optuna/trial/_trial.py:678: RuntimeWarning: Inconsistent parameter values for distribution with name \"min_samples_leaf\"! This might be a configuration mistake. Optuna allows to call the same distribution with the same name more than once in a trial. When the parameter values are inconsistent optuna only uses the values of the first call and ignores all following. Using these values: {'log': False, 'step': 1, 'low': 2, 'high': 32}\n",
      "  warnings.warn(\n",
      "[I 2024-09-15 12:31:28,282] Trial 3 finished with value: 0.6524178884507318 and parameters: {'n_estimators': 453, 'min_samples_split': 12, 'min_samples_leaf': 24}. Best is trial 2 with value: 0.6569283454049306.\n",
      "/Library/Frameworks/Python.framework/Versions/3.12/lib/python3.12/site-packages/optuna/trial/_trial.py:678: RuntimeWarning: Inconsistent parameter values for distribution with name \"min_samples_leaf\"! This might be a configuration mistake. Optuna allows to call the same distribution with the same name more than once in a trial. When the parameter values are inconsistent optuna only uses the values of the first call and ignores all following. Using these values: {'log': False, 'step': 1, 'low': 2, 'high': 32}\n",
      "  warnings.warn(\n",
      "[I 2024-09-15 12:31:42,965] Trial 4 finished with value: 0.6354727126595823 and parameters: {'n_estimators': 495, 'min_samples_split': 3, 'min_samples_leaf': 14}. Best is trial 2 with value: 0.6569283454049306.\n",
      "/Library/Frameworks/Python.framework/Versions/3.12/lib/python3.12/site-packages/optuna/trial/_trial.py:678: RuntimeWarning: Inconsistent parameter values for distribution with name \"min_samples_leaf\"! This might be a configuration mistake. Optuna allows to call the same distribution with the same name more than once in a trial. When the parameter values are inconsistent optuna only uses the values of the first call and ignores all following. Using these values: {'log': False, 'step': 1, 'low': 2, 'high': 32}\n",
      "  warnings.warn(\n",
      "[I 2024-09-15 12:32:14,696] Trial 5 finished with value: 0.6558300161668421 and parameters: {'n_estimators': 764, 'min_samples_split': 7, 'min_samples_leaf': 7}. Best is trial 2 with value: 0.6569283454049306.\n",
      "/Library/Frameworks/Python.framework/Versions/3.12/lib/python3.12/site-packages/optuna/trial/_trial.py:678: RuntimeWarning: Inconsistent parameter values for distribution with name \"min_samples_leaf\"! This might be a configuration mistake. Optuna allows to call the same distribution with the same name more than once in a trial. When the parameter values are inconsistent optuna only uses the values of the first call and ignores all following. Using these values: {'log': False, 'step': 1, 'low': 2, 'high': 32}\n",
      "  warnings.warn(\n",
      "[I 2024-09-15 12:32:48,748] Trial 6 finished with value: 0.6554191205956107 and parameters: {'n_estimators': 578, 'min_samples_split': 18, 'min_samples_leaf': 21}. Best is trial 2 with value: 0.6569283454049306.\n",
      "/Library/Frameworks/Python.framework/Versions/3.12/lib/python3.12/site-packages/optuna/trial/_trial.py:678: RuntimeWarning: Inconsistent parameter values for distribution with name \"min_samples_leaf\"! This might be a configuration mistake. Optuna allows to call the same distribution with the same name more than once in a trial. When the parameter values are inconsistent optuna only uses the values of the first call and ignores all following. Using these values: {'log': False, 'step': 1, 'low': 2, 'high': 32}\n",
      "  warnings.warn(\n",
      "[I 2024-09-15 12:33:36,306] Trial 7 finished with value: 0.6545877947772019 and parameters: {'n_estimators': 865, 'min_samples_split': 24, 'min_samples_leaf': 20}. Best is trial 2 with value: 0.6569283454049306.\n",
      "/Library/Frameworks/Python.framework/Versions/3.12/lib/python3.12/site-packages/optuna/trial/_trial.py:678: RuntimeWarning: Inconsistent parameter values for distribution with name \"min_samples_leaf\"! This might be a configuration mistake. Optuna allows to call the same distribution with the same name more than once in a trial. When the parameter values are inconsistent optuna only uses the values of the first call and ignores all following. Using these values: {'log': False, 'step': 1, 'low': 2, 'high': 32}\n",
      "  warnings.warn(\n",
      "[I 2024-09-15 12:34:15,894] Trial 8 finished with value: 0.6570762460129155 and parameters: {'n_estimators': 750, 'min_samples_split': 12, 'min_samples_leaf': 13}. Best is trial 8 with value: 0.6570762460129155.\n",
      "/Library/Frameworks/Python.framework/Versions/3.12/lib/python3.12/site-packages/optuna/trial/_trial.py:678: RuntimeWarning: Inconsistent parameter values for distribution with name \"min_samples_leaf\"! This might be a configuration mistake. Optuna allows to call the same distribution with the same name more than once in a trial. When the parameter values are inconsistent optuna only uses the values of the first call and ignores all following. Using these values: {'log': False, 'step': 1, 'low': 2, 'high': 32}\n",
      "  warnings.warn(\n",
      "[I 2024-09-15 12:34:30,159] Trial 9 finished with value: 0.6553769281551021 and parameters: {'n_estimators': 305, 'min_samples_split': 11, 'min_samples_leaf': 21}. Best is trial 8 with value: 0.6570762460129155.\n",
      "/Library/Frameworks/Python.framework/Versions/3.12/lib/python3.12/site-packages/optuna/trial/_trial.py:678: RuntimeWarning: Inconsistent parameter values for distribution with name \"min_samples_leaf\"! This might be a configuration mistake. Optuna allows to call the same distribution with the same name more than once in a trial. When the parameter values are inconsistent optuna only uses the values of the first call and ignores all following. Using these values: {'log': False, 'step': 1, 'low': 2, 'high': 32}\n",
      "  warnings.warn(\n",
      "[I 2024-09-15 12:34:40,193] Trial 10 finished with value: 0.656056536286067 and parameters: {'n_estimators': 182, 'min_samples_split': 15, 'min_samples_leaf': 15}. Best is trial 8 with value: 0.6570762460129155.\n",
      "/Library/Frameworks/Python.framework/Versions/3.12/lib/python3.12/site-packages/optuna/trial/_trial.py:678: RuntimeWarning: Inconsistent parameter values for distribution with name \"min_samples_leaf\"! This might be a configuration mistake. Optuna allows to call the same distribution with the same name more than once in a trial. When the parameter values are inconsistent optuna only uses the values of the first call and ignores all following. Using these values: {'log': False, 'step': 1, 'low': 2, 'high': 32}\n",
      "  warnings.warn(\n",
      "[I 2024-09-15 12:35:10,307] Trial 11 finished with value: 0.6577783982506593 and parameters: {'n_estimators': 544, 'min_samples_split': 15, 'min_samples_leaf': 11}. Best is trial 11 with value: 0.6577783982506593.\n",
      "/Library/Frameworks/Python.framework/Versions/3.12/lib/python3.12/site-packages/optuna/trial/_trial.py:678: RuntimeWarning: Inconsistent parameter values for distribution with name \"min_samples_leaf\"! This might be a configuration mistake. Optuna allows to call the same distribution with the same name more than once in a trial. When the parameter values are inconsistent optuna only uses the values of the first call and ignores all following. Using these values: {'log': False, 'step': 1, 'low': 2, 'high': 32}\n",
      "  warnings.warn(\n",
      "[I 2024-09-15 12:35:34,240] Trial 12 finished with value: 0.6522753403227388 and parameters: {'n_estimators': 484, 'min_samples_split': 29, 'min_samples_leaf': 31}. Best is trial 11 with value: 0.6577783982506593.\n",
      "/Library/Frameworks/Python.framework/Versions/3.12/lib/python3.12/site-packages/optuna/trial/_trial.py:678: RuntimeWarning: Inconsistent parameter values for distribution with name \"min_samples_leaf\"! This might be a configuration mistake. Optuna allows to call the same distribution with the same name more than once in a trial. When the parameter values are inconsistent optuna only uses the values of the first call and ignores all following. Using these values: {'log': False, 'step': 1, 'low': 2, 'high': 32}\n",
      "  warnings.warn(\n",
      "[I 2024-09-15 12:36:13,649] Trial 13 finished with value: 0.6644844285887429 and parameters: {'n_estimators': 552, 'min_samples_split': 21, 'min_samples_leaf': 5}. Best is trial 13 with value: 0.6644844285887429.\n",
      "/Library/Frameworks/Python.framework/Versions/3.12/lib/python3.12/site-packages/optuna/trial/_trial.py:678: RuntimeWarning: Inconsistent parameter values for distribution with name \"min_samples_leaf\"! This might be a configuration mistake. Optuna allows to call the same distribution with the same name more than once in a trial. When the parameter values are inconsistent optuna only uses the values of the first call and ignores all following. Using these values: {'log': False, 'step': 1, 'low': 2, 'high': 32}\n",
      "  warnings.warn(\n",
      "[I 2024-09-15 12:36:33,920] Trial 14 finished with value: 0.6519669688635807 and parameters: {'n_estimators': 385, 'min_samples_split': 14, 'min_samples_leaf': 28}. Best is trial 13 with value: 0.6644844285887429.\n",
      "/Library/Frameworks/Python.framework/Versions/3.12/lib/python3.12/site-packages/optuna/trial/_trial.py:678: RuntimeWarning: Inconsistent parameter values for distribution with name \"min_samples_leaf\"! This might be a configuration mistake. Optuna allows to call the same distribution with the same name more than once in a trial. When the parameter values are inconsistent optuna only uses the values of the first call and ignores all following. Using these values: {'log': False, 'step': 1, 'low': 2, 'high': 32}\n",
      "  warnings.warn(\n",
      "[I 2024-09-15 12:36:51,284] Trial 15 finished with value: 0.6512750733313436 and parameters: {'n_estimators': 325, 'min_samples_split': 16, 'min_samples_leaf': 32}. Best is trial 13 with value: 0.6644844285887429.\n",
      "/Library/Frameworks/Python.framework/Versions/3.12/lib/python3.12/site-packages/optuna/trial/_trial.py:678: RuntimeWarning: Inconsistent parameter values for distribution with name \"min_samples_leaf\"! This might be a configuration mistake. Optuna allows to call the same distribution with the same name more than once in a trial. When the parameter values are inconsistent optuna only uses the values of the first call and ignores all following. Using these values: {'log': False, 'step': 1, 'low': 2, 'high': 32}\n",
      "  warnings.warn(\n",
      "[I 2024-09-15 12:37:35,010] Trial 16 finished with value: 0.6649709451794412 and parameters: {'n_estimators': 568, 'min_samples_split': 20, 'min_samples_leaf': 5}. Best is trial 16 with value: 0.6649709451794412.\n",
      "/Library/Frameworks/Python.framework/Versions/3.12/lib/python3.12/site-packages/optuna/trial/_trial.py:678: RuntimeWarning: Inconsistent parameter values for distribution with name \"min_samples_leaf\"! This might be a configuration mistake. Optuna allows to call the same distribution with the same name more than once in a trial. When the parameter values are inconsistent optuna only uses the values of the first call and ignores all following. Using these values: {'log': False, 'step': 1, 'low': 2, 'high': 32}\n",
      "  warnings.warn(\n",
      "[I 2024-09-15 12:38:24,278] Trial 17 finished with value: 0.6567814234577787 and parameters: {'n_estimators': 844, 'min_samples_split': 20, 'min_samples_leaf': 18}. Best is trial 16 with value: 0.6649709451794412.\n",
      "/Library/Frameworks/Python.framework/Versions/3.12/lib/python3.12/site-packages/optuna/trial/_trial.py:678: RuntimeWarning: Inconsistent parameter values for distribution with name \"min_samples_leaf\"! This might be a configuration mistake. Optuna allows to call the same distribution with the same name more than once in a trial. When the parameter values are inconsistent optuna only uses the values of the first call and ignores all following. Using these values: {'log': False, 'step': 1, 'low': 2, 'high': 32}\n",
      "  warnings.warn(\n",
      "[I 2024-09-15 12:38:50,122] Trial 18 finished with value: 0.6571865001935037 and parameters: {'n_estimators': 408, 'min_samples_split': 11, 'min_samples_leaf': 14}. Best is trial 16 with value: 0.6649709451794412.\n",
      "/Library/Frameworks/Python.framework/Versions/3.12/lib/python3.12/site-packages/optuna/trial/_trial.py:678: RuntimeWarning: Inconsistent parameter values for distribution with name \"min_samples_leaf\"! This might be a configuration mistake. Optuna allows to call the same distribution with the same name more than once in a trial. When the parameter values are inconsistent optuna only uses the values of the first call and ignores all following. Using these values: {'log': False, 'step': 1, 'low': 2, 'high': 32}\n",
      "  warnings.warn(\n",
      "[I 2024-09-15 12:39:28,859] Trial 19 finished with value: 0.6563661637917741 and parameters: {'n_estimators': 713, 'min_samples_split': 29, 'min_samples_leaf': 17}. Best is trial 16 with value: 0.6649709451794412.\n",
      "/Library/Frameworks/Python.framework/Versions/3.12/lib/python3.12/site-packages/optuna/trial/_trial.py:678: RuntimeWarning: Inconsistent parameter values for distribution with name \"min_samples_leaf\"! This might be a configuration mistake. Optuna allows to call the same distribution with the same name more than once in a trial. When the parameter values are inconsistent optuna only uses the values of the first call and ignores all following. Using these values: {'log': False, 'step': 1, 'low': 2, 'high': 32}\n",
      "  warnings.warn(\n",
      "[I 2024-09-15 12:40:04,730] Trial 20 finished with value: 0.6558256474915185 and parameters: {'n_estimators': 703, 'min_samples_split': 20, 'min_samples_leaf': 21}. Best is trial 16 with value: 0.6649709451794412.\n",
      "/Library/Frameworks/Python.framework/Versions/3.12/lib/python3.12/site-packages/optuna/trial/_trial.py:678: RuntimeWarning: Inconsistent parameter values for distribution with name \"min_samples_leaf\"! This might be a configuration mistake. Optuna allows to call the same distribution with the same name more than once in a trial. When the parameter values are inconsistent optuna only uses the values of the first call and ignores all following. Using these values: {'log': False, 'step': 1, 'low': 2, 'high': 32}\n",
      "  warnings.warn(\n",
      "[I 2024-09-15 12:40:48,196] Trial 21 finished with value: 0.669940798075549 and parameters: {'n_estimators': 707, 'min_samples_split': 28, 'min_samples_leaf': 4}. Best is trial 21 with value: 0.669940798075549.\n",
      "/Library/Frameworks/Python.framework/Versions/3.12/lib/python3.12/site-packages/optuna/trial/_trial.py:678: RuntimeWarning: Inconsistent parameter values for distribution with name \"min_samples_leaf\"! This might be a configuration mistake. Optuna allows to call the same distribution with the same name more than once in a trial. When the parameter values are inconsistent optuna only uses the values of the first call and ignores all following. Using these values: {'log': False, 'step': 1, 'low': 2, 'high': 32}\n",
      "  warnings.warn(\n",
      "[I 2024-09-15 12:41:23,654] Trial 22 finished with value: 0.6566441639869944 and parameters: {'n_estimators': 788, 'min_samples_split': 9, 'min_samples_leaf': 8}. Best is trial 21 with value: 0.669940798075549.\n",
      "/Library/Frameworks/Python.framework/Versions/3.12/lib/python3.12/site-packages/optuna/trial/_trial.py:678: RuntimeWarning: Inconsistent parameter values for distribution with name \"min_samples_leaf\"! This might be a configuration mistake. Optuna allows to call the same distribution with the same name more than once in a trial. When the parameter values are inconsistent optuna only uses the values of the first call and ignores all following. Using these values: {'log': False, 'step': 1, 'low': 2, 'high': 32}\n",
      "  warnings.warn(\n",
      "[I 2024-09-15 12:41:52,193] Trial 23 finished with value: 0.6377034959801058 and parameters: {'n_estimators': 615, 'min_samples_split': 4, 'min_samples_leaf': 29}. Best is trial 21 with value: 0.669940798075549.\n",
      "/Library/Frameworks/Python.framework/Versions/3.12/lib/python3.12/site-packages/optuna/trial/_trial.py:678: RuntimeWarning: Inconsistent parameter values for distribution with name \"min_samples_leaf\"! This might be a configuration mistake. Optuna allows to call the same distribution with the same name more than once in a trial. When the parameter values are inconsistent optuna only uses the values of the first call and ignores all following. Using these values: {'log': False, 'step': 1, 'low': 2, 'high': 32}\n",
      "  warnings.warn(\n",
      "[I 2024-09-15 12:42:44,158] Trial 24 finished with value: 0.6819005561241691 and parameters: {'n_estimators': 665, 'min_samples_split': 24, 'min_samples_leaf': 2}. Best is trial 24 with value: 0.6819005561241691.\n",
      "/Library/Frameworks/Python.framework/Versions/3.12/lib/python3.12/site-packages/optuna/trial/_trial.py:678: RuntimeWarning: Inconsistent parameter values for distribution with name \"min_samples_leaf\"! This might be a configuration mistake. Optuna allows to call the same distribution with the same name more than once in a trial. When the parameter values are inconsistent optuna only uses the values of the first call and ignores all following. Using these values: {'log': False, 'step': 1, 'low': 2, 'high': 32}\n",
      "  warnings.warn(\n",
      "[I 2024-09-15 12:43:22,100] Trial 25 finished with value: 0.6619558728646682 and parameters: {'n_estimators': 635, 'min_samples_split': 19, 'min_samples_leaf': 6}. Best is trial 24 with value: 0.6819005561241691.\n",
      "/Library/Frameworks/Python.framework/Versions/3.12/lib/python3.12/site-packages/optuna/trial/_trial.py:678: RuntimeWarning: Inconsistent parameter values for distribution with name \"min_samples_leaf\"! This might be a configuration mistake. Optuna allows to call the same distribution with the same name more than once in a trial. When the parameter values are inconsistent optuna only uses the values of the first call and ignores all following. Using these values: {'log': False, 'step': 1, 'low': 2, 'high': 32}\n",
      "  warnings.warn(\n",
      "[I 2024-09-15 12:43:36,375] Trial 26 finished with value: 0.6572015686567452 and parameters: {'n_estimators': 237, 'min_samples_split': 23, 'min_samples_leaf': 11}. Best is trial 24 with value: 0.6819005561241691.\n",
      "/Library/Frameworks/Python.framework/Versions/3.12/lib/python3.12/site-packages/optuna/trial/_trial.py:678: RuntimeWarning: Inconsistent parameter values for distribution with name \"min_samples_leaf\"! This might be a configuration mistake. Optuna allows to call the same distribution with the same name more than once in a trial. When the parameter values are inconsistent optuna only uses the values of the first call and ignores all following. Using these values: {'log': False, 'step': 1, 'low': 2, 'high': 32}\n",
      "  warnings.warn(\n",
      "[I 2024-09-15 12:44:14,861] Trial 27 finished with value: 0.6562515826689866 and parameters: {'n_estimators': 723, 'min_samples_split': 19, 'min_samples_leaf': 14}. Best is trial 24 with value: 0.6819005561241691.\n",
      "/Library/Frameworks/Python.framework/Versions/3.12/lib/python3.12/site-packages/optuna/trial/_trial.py:678: RuntimeWarning: Inconsistent parameter values for distribution with name \"min_samples_leaf\"! This might be a configuration mistake. Optuna allows to call the same distribution with the same name more than once in a trial. When the parameter values are inconsistent optuna only uses the values of the first call and ignores all following. Using these values: {'log': False, 'step': 1, 'low': 2, 'high': 32}\n",
      "  warnings.warn(\n",
      "[I 2024-09-15 12:45:03,840] Trial 28 finished with value: 0.6572092204400004 and parameters: {'n_estimators': 933, 'min_samples_split': 28, 'min_samples_leaf': 13}. Best is trial 24 with value: 0.6819005561241691.\n",
      "/Library/Frameworks/Python.framework/Versions/3.12/lib/python3.12/site-packages/optuna/trial/_trial.py:678: RuntimeWarning: Inconsistent parameter values for distribution with name \"min_samples_leaf\"! This might be a configuration mistake. Optuna allows to call the same distribution with the same name more than once in a trial. When the parameter values are inconsistent optuna only uses the values of the first call and ignores all following. Using these values: {'log': False, 'step': 1, 'low': 2, 'high': 32}\n",
      "  warnings.warn(\n",
      "[I 2024-09-15 12:45:10,666] Trial 29 finished with value: 0.6575043716574573 and parameters: {'n_estimators': 139, 'min_samples_split': 11, 'min_samples_leaf': 14}. Best is trial 24 with value: 0.6819005561241691.\n",
      "/Library/Frameworks/Python.framework/Versions/3.12/lib/python3.12/site-packages/optuna/trial/_trial.py:678: RuntimeWarning: Inconsistent parameter values for distribution with name \"min_samples_leaf\"! This might be a configuration mistake. Optuna allows to call the same distribution with the same name more than once in a trial. When the parameter values are inconsistent optuna only uses the values of the first call and ignores all following. Using these values: {'log': False, 'step': 1, 'low': 2, 'high': 32}\n",
      "  warnings.warn(\n",
      "[I 2024-09-15 12:45:51,529] Trial 30 finished with value: 0.6569193392223747 and parameters: {'n_estimators': 735, 'min_samples_split': 32, 'min_samples_leaf': 13}. Best is trial 24 with value: 0.6819005561241691.\n",
      "/Library/Frameworks/Python.framework/Versions/3.12/lib/python3.12/site-packages/optuna/trial/_trial.py:678: RuntimeWarning: Inconsistent parameter values for distribution with name \"min_samples_leaf\"! This might be a configuration mistake. Optuna allows to call the same distribution with the same name more than once in a trial. When the parameter values are inconsistent optuna only uses the values of the first call and ignores all following. Using these values: {'log': False, 'step': 1, 'low': 2, 'high': 32}\n",
      "  warnings.warn(\n",
      "[I 2024-09-15 12:46:39,461] Trial 31 finished with value: 0.6554139523900533 and parameters: {'n_estimators': 787, 'min_samples_split': 20, 'min_samples_leaf': 23}. Best is trial 24 with value: 0.6819005561241691.\n",
      "/Library/Frameworks/Python.framework/Versions/3.12/lib/python3.12/site-packages/optuna/trial/_trial.py:678: RuntimeWarning: Inconsistent parameter values for distribution with name \"min_samples_leaf\"! This might be a configuration mistake. Optuna allows to call the same distribution with the same name more than once in a trial. When the parameter values are inconsistent optuna only uses the values of the first call and ignores all following. Using these values: {'log': False, 'step': 1, 'low': 2, 'high': 32}\n",
      "  warnings.warn(\n",
      "[I 2024-09-15 12:46:51,910] Trial 32 finished with value: 0.6579136930776347 and parameters: {'n_estimators': 236, 'min_samples_split': 14, 'min_samples_leaf': 9}. Best is trial 24 with value: 0.6819005561241691.\n",
      "/Library/Frameworks/Python.framework/Versions/3.12/lib/python3.12/site-packages/optuna/trial/_trial.py:678: RuntimeWarning: Inconsistent parameter values for distribution with name \"min_samples_leaf\"! This might be a configuration mistake. Optuna allows to call the same distribution with the same name more than once in a trial. When the parameter values are inconsistent optuna only uses the values of the first call and ignores all following. Using these values: {'log': False, 'step': 1, 'low': 2, 'high': 32}\n",
      "  warnings.warn(\n",
      "[I 2024-09-15 12:47:11,338] Trial 33 finished with value: 0.6552254041033326 and parameters: {'n_estimators': 409, 'min_samples_split': 17, 'min_samples_leaf': 22}. Best is trial 24 with value: 0.6819005561241691.\n",
      "/Library/Frameworks/Python.framework/Versions/3.12/lib/python3.12/site-packages/optuna/trial/_trial.py:678: RuntimeWarning: Inconsistent parameter values for distribution with name \"min_samples_leaf\"! This might be a configuration mistake. Optuna allows to call the same distribution with the same name more than once in a trial. When the parameter values are inconsistent optuna only uses the values of the first call and ignores all following. Using these values: {'log': False, 'step': 1, 'low': 2, 'high': 32}\n",
      "  warnings.warn(\n",
      "[I 2024-09-15 12:47:18,970] Trial 34 finished with value: 0.6499054025489706 and parameters: {'n_estimators': 195, 'min_samples_split': 6, 'min_samples_leaf': 11}. Best is trial 24 with value: 0.6819005561241691.\n",
      "/Library/Frameworks/Python.framework/Versions/3.12/lib/python3.12/site-packages/optuna/trial/_trial.py:678: RuntimeWarning: Inconsistent parameter values for distribution with name \"min_samples_leaf\"! This might be a configuration mistake. Optuna allows to call the same distribution with the same name more than once in a trial. When the parameter values are inconsistent optuna only uses the values of the first call and ignores all following. Using these values: {'log': False, 'step': 1, 'low': 2, 'high': 32}\n",
      "  warnings.warn(\n",
      "[I 2024-09-15 12:47:53,874] Trial 35 finished with value: 0.6569398329710816 and parameters: {'n_estimators': 696, 'min_samples_split': 28, 'min_samples_leaf': 19}. Best is trial 24 with value: 0.6819005561241691.\n",
      "/Library/Frameworks/Python.framework/Versions/3.12/lib/python3.12/site-packages/optuna/trial/_trial.py:678: RuntimeWarning: Inconsistent parameter values for distribution with name \"min_samples_leaf\"! This might be a configuration mistake. Optuna allows to call the same distribution with the same name more than once in a trial. When the parameter values are inconsistent optuna only uses the values of the first call and ignores all following. Using these values: {'log': False, 'step': 1, 'low': 2, 'high': 32}\n",
      "  warnings.warn(\n",
      "[I 2024-09-15 12:48:37,214] Trial 36 finished with value: 0.6567921371906987 and parameters: {'n_estimators': 869, 'min_samples_split': 13, 'min_samples_leaf': 11}. Best is trial 24 with value: 0.6819005561241691.\n",
      "/Library/Frameworks/Python.framework/Versions/3.12/lib/python3.12/site-packages/optuna/trial/_trial.py:678: RuntimeWarning: Inconsistent parameter values for distribution with name \"min_samples_leaf\"! This might be a configuration mistake. Optuna allows to call the same distribution with the same name more than once in a trial. When the parameter values are inconsistent optuna only uses the values of the first call and ignores all following. Using these values: {'log': False, 'step': 1, 'low': 2, 'high': 32}\n",
      "  warnings.warn(\n",
      "[I 2024-09-15 12:48:53,596] Trial 37 finished with value: 0.6482185164419942 and parameters: {'n_estimators': 419, 'min_samples_split': 7, 'min_samples_leaf': 27}. Best is trial 24 with value: 0.6819005561241691.\n",
      "/Library/Frameworks/Python.framework/Versions/3.12/lib/python3.12/site-packages/optuna/trial/_trial.py:678: RuntimeWarning: Inconsistent parameter values for distribution with name \"min_samples_leaf\"! This might be a configuration mistake. Optuna allows to call the same distribution with the same name more than once in a trial. When the parameter values are inconsistent optuna only uses the values of the first call and ignores all following. Using these values: {'log': False, 'step': 1, 'low': 2, 'high': 32}\n",
      "  warnings.warn(\n",
      "[I 2024-09-15 12:49:13,948] Trial 38 finished with value: 0.6565019822577072 and parameters: {'n_estimators': 405, 'min_samples_split': 19, 'min_samples_leaf': 19}. Best is trial 24 with value: 0.6819005561241691.\n",
      "/Library/Frameworks/Python.framework/Versions/3.12/lib/python3.12/site-packages/optuna/trial/_trial.py:678: RuntimeWarning: Inconsistent parameter values for distribution with name \"min_samples_leaf\"! This might be a configuration mistake. Optuna allows to call the same distribution with the same name more than once in a trial. When the parameter values are inconsistent optuna only uses the values of the first call and ignores all following. Using these values: {'log': False, 'step': 1, 'low': 2, 'high': 32}\n",
      "  warnings.warn(\n",
      "[I 2024-09-15 12:49:29,748] Trial 39 finished with value: 0.6352765953467445 and parameters: {'n_estimators': 569, 'min_samples_split': 2, 'min_samples_leaf': 32}. Best is trial 24 with value: 0.6819005561241691.\n",
      "/Library/Frameworks/Python.framework/Versions/3.12/lib/python3.12/site-packages/optuna/trial/_trial.py:678: RuntimeWarning: Inconsistent parameter values for distribution with name \"min_samples_leaf\"! This might be a configuration mistake. Optuna allows to call the same distribution with the same name more than once in a trial. When the parameter values are inconsistent optuna only uses the values of the first call and ignores all following. Using these values: {'log': False, 'step': 1, 'low': 2, 'high': 32}\n",
      "  warnings.warn(\n",
      "[I 2024-09-15 12:50:07,598] Trial 40 finished with value: 0.6552451227111327 and parameters: {'n_estimators': 915, 'min_samples_split': 8, 'min_samples_leaf': 11}. Best is trial 24 with value: 0.6819005561241691.\n",
      "/Library/Frameworks/Python.framework/Versions/3.12/lib/python3.12/site-packages/optuna/trial/_trial.py:678: RuntimeWarning: Inconsistent parameter values for distribution with name \"min_samples_leaf\"! This might be a configuration mistake. Optuna allows to call the same distribution with the same name more than once in a trial. When the parameter values are inconsistent optuna only uses the values of the first call and ignores all following. Using these values: {'log': False, 'step': 1, 'low': 2, 'high': 32}\n",
      "  warnings.warn(\n",
      "[I 2024-09-15 12:50:34,333] Trial 41 finished with value: 0.650397513003546 and parameters: {'n_estimators': 568, 'min_samples_split': 29, 'min_samples_leaf': 32}. Best is trial 24 with value: 0.6819005561241691.\n",
      "/Library/Frameworks/Python.framework/Versions/3.12/lib/python3.12/site-packages/optuna/trial/_trial.py:678: RuntimeWarning: Inconsistent parameter values for distribution with name \"min_samples_leaf\"! This might be a configuration mistake. Optuna allows to call the same distribution with the same name more than once in a trial. When the parameter values are inconsistent optuna only uses the values of the first call and ignores all following. Using these values: {'log': False, 'step': 1, 'low': 2, 'high': 32}\n",
      "  warnings.warn(\n",
      "[I 2024-09-15 12:50:50,083] Trial 42 finished with value: 0.6540057743721635 and parameters: {'n_estimators': 332, 'min_samples_split': 19, 'min_samples_leaf': 27}. Best is trial 24 with value: 0.6819005561241691.\n",
      "/Library/Frameworks/Python.framework/Versions/3.12/lib/python3.12/site-packages/optuna/trial/_trial.py:678: RuntimeWarning: Inconsistent parameter values for distribution with name \"min_samples_leaf\"! This might be a configuration mistake. Optuna allows to call the same distribution with the same name more than once in a trial. When the parameter values are inconsistent optuna only uses the values of the first call and ignores all following. Using these values: {'log': False, 'step': 1, 'low': 2, 'high': 32}\n",
      "  warnings.warn(\n",
      "[I 2024-09-15 12:51:17,069] Trial 43 finished with value: 0.6627926037826221 and parameters: {'n_estimators': 455, 'min_samples_split': 24, 'min_samples_leaf': 6}. Best is trial 24 with value: 0.6819005561241691.\n",
      "/Library/Frameworks/Python.framework/Versions/3.12/lib/python3.12/site-packages/optuna/trial/_trial.py:678: RuntimeWarning: Inconsistent parameter values for distribution with name \"min_samples_leaf\"! This might be a configuration mistake. Optuna allows to call the same distribution with the same name more than once in a trial. When the parameter values are inconsistent optuna only uses the values of the first call and ignores all following. Using these values: {'log': False, 'step': 1, 'low': 2, 'high': 32}\n",
      "  warnings.warn(\n",
      "[I 2024-09-15 12:51:45,963] Trial 44 finished with value: 0.6512518235992533 and parameters: {'n_estimators': 641, 'min_samples_split': 28, 'min_samples_leaf': 32}. Best is trial 24 with value: 0.6819005561241691.\n",
      "/Library/Frameworks/Python.framework/Versions/3.12/lib/python3.12/site-packages/optuna/trial/_trial.py:678: RuntimeWarning: Inconsistent parameter values for distribution with name \"min_samples_leaf\"! This might be a configuration mistake. Optuna allows to call the same distribution with the same name more than once in a trial. When the parameter values are inconsistent optuna only uses the values of the first call and ignores all following. Using these values: {'log': False, 'step': 1, 'low': 2, 'high': 32}\n",
      "  warnings.warn(\n",
      "[I 2024-09-15 12:51:55,310] Trial 45 finished with value: 0.6597162348132519 and parameters: {'n_estimators': 171, 'min_samples_split': 15, 'min_samples_leaf': 8}. Best is trial 24 with value: 0.6819005561241691.\n",
      "/Library/Frameworks/Python.framework/Versions/3.12/lib/python3.12/site-packages/optuna/trial/_trial.py:678: RuntimeWarning: Inconsistent parameter values for distribution with name \"min_samples_leaf\"! This might be a configuration mistake. Optuna allows to call the same distribution with the same name more than once in a trial. When the parameter values are inconsistent optuna only uses the values of the first call and ignores all following. Using these values: {'log': False, 'step': 1, 'low': 2, 'high': 32}\n",
      "  warnings.warn(\n",
      "[I 2024-09-15 12:52:25,430] Trial 46 finished with value: 0.6661104891918257 and parameters: {'n_estimators': 506, 'min_samples_split': 18, 'min_samples_leaf': 4}. Best is trial 24 with value: 0.6819005561241691.\n",
      "/Library/Frameworks/Python.framework/Versions/3.12/lib/python3.12/site-packages/optuna/trial/_trial.py:678: RuntimeWarning: Inconsistent parameter values for distribution with name \"min_samples_leaf\"! This might be a configuration mistake. Optuna allows to call the same distribution with the same name more than once in a trial. When the parameter values are inconsistent optuna only uses the values of the first call and ignores all following. Using these values: {'log': False, 'step': 1, 'low': 2, 'high': 32}\n",
      "  warnings.warn(\n",
      "[I 2024-09-15 12:52:45,178] Trial 47 finished with value: 0.6569171098431257 and parameters: {'n_estimators': 367, 'min_samples_split': 30, 'min_samples_leaf': 19}. Best is trial 24 with value: 0.6819005561241691.\n",
      "/Library/Frameworks/Python.framework/Versions/3.12/lib/python3.12/site-packages/optuna/trial/_trial.py:678: RuntimeWarning: Inconsistent parameter values for distribution with name \"min_samples_leaf\"! This might be a configuration mistake. Optuna allows to call the same distribution with the same name more than once in a trial. When the parameter values are inconsistent optuna only uses the values of the first call and ignores all following. Using these values: {'log': False, 'step': 1, 'low': 2, 'high': 32}\n",
      "  warnings.warn(\n",
      "[I 2024-09-15 12:53:10,362] Trial 48 finished with value: 0.653371974159996 and parameters: {'n_estimators': 512, 'min_samples_split': 25, 'min_samples_leaf': 24}. Best is trial 24 with value: 0.6819005561241691.\n",
      "/Library/Frameworks/Python.framework/Versions/3.12/lib/python3.12/site-packages/optuna/trial/_trial.py:678: RuntimeWarning: Inconsistent parameter values for distribution with name \"min_samples_leaf\"! This might be a configuration mistake. Optuna allows to call the same distribution with the same name more than once in a trial. When the parameter values are inconsistent optuna only uses the values of the first call and ignores all following. Using these values: {'log': False, 'step': 1, 'low': 2, 'high': 32}\n",
      "  warnings.warn(\n",
      "[I 2024-09-15 12:53:18,662] Trial 49 finished with value: 0.6543981648814045 and parameters: {'n_estimators': 143, 'min_samples_split': 23, 'min_samples_leaf': 28}. Best is trial 24 with value: 0.6819005561241691.\n",
      "/Library/Frameworks/Python.framework/Versions/3.12/lib/python3.12/site-packages/optuna/trial/_trial.py:678: RuntimeWarning: Inconsistent parameter values for distribution with name \"min_samples_leaf\"! This might be a configuration mistake. Optuna allows to call the same distribution with the same name more than once in a trial. When the parameter values are inconsistent optuna only uses the values of the first call and ignores all following. Using these values: {'log': False, 'step': 1, 'low': 2, 'high': 32}\n",
      "  warnings.warn(\n",
      "[I 2024-09-15 12:53:32,725] Trial 50 finished with value: 0.6583257406951224 and parameters: {'n_estimators': 249, 'min_samples_split': 26, 'min_samples_leaf': 10}. Best is trial 24 with value: 0.6819005561241691.\n",
      "/Library/Frameworks/Python.framework/Versions/3.12/lib/python3.12/site-packages/optuna/trial/_trial.py:678: RuntimeWarning: Inconsistent parameter values for distribution with name \"min_samples_leaf\"! This might be a configuration mistake. Optuna allows to call the same distribution with the same name more than once in a trial. When the parameter values are inconsistent optuna only uses the values of the first call and ignores all following. Using these values: {'log': False, 'step': 1, 'low': 2, 'high': 32}\n",
      "  warnings.warn(\n",
      "[I 2024-09-15 12:53:54,543] Trial 51 finished with value: 0.6667874448481567 and parameters: {'n_estimators': 376, 'min_samples_split': 22, 'min_samples_leaf': 5}. Best is trial 24 with value: 0.6819005561241691.\n",
      "/Library/Frameworks/Python.framework/Versions/3.12/lib/python3.12/site-packages/optuna/trial/_trial.py:678: RuntimeWarning: Inconsistent parameter values for distribution with name \"min_samples_leaf\"! This might be a configuration mistake. Optuna allows to call the same distribution with the same name more than once in a trial. When the parameter values are inconsistent optuna only uses the values of the first call and ignores all following. Using these values: {'log': False, 'step': 1, 'low': 2, 'high': 32}\n",
      "  warnings.warn(\n",
      "[I 2024-09-15 12:54:27,203] Trial 52 finished with value: 0.6548356786082533 and parameters: {'n_estimators': 699, 'min_samples_split': 29, 'min_samples_leaf': 23}. Best is trial 24 with value: 0.6819005561241691.\n",
      "/Library/Frameworks/Python.framework/Versions/3.12/lib/python3.12/site-packages/optuna/trial/_trial.py:678: RuntimeWarning: Inconsistent parameter values for distribution with name \"min_samples_leaf\"! This might be a configuration mistake. Optuna allows to call the same distribution with the same name more than once in a trial. When the parameter values are inconsistent optuna only uses the values of the first call and ignores all following. Using these values: {'log': False, 'step': 1, 'low': 2, 'high': 32}\n",
      "  warnings.warn(\n",
      "[I 2024-09-15 12:54:50,902] Trial 53 finished with value: 0.6549702874382077 and parameters: {'n_estimators': 496, 'min_samples_split': 15, 'min_samples_leaf': 25}. Best is trial 24 with value: 0.6819005561241691.\n",
      "/Library/Frameworks/Python.framework/Versions/3.12/lib/python3.12/site-packages/optuna/trial/_trial.py:678: RuntimeWarning: Inconsistent parameter values for distribution with name \"min_samples_leaf\"! This might be a configuration mistake. Optuna allows to call the same distribution with the same name more than once in a trial. When the parameter values are inconsistent optuna only uses the values of the first call and ignores all following. Using these values: {'log': False, 'step': 1, 'low': 2, 'high': 32}\n",
      "  warnings.warn(\n",
      "[I 2024-09-15 12:55:10,296] Trial 54 finished with value: 0.6378107155908467 and parameters: {'n_estimators': 609, 'min_samples_split': 4, 'min_samples_leaf': 20}. Best is trial 24 with value: 0.6819005561241691.\n",
      "/Library/Frameworks/Python.framework/Versions/3.12/lib/python3.12/site-packages/optuna/trial/_trial.py:678: RuntimeWarning: Inconsistent parameter values for distribution with name \"min_samples_leaf\"! This might be a configuration mistake. Optuna allows to call the same distribution with the same name more than once in a trial. When the parameter values are inconsistent optuna only uses the values of the first call and ignores all following. Using these values: {'log': False, 'step': 1, 'low': 2, 'high': 32}\n",
      "  warnings.warn(\n",
      "[I 2024-09-15 12:55:47,505] Trial 55 finished with value: 0.6518240659288017 and parameters: {'n_estimators': 834, 'min_samples_split': 12, 'min_samples_leaf': 30}. Best is trial 24 with value: 0.6819005561241691.\n",
      "/Library/Frameworks/Python.framework/Versions/3.12/lib/python3.12/site-packages/optuna/trial/_trial.py:678: RuntimeWarning: Inconsistent parameter values for distribution with name \"min_samples_leaf\"! This might be a configuration mistake. Optuna allows to call the same distribution with the same name more than once in a trial. When the parameter values are inconsistent optuna only uses the values of the first call and ignores all following. Using these values: {'log': False, 'step': 1, 'low': 2, 'high': 32}\n",
      "  warnings.warn(\n",
      "[I 2024-09-15 12:56:23,763] Trial 56 finished with value: 0.655106199293023 and parameters: {'n_estimators': 776, 'min_samples_split': 19, 'min_samples_leaf': 25}. Best is trial 24 with value: 0.6819005561241691.\n",
      "/Library/Frameworks/Python.framework/Versions/3.12/lib/python3.12/site-packages/optuna/trial/_trial.py:678: RuntimeWarning: Inconsistent parameter values for distribution with name \"min_samples_leaf\"! This might be a configuration mistake. Optuna allows to call the same distribution with the same name more than once in a trial. When the parameter values are inconsistent optuna only uses the values of the first call and ignores all following. Using these values: {'log': False, 'step': 1, 'low': 2, 'high': 32}\n",
      "  warnings.warn(\n",
      "[I 2024-09-15 12:56:31,885] Trial 57 finished with value: 0.6519857699597879 and parameters: {'n_estimators': 171, 'min_samples_split': 28, 'min_samples_leaf': 27}. Best is trial 24 with value: 0.6819005561241691.\n",
      "/Library/Frameworks/Python.framework/Versions/3.12/lib/python3.12/site-packages/optuna/trial/_trial.py:678: RuntimeWarning: Inconsistent parameter values for distribution with name \"min_samples_leaf\"! This might be a configuration mistake. Optuna allows to call the same distribution with the same name more than once in a trial. When the parameter values are inconsistent optuna only uses the values of the first call and ignores all following. Using these values: {'log': False, 'step': 1, 'low': 2, 'high': 32}\n",
      "  warnings.warn(\n",
      "[I 2024-09-15 12:57:04,012] Trial 58 finished with value: 0.6467645207398183 and parameters: {'n_estimators': 919, 'min_samples_split': 5, 'min_samples_leaf': 4}. Best is trial 24 with value: 0.6819005561241691.\n",
      "/Library/Frameworks/Python.framework/Versions/3.12/lib/python3.12/site-packages/optuna/trial/_trial.py:678: RuntimeWarning: Inconsistent parameter values for distribution with name \"min_samples_leaf\"! This might be a configuration mistake. Optuna allows to call the same distribution with the same name more than once in a trial. When the parameter values are inconsistent optuna only uses the values of the first call and ignores all following. Using these values: {'log': False, 'step': 1, 'low': 2, 'high': 32}\n",
      "  warnings.warn(\n",
      "[I 2024-09-15 12:57:16,141] Trial 59 finished with value: 0.6570589003038487 and parameters: {'n_estimators': 224, 'min_samples_split': 14, 'min_samples_leaf': 15}. Best is trial 24 with value: 0.6819005561241691.\n",
      "/Library/Frameworks/Python.framework/Versions/3.12/lib/python3.12/site-packages/optuna/trial/_trial.py:678: RuntimeWarning: Inconsistent parameter values for distribution with name \"min_samples_leaf\"! This might be a configuration mistake. Optuna allows to call the same distribution with the same name more than once in a trial. When the parameter values are inconsistent optuna only uses the values of the first call and ignores all following. Using these values: {'log': False, 'step': 1, 'low': 2, 'high': 32}\n",
      "  warnings.warn(\n",
      "[I 2024-09-15 12:57:37,095] Trial 60 finished with value: 0.6432238577610813 and parameters: {'n_estimators': 606, 'min_samples_split': 5, 'min_samples_leaf': 8}. Best is trial 24 with value: 0.6819005561241691.\n",
      "/Library/Frameworks/Python.framework/Versions/3.12/lib/python3.12/site-packages/optuna/trial/_trial.py:678: RuntimeWarning: Inconsistent parameter values for distribution with name \"min_samples_leaf\"! This might be a configuration mistake. Optuna allows to call the same distribution with the same name more than once in a trial. When the parameter values are inconsistent optuna only uses the values of the first call and ignores all following. Using these values: {'log': False, 'step': 1, 'low': 2, 'high': 32}\n",
      "  warnings.warn(\n",
      "[I 2024-09-15 12:58:15,669] Trial 61 finished with value: 0.6532793554251761 and parameters: {'n_estimators': 831, 'min_samples_split': 16, 'min_samples_leaf': 27}. Best is trial 24 with value: 0.6819005561241691.\n",
      "/Library/Frameworks/Python.framework/Versions/3.12/lib/python3.12/site-packages/optuna/trial/_trial.py:678: RuntimeWarning: Inconsistent parameter values for distribution with name \"min_samples_leaf\"! This might be a configuration mistake. Optuna allows to call the same distribution with the same name more than once in a trial. When the parameter values are inconsistent optuna only uses the values of the first call and ignores all following. Using these values: {'log': False, 'step': 1, 'low': 2, 'high': 32}\n",
      "  warnings.warn(\n",
      "[I 2024-09-15 12:58:20,646] Trial 62 finished with value: 0.649315110074796 and parameters: {'n_estimators': 106, 'min_samples_split': 19, 'min_samples_leaf': 30}. Best is trial 24 with value: 0.6819005561241691.\n",
      "/Library/Frameworks/Python.framework/Versions/3.12/lib/python3.12/site-packages/optuna/trial/_trial.py:678: RuntimeWarning: Inconsistent parameter values for distribution with name \"min_samples_leaf\"! This might be a configuration mistake. Optuna allows to call the same distribution with the same name more than once in a trial. When the parameter values are inconsistent optuna only uses the values of the first call and ignores all following. Using these values: {'log': False, 'step': 1, 'low': 2, 'high': 32}\n",
      "  warnings.warn(\n",
      "[I 2024-09-15 12:58:50,833] Trial 63 finished with value: 0.652991400893068 and parameters: {'n_estimators': 624, 'min_samples_split': 8, 'min_samples_leaf': 24}. Best is trial 24 with value: 0.6819005561241691.\n",
      "/Library/Frameworks/Python.framework/Versions/3.12/lib/python3.12/site-packages/optuna/trial/_trial.py:678: RuntimeWarning: Inconsistent parameter values for distribution with name \"min_samples_leaf\"! This might be a configuration mistake. Optuna allows to call the same distribution with the same name more than once in a trial. When the parameter values are inconsistent optuna only uses the values of the first call and ignores all following. Using these values: {'log': False, 'step': 1, 'low': 2, 'high': 32}\n",
      "  warnings.warn(\n",
      "[I 2024-09-15 12:59:23,079] Trial 64 finished with value: 0.6796491225431233 and parameters: {'n_estimators': 441, 'min_samples_split': 22, 'min_samples_leaf': 2}. Best is trial 24 with value: 0.6819005561241691.\n",
      "/Library/Frameworks/Python.framework/Versions/3.12/lib/python3.12/site-packages/optuna/trial/_trial.py:678: RuntimeWarning: Inconsistent parameter values for distribution with name \"min_samples_leaf\"! This might be a configuration mistake. Optuna allows to call the same distribution with the same name more than once in a trial. When the parameter values are inconsistent optuna only uses the values of the first call and ignores all following. Using these values: {'log': False, 'step': 1, 'low': 2, 'high': 32}\n",
      "  warnings.warn(\n",
      "[I 2024-09-15 12:59:42,466] Trial 65 finished with value: 0.6348995689619772 and parameters: {'n_estimators': 672, 'min_samples_split': 2, 'min_samples_leaf': 25}. Best is trial 24 with value: 0.6819005561241691.\n",
      "/Library/Frameworks/Python.framework/Versions/3.12/lib/python3.12/site-packages/optuna/trial/_trial.py:678: RuntimeWarning: Inconsistent parameter values for distribution with name \"min_samples_leaf\"! This might be a configuration mistake. Optuna allows to call the same distribution with the same name more than once in a trial. When the parameter values are inconsistent optuna only uses the values of the first call and ignores all following. Using these values: {'log': False, 'step': 1, 'low': 2, 'high': 32}\n",
      "  warnings.warn(\n",
      "[I 2024-09-15 13:00:02,081] Trial 66 finished with value: 0.643240119739288 and parameters: {'n_estimators': 526, 'min_samples_split': 5, 'min_samples_leaf': 18}. Best is trial 24 with value: 0.6819005561241691.\n",
      "/Library/Frameworks/Python.framework/Versions/3.12/lib/python3.12/site-packages/optuna/trial/_trial.py:678: RuntimeWarning: Inconsistent parameter values for distribution with name \"min_samples_leaf\"! This might be a configuration mistake. Optuna allows to call the same distribution with the same name more than once in a trial. When the parameter values are inconsistent optuna only uses the values of the first call and ignores all following. Using these values: {'log': False, 'step': 1, 'low': 2, 'high': 32}\n",
      "  warnings.warn(\n",
      "[I 2024-09-15 13:00:10,278] Trial 67 finished with value: 0.6507481240853658 and parameters: {'n_estimators': 160, 'min_samples_split': 22, 'min_samples_leaf': 32}. Best is trial 24 with value: 0.6819005561241691.\n",
      "/Library/Frameworks/Python.framework/Versions/3.12/lib/python3.12/site-packages/optuna/trial/_trial.py:678: RuntimeWarning: Inconsistent parameter values for distribution with name \"min_samples_leaf\"! This might be a configuration mistake. Optuna allows to call the same distribution with the same name more than once in a trial. When the parameter values are inconsistent optuna only uses the values of the first call and ignores all following. Using these values: {'log': False, 'step': 1, 'low': 2, 'high': 32}\n",
      "  warnings.warn(\n",
      "[I 2024-09-15 13:01:00,413] Trial 68 finished with value: 0.6647016361664799 and parameters: {'n_estimators': 793, 'min_samples_split': 19, 'min_samples_leaf': 5}. Best is trial 24 with value: 0.6819005561241691.\n",
      "/Library/Frameworks/Python.framework/Versions/3.12/lib/python3.12/site-packages/optuna/trial/_trial.py:678: RuntimeWarning: Inconsistent parameter values for distribution with name \"min_samples_leaf\"! This might be a configuration mistake. Optuna allows to call the same distribution with the same name more than once in a trial. When the parameter values are inconsistent optuna only uses the values of the first call and ignores all following. Using these values: {'log': False, 'step': 1, 'low': 2, 'high': 32}\n",
      "  warnings.warn(\n",
      "[I 2024-09-15 13:01:42,597] Trial 69 finished with value: 0.6752095079704267 and parameters: {'n_estimators': 730, 'min_samples_split': 22, 'min_samples_leaf': 3}. Best is trial 24 with value: 0.6819005561241691.\n",
      "/Library/Frameworks/Python.framework/Versions/3.12/lib/python3.12/site-packages/optuna/trial/_trial.py:678: RuntimeWarning: Inconsistent parameter values for distribution with name \"min_samples_leaf\"! This might be a configuration mistake. Optuna allows to call the same distribution with the same name more than once in a trial. When the parameter values are inconsistent optuna only uses the values of the first call and ignores all following. Using these values: {'log': False, 'step': 1, 'low': 2, 'high': 32}\n",
      "  warnings.warn(\n",
      "[I 2024-09-15 13:02:21,744] Trial 70 finished with value: 0.6569249997153298 and parameters: {'n_estimators': 813, 'min_samples_split': 18, 'min_samples_leaf': 15}. Best is trial 24 with value: 0.6819005561241691.\n",
      "/Library/Frameworks/Python.framework/Versions/3.12/lib/python3.12/site-packages/optuna/trial/_trial.py:678: RuntimeWarning: Inconsistent parameter values for distribution with name \"min_samples_leaf\"! This might be a configuration mistake. Optuna allows to call the same distribution with the same name more than once in a trial. When the parameter values are inconsistent optuna only uses the values of the first call and ignores all following. Using these values: {'log': False, 'step': 1, 'low': 2, 'high': 32}\n",
      "  warnings.warn(\n",
      "[I 2024-09-15 13:02:58,556] Trial 71 finished with value: 0.6563909569643966 and parameters: {'n_estimators': 810, 'min_samples_split': 14, 'min_samples_leaf': 16}. Best is trial 24 with value: 0.6819005561241691.\n",
      "/Library/Frameworks/Python.framework/Versions/3.12/lib/python3.12/site-packages/optuna/trial/_trial.py:678: RuntimeWarning: Inconsistent parameter values for distribution with name \"min_samples_leaf\"! This might be a configuration mistake. Optuna allows to call the same distribution with the same name more than once in a trial. When the parameter values are inconsistent optuna only uses the values of the first call and ignores all following. Using these values: {'log': False, 'step': 1, 'low': 2, 'high': 32}\n",
      "  warnings.warn(\n",
      "[I 2024-09-15 13:03:09,805] Trial 72 finished with value: 0.6534190041192061 and parameters: {'n_estimators': 263, 'min_samples_split': 11, 'min_samples_leaf': 28}. Best is trial 24 with value: 0.6819005561241691.\n",
      "/Library/Frameworks/Python.framework/Versions/3.12/lib/python3.12/site-packages/optuna/trial/_trial.py:678: RuntimeWarning: Inconsistent parameter values for distribution with name \"min_samples_leaf\"! This might be a configuration mistake. Optuna allows to call the same distribution with the same name more than once in a trial. When the parameter values are inconsistent optuna only uses the values of the first call and ignores all following. Using these values: {'log': False, 'step': 1, 'low': 2, 'high': 32}\n",
      "  warnings.warn(\n",
      "[I 2024-09-15 13:03:21,295] Trial 73 finished with value: 0.6494024076319889 and parameters: {'n_estimators': 268, 'min_samples_split': 14, 'min_samples_leaf': 32}. Best is trial 24 with value: 0.6819005561241691.\n",
      "/Library/Frameworks/Python.framework/Versions/3.12/lib/python3.12/site-packages/optuna/trial/_trial.py:678: RuntimeWarning: Inconsistent parameter values for distribution with name \"min_samples_leaf\"! This might be a configuration mistake. Optuna allows to call the same distribution with the same name more than once in a trial. When the parameter values are inconsistent optuna only uses the values of the first call and ignores all following. Using these values: {'log': False, 'step': 1, 'low': 2, 'high': 32}\n",
      "  warnings.warn(\n",
      "[I 2024-09-15 13:03:34,889] Trial 74 finished with value: 0.6516864521658668 and parameters: {'n_estimators': 313, 'min_samples_split': 30, 'min_samples_leaf': 30}. Best is trial 24 with value: 0.6819005561241691.\n",
      "/Library/Frameworks/Python.framework/Versions/3.12/lib/python3.12/site-packages/optuna/trial/_trial.py:678: RuntimeWarning: Inconsistent parameter values for distribution with name \"min_samples_leaf\"! This might be a configuration mistake. Optuna allows to call the same distribution with the same name more than once in a trial. When the parameter values are inconsistent optuna only uses the values of the first call and ignores all following. Using these values: {'log': False, 'step': 1, 'low': 2, 'high': 32}\n",
      "  warnings.warn(\n",
      "[I 2024-09-15 13:03:43,452] Trial 75 finished with value: 0.6553726893373313 and parameters: {'n_estimators': 182, 'min_samples_split': 16, 'min_samples_leaf': 17}. Best is trial 24 with value: 0.6819005561241691.\n",
      "/Library/Frameworks/Python.framework/Versions/3.12/lib/python3.12/site-packages/optuna/trial/_trial.py:678: RuntimeWarning: Inconsistent parameter values for distribution with name \"min_samples_leaf\"! This might be a configuration mistake. Optuna allows to call the same distribution with the same name more than once in a trial. When the parameter values are inconsistent optuna only uses the values of the first call and ignores all following. Using these values: {'log': False, 'step': 1, 'low': 2, 'high': 32}\n",
      "  warnings.warn(\n",
      "[I 2024-09-15 13:03:54,105] Trial 76 finished with value: 0.6361154645984367 and parameters: {'n_estimators': 382, 'min_samples_split': 3, 'min_samples_leaf': 9}. Best is trial 24 with value: 0.6819005561241691.\n",
      "/Library/Frameworks/Python.framework/Versions/3.12/lib/python3.12/site-packages/optuna/trial/_trial.py:678: RuntimeWarning: Inconsistent parameter values for distribution with name \"min_samples_leaf\"! This might be a configuration mistake. Optuna allows to call the same distribution with the same name more than once in a trial. When the parameter values are inconsistent optuna only uses the values of the first call and ignores all following. Using these values: {'log': False, 'step': 1, 'low': 2, 'high': 32}\n",
      "  warnings.warn(\n",
      "[I 2024-09-15 13:04:01,622] Trial 77 finished with value: 0.6484822054700329 and parameters: {'n_estimators': 186, 'min_samples_split': 9, 'min_samples_leaf': 27}. Best is trial 24 with value: 0.6819005561241691.\n",
      "/Library/Frameworks/Python.framework/Versions/3.12/lib/python3.12/site-packages/optuna/trial/_trial.py:678: RuntimeWarning: Inconsistent parameter values for distribution with name \"min_samples_leaf\"! This might be a configuration mistake. Optuna allows to call the same distribution with the same name more than once in a trial. When the parameter values are inconsistent optuna only uses the values of the first call and ignores all following. Using these values: {'log': False, 'step': 1, 'low': 2, 'high': 32}\n",
      "  warnings.warn(\n",
      "[I 2024-09-15 13:04:26,189] Trial 78 finished with value: 0.636748259569133 and parameters: {'n_estimators': 906, 'min_samples_split': 3, 'min_samples_leaf': 11}. Best is trial 24 with value: 0.6819005561241691.\n",
      "/Library/Frameworks/Python.framework/Versions/3.12/lib/python3.12/site-packages/optuna/trial/_trial.py:678: RuntimeWarning: Inconsistent parameter values for distribution with name \"min_samples_leaf\"! This might be a configuration mistake. Optuna allows to call the same distribution with the same name more than once in a trial. When the parameter values are inconsistent optuna only uses the values of the first call and ignores all following. Using these values: {'log': False, 'step': 1, 'low': 2, 'high': 32}\n",
      "  warnings.warn(\n",
      "[I 2024-09-15 13:05:13,927] Trial 79 finished with value: 0.655822962341273 and parameters: {'n_estimators': 983, 'min_samples_split': 18, 'min_samples_leaf': 21}. Best is trial 24 with value: 0.6819005561241691.\n",
      "/Library/Frameworks/Python.framework/Versions/3.12/lib/python3.12/site-packages/optuna/trial/_trial.py:678: RuntimeWarning: Inconsistent parameter values for distribution with name \"min_samples_leaf\"! This might be a configuration mistake. Optuna allows to call the same distribution with the same name more than once in a trial. When the parameter values are inconsistent optuna only uses the values of the first call and ignores all following. Using these values: {'log': False, 'step': 1, 'low': 2, 'high': 32}\n",
      "  warnings.warn(\n",
      "[I 2024-09-15 13:05:18,809] Trial 80 finished with value: 0.6502813242806937 and parameters: {'n_estimators': 104, 'min_samples_split': 17, 'min_samples_leaf': 32}. Best is trial 24 with value: 0.6819005561241691.\n",
      "/Library/Frameworks/Python.framework/Versions/3.12/lib/python3.12/site-packages/optuna/trial/_trial.py:678: RuntimeWarning: Inconsistent parameter values for distribution with name \"min_samples_leaf\"! This might be a configuration mistake. Optuna allows to call the same distribution with the same name more than once in a trial. When the parameter values are inconsistent optuna only uses the values of the first call and ignores all following. Using these values: {'log': False, 'step': 1, 'low': 2, 'high': 32}\n",
      "  warnings.warn(\n",
      "[I 2024-09-15 13:05:34,483] Trial 81 finished with value: 0.6428585796732572 and parameters: {'n_estimators': 438, 'min_samples_split': 5, 'min_samples_leaf': 16}. Best is trial 24 with value: 0.6819005561241691.\n",
      "/Library/Frameworks/Python.framework/Versions/3.12/lib/python3.12/site-packages/optuna/trial/_trial.py:678: RuntimeWarning: Inconsistent parameter values for distribution with name \"min_samples_leaf\"! This might be a configuration mistake. Optuna allows to call the same distribution with the same name more than once in a trial. When the parameter values are inconsistent optuna only uses the values of the first call and ignores all following. Using these values: {'log': False, 'step': 1, 'low': 2, 'high': 32}\n",
      "  warnings.warn(\n",
      "[I 2024-09-15 13:06:18,651] Trial 82 finished with value: 0.6537269156965536 and parameters: {'n_estimators': 967, 'min_samples_split': 12, 'min_samples_leaf': 26}. Best is trial 24 with value: 0.6819005561241691.\n",
      "/Library/Frameworks/Python.framework/Versions/3.12/lib/python3.12/site-packages/optuna/trial/_trial.py:678: RuntimeWarning: Inconsistent parameter values for distribution with name \"min_samples_leaf\"! This might be a configuration mistake. Optuna allows to call the same distribution with the same name more than once in a trial. When the parameter values are inconsistent optuna only uses the values of the first call and ignores all following. Using these values: {'log': False, 'step': 1, 'low': 2, 'high': 32}\n",
      "  warnings.warn(\n",
      "[I 2024-09-15 13:06:52,140] Trial 83 finished with value: 0.6546814223410603 and parameters: {'n_estimators': 819, 'min_samples_split': 8, 'min_samples_leaf': 15}. Best is trial 24 with value: 0.6819005561241691.\n",
      "/Library/Frameworks/Python.framework/Versions/3.12/lib/python3.12/site-packages/optuna/trial/_trial.py:678: RuntimeWarning: Inconsistent parameter values for distribution with name \"min_samples_leaf\"! This might be a configuration mistake. Optuna allows to call the same distribution with the same name more than once in a trial. When the parameter values are inconsistent optuna only uses the values of the first call and ignores all following. Using these values: {'log': False, 'step': 1, 'low': 2, 'high': 32}\n",
      "  warnings.warn(\n",
      "[I 2024-09-15 13:07:30,586] Trial 84 finished with value: 0.6587560474774891 and parameters: {'n_estimators': 744, 'min_samples_split': 14, 'min_samples_leaf': 7}. Best is trial 24 with value: 0.6819005561241691.\n",
      "/Library/Frameworks/Python.framework/Versions/3.12/lib/python3.12/site-packages/optuna/trial/_trial.py:678: RuntimeWarning: Inconsistent parameter values for distribution with name \"min_samples_leaf\"! This might be a configuration mistake. Optuna allows to call the same distribution with the same name more than once in a trial. When the parameter values are inconsistent optuna only uses the values of the first call and ignores all following. Using these values: {'log': False, 'step': 1, 'low': 2, 'high': 32}\n",
      "  warnings.warn(\n",
      "[I 2024-09-15 13:08:15,724] Trial 85 finished with value: 0.6522256403141543 and parameters: {'n_estimators': 971, 'min_samples_split': 22, 'min_samples_leaf': 28}. Best is trial 24 with value: 0.6819005561241691.\n",
      "/Library/Frameworks/Python.framework/Versions/3.12/lib/python3.12/site-packages/optuna/trial/_trial.py:678: RuntimeWarning: Inconsistent parameter values for distribution with name \"min_samples_leaf\"! This might be a configuration mistake. Optuna allows to call the same distribution with the same name more than once in a trial. When the parameter values are inconsistent optuna only uses the values of the first call and ignores all following. Using these values: {'log': False, 'step': 1, 'low': 2, 'high': 32}\n",
      "  warnings.warn(\n",
      "[I 2024-09-15 13:08:21,542] Trial 86 finished with value: 0.6544526114097048 and parameters: {'n_estimators': 122, 'min_samples_split': 10, 'min_samples_leaf': 17}. Best is trial 24 with value: 0.6819005561241691.\n",
      "/Library/Frameworks/Python.framework/Versions/3.12/lib/python3.12/site-packages/optuna/trial/_trial.py:678: RuntimeWarning: Inconsistent parameter values for distribution with name \"min_samples_leaf\"! This might be a configuration mistake. Optuna allows to call the same distribution with the same name more than once in a trial. When the parameter values are inconsistent optuna only uses the values of the first call and ignores all following. Using these values: {'log': False, 'step': 1, 'low': 2, 'high': 32}\n",
      "  warnings.warn(\n",
      "[I 2024-09-15 13:08:30,491] Trial 87 finished with value: 0.6600170681741576 and parameters: {'n_estimators': 160, 'min_samples_split': 32, 'min_samples_leaf': 9}. Best is trial 24 with value: 0.6819005561241691.\n",
      "/Library/Frameworks/Python.framework/Versions/3.12/lib/python3.12/site-packages/optuna/trial/_trial.py:678: RuntimeWarning: Inconsistent parameter values for distribution with name \"min_samples_leaf\"! This might be a configuration mistake. Optuna allows to call the same distribution with the same name more than once in a trial. When the parameter values are inconsistent optuna only uses the values of the first call and ignores all following. Using these values: {'log': False, 'step': 1, 'low': 2, 'high': 32}\n",
      "  warnings.warn(\n",
      "[I 2024-09-15 13:08:48,876] Trial 88 finished with value: 0.6545414199873154 and parameters: {'n_estimators': 437, 'min_samples_split': 8, 'min_samples_leaf': 5}. Best is trial 24 with value: 0.6819005561241691.\n",
      "/Library/Frameworks/Python.framework/Versions/3.12/lib/python3.12/site-packages/optuna/trial/_trial.py:678: RuntimeWarning: Inconsistent parameter values for distribution with name \"min_samples_leaf\"! This might be a configuration mistake. Optuna allows to call the same distribution with the same name more than once in a trial. When the parameter values are inconsistent optuna only uses the values of the first call and ignores all following. Using these values: {'log': False, 'step': 1, 'low': 2, 'high': 32}\n",
      "  warnings.warn(\n",
      "[I 2024-09-15 13:09:04,082] Trial 89 finished with value: 0.6550975460844909 and parameters: {'n_estimators': 309, 'min_samples_split': 11, 'min_samples_leaf': 21}. Best is trial 24 with value: 0.6819005561241691.\n",
      "/Library/Frameworks/Python.framework/Versions/3.12/lib/python3.12/site-packages/optuna/trial/_trial.py:678: RuntimeWarning: Inconsistent parameter values for distribution with name \"min_samples_leaf\"! This might be a configuration mistake. Optuna allows to call the same distribution with the same name more than once in a trial. When the parameter values are inconsistent optuna only uses the values of the first call and ignores all following. Using these values: {'log': False, 'step': 1, 'low': 2, 'high': 32}\n",
      "  warnings.warn(\n",
      "[I 2024-09-15 13:09:22,943] Trial 90 finished with value: 0.663202980982847 and parameters: {'n_estimators': 353, 'min_samples_split': 13, 'min_samples_leaf': 2}. Best is trial 24 with value: 0.6819005561241691.\n",
      "/Library/Frameworks/Python.framework/Versions/3.12/lib/python3.12/site-packages/optuna/trial/_trial.py:678: RuntimeWarning: Inconsistent parameter values for distribution with name \"min_samples_leaf\"! This might be a configuration mistake. Optuna allows to call the same distribution with the same name more than once in a trial. When the parameter values are inconsistent optuna only uses the values of the first call and ignores all following. Using these values: {'log': False, 'step': 1, 'low': 2, 'high': 32}\n",
      "  warnings.warn(\n",
      "[I 2024-09-15 13:09:46,370] Trial 91 finished with value: 0.6596072701710483 and parameters: {'n_estimators': 429, 'min_samples_split': 18, 'min_samples_leaf': 7}. Best is trial 24 with value: 0.6819005561241691.\n",
      "/Library/Frameworks/Python.framework/Versions/3.12/lib/python3.12/site-packages/optuna/trial/_trial.py:678: RuntimeWarning: Inconsistent parameter values for distribution with name \"min_samples_leaf\"! This might be a configuration mistake. Optuna allows to call the same distribution with the same name more than once in a trial. When the parameter values are inconsistent optuna only uses the values of the first call and ignores all following. Using these values: {'log': False, 'step': 1, 'low': 2, 'high': 32}\n",
      "  warnings.warn(\n",
      "[I 2024-09-15 13:10:14,558] Trial 92 finished with value: 0.6548055181382263 and parameters: {'n_estimators': 638, 'min_samples_split': 11, 'min_samples_leaf': 21}. Best is trial 24 with value: 0.6819005561241691.\n",
      "/Library/Frameworks/Python.framework/Versions/3.12/lib/python3.12/site-packages/optuna/trial/_trial.py:678: RuntimeWarning: Inconsistent parameter values for distribution with name \"min_samples_leaf\"! This might be a configuration mistake. Optuna allows to call the same distribution with the same name more than once in a trial. When the parameter values are inconsistent optuna only uses the values of the first call and ignores all following. Using these values: {'log': False, 'step': 1, 'low': 2, 'high': 32}\n",
      "  warnings.warn(\n",
      "[I 2024-09-15 13:10:22,570] Trial 93 finished with value: 0.6836874934802044 and parameters: {'n_estimators': 123, 'min_samples_split': 29, 'min_samples_leaf': 2}. Best is trial 93 with value: 0.6836874934802044.\n",
      "/Library/Frameworks/Python.framework/Versions/3.12/lib/python3.12/site-packages/optuna/trial/_trial.py:678: RuntimeWarning: Inconsistent parameter values for distribution with name \"min_samples_leaf\"! This might be a configuration mistake. Optuna allows to call the same distribution with the same name more than once in a trial. When the parameter values are inconsistent optuna only uses the values of the first call and ignores all following. Using these values: {'log': False, 'step': 1, 'low': 2, 'high': 32}\n",
      "  warnings.warn(\n",
      "[I 2024-09-15 13:10:35,702] Trial 94 finished with value: 0.6731245247494616 and parameters: {'n_estimators': 214, 'min_samples_split': 26, 'min_samples_leaf': 3}. Best is trial 93 with value: 0.6836874934802044.\n",
      "/Library/Frameworks/Python.framework/Versions/3.12/lib/python3.12/site-packages/optuna/trial/_trial.py:678: RuntimeWarning: Inconsistent parameter values for distribution with name \"min_samples_leaf\"! This might be a configuration mistake. Optuna allows to call the same distribution with the same name more than once in a trial. When the parameter values are inconsistent optuna only uses the values of the first call and ignores all following. Using these values: {'log': False, 'step': 1, 'low': 2, 'high': 32}\n",
      "  warnings.warn(\n",
      "[I 2024-09-15 13:11:10,703] Trial 95 finished with value: 0.652691702676609 and parameters: {'n_estimators': 740, 'min_samples_split': 32, 'min_samples_leaf': 29}. Best is trial 93 with value: 0.6836874934802044.\n",
      "/Library/Frameworks/Python.framework/Versions/3.12/lib/python3.12/site-packages/optuna/trial/_trial.py:678: RuntimeWarning: Inconsistent parameter values for distribution with name \"min_samples_leaf\"! This might be a configuration mistake. Optuna allows to call the same distribution with the same name more than once in a trial. When the parameter values are inconsistent optuna only uses the values of the first call and ignores all following. Using these values: {'log': False, 'step': 1, 'low': 2, 'high': 32}\n",
      "  warnings.warn(\n",
      "[I 2024-09-15 13:11:47,457] Trial 96 finished with value: 0.6573250084411754 and parameters: {'n_estimators': 739, 'min_samples_split': 31, 'min_samples_leaf': 15}. Best is trial 93 with value: 0.6836874934802044.\n",
      "/Library/Frameworks/Python.framework/Versions/3.12/lib/python3.12/site-packages/optuna/trial/_trial.py:678: RuntimeWarning: Inconsistent parameter values for distribution with name \"min_samples_leaf\"! This might be a configuration mistake. Optuna allows to call the same distribution with the same name more than once in a trial. When the parameter values are inconsistent optuna only uses the values of the first call and ignores all following. Using these values: {'log': False, 'step': 1, 'low': 2, 'high': 32}\n",
      "  warnings.warn(\n",
      "[I 2024-09-15 13:12:26,308] Trial 97 finished with value: 0.6522650138807383 and parameters: {'n_estimators': 886, 'min_samples_split': 13, 'min_samples_leaf': 30}. Best is trial 93 with value: 0.6836874934802044.\n",
      "/Library/Frameworks/Python.framework/Versions/3.12/lib/python3.12/site-packages/optuna/trial/_trial.py:678: RuntimeWarning: Inconsistent parameter values for distribution with name \"min_samples_leaf\"! This might be a configuration mistake. Optuna allows to call the same distribution with the same name more than once in a trial. When the parameter values are inconsistent optuna only uses the values of the first call and ignores all following. Using these values: {'log': False, 'step': 1, 'low': 2, 'high': 32}\n",
      "  warnings.warn(\n",
      "[I 2024-09-15 13:12:37,348] Trial 98 finished with value: 0.6501375357894096 and parameters: {'n_estimators': 234, 'min_samples_split': 31, 'min_samples_leaf': 27}. Best is trial 93 with value: 0.6836874934802044.\n",
      "/Library/Frameworks/Python.framework/Versions/3.12/lib/python3.12/site-packages/optuna/trial/_trial.py:678: RuntimeWarning: Inconsistent parameter values for distribution with name \"min_samples_leaf\"! This might be a configuration mistake. Optuna allows to call the same distribution with the same name more than once in a trial. When the parameter values are inconsistent optuna only uses the values of the first call and ignores all following. Using these values: {'log': False, 'step': 1, 'low': 2, 'high': 32}\n",
      "  warnings.warn(\n",
      "[I 2024-09-15 13:13:06,506] Trial 99 finished with value: 0.6417258869674854 and parameters: {'n_estimators': 862, 'min_samples_split': 5, 'min_samples_leaf': 20}. Best is trial 93 with value: 0.6836874934802044.\n"
     ]
    }
   ],
   "source": [
    "import optuna\n",
    "\n",
    "from sklearn.model_selection import cross_val_score\n",
    "def objective (trial):\n",
    "    n_estimators = trial.suggest_int('n_estimators',100,1000)\n",
    "    max_depth = trial.suggest_int('min_samples_split',2,32)\n",
    "    min_samples_split= trial.suggest_int('min_samples_leaf',2,32)\n",
    "    min_samples_leaf = trial.suggest_int('min_samples_leaf',1,32)\n",
    "\n",
    "    model = RandomForestClassifier(n_estimators=n_estimators, max_depth=max_depth, min_samples_split=min_samples_split,min_samples_leaf=min_samples_leaf )\n",
    "    score = cross_val_score(model, X_train, y_train, cv=5,scoring='f1').mean()\n",
    "    return score\n",
    "\n",
    "study = optuna.create_study(direction='maximize', sampler=optuna.samplers.RandomSampler(seed=123)) # Default is random Search\n",
    "study.optimize(objective, n_trials=100)"
   ]
  },
  {
   "cell_type": "code",
   "execution_count": 355,
   "metadata": {},
   "outputs": [
    {
     "ename": "ValueError",
     "evalue": "Mime type rendering requires nbformat>=4.2.0 but it is not installed",
     "output_type": "error",
     "traceback": [
      "\u001b[0;31m---------------------------------------------------------------------------\u001b[0m",
      "\u001b[0;31mValueError\u001b[0m                                Traceback (most recent call last)",
      "File \u001b[0;32m~/Library/Python/3.12/lib/python/site-packages/IPython/core/formatters.py:922\u001b[0m, in \u001b[0;36mIPythonDisplayFormatter.__call__\u001b[0;34m(self, obj)\u001b[0m\n\u001b[1;32m    920\u001b[0m method \u001b[38;5;241m=\u001b[39m get_real_method(obj, \u001b[38;5;28mself\u001b[39m\u001b[38;5;241m.\u001b[39mprint_method)\n\u001b[1;32m    921\u001b[0m \u001b[38;5;28;01mif\u001b[39;00m method \u001b[38;5;129;01mis\u001b[39;00m \u001b[38;5;129;01mnot\u001b[39;00m \u001b[38;5;28;01mNone\u001b[39;00m:\n\u001b[0;32m--> 922\u001b[0m     \u001b[43mmethod\u001b[49m\u001b[43m(\u001b[49m\u001b[43m)\u001b[49m\n\u001b[1;32m    923\u001b[0m     \u001b[38;5;28;01mreturn\u001b[39;00m \u001b[38;5;28;01mTrue\u001b[39;00m\n",
      "File \u001b[0;32m/Library/Frameworks/Python.framework/Versions/3.12/lib/python3.12/site-packages/plotly/basedatatypes.py:832\u001b[0m, in \u001b[0;36mBaseFigure._ipython_display_\u001b[0;34m(self)\u001b[0m\n\u001b[1;32m    829\u001b[0m \u001b[38;5;28;01mimport\u001b[39;00m \u001b[38;5;21;01mplotly\u001b[39;00m\u001b[38;5;21;01m.\u001b[39;00m\u001b[38;5;21;01mio\u001b[39;00m \u001b[38;5;28;01mas\u001b[39;00m \u001b[38;5;21;01mpio\u001b[39;00m\n\u001b[1;32m    831\u001b[0m \u001b[38;5;28;01mif\u001b[39;00m pio\u001b[38;5;241m.\u001b[39mrenderers\u001b[38;5;241m.\u001b[39mrender_on_display \u001b[38;5;129;01mand\u001b[39;00m pio\u001b[38;5;241m.\u001b[39mrenderers\u001b[38;5;241m.\u001b[39mdefault:\n\u001b[0;32m--> 832\u001b[0m     \u001b[43mpio\u001b[49m\u001b[38;5;241;43m.\u001b[39;49m\u001b[43mshow\u001b[49m\u001b[43m(\u001b[49m\u001b[38;5;28;43mself\u001b[39;49m\u001b[43m)\u001b[49m\n\u001b[1;32m    833\u001b[0m \u001b[38;5;28;01melse\u001b[39;00m:\n\u001b[1;32m    834\u001b[0m     \u001b[38;5;28mprint\u001b[39m(\u001b[38;5;28mrepr\u001b[39m(\u001b[38;5;28mself\u001b[39m))\n",
      "File \u001b[0;32m/Library/Frameworks/Python.framework/Versions/3.12/lib/python3.12/site-packages/plotly/io/_renderers.py:394\u001b[0m, in \u001b[0;36mshow\u001b[0;34m(fig, renderer, validate, **kwargs)\u001b[0m\n\u001b[1;32m    389\u001b[0m         \u001b[38;5;28;01mraise\u001b[39;00m \u001b[38;5;167;01mValueError\u001b[39;00m(\n\u001b[1;32m    390\u001b[0m             \u001b[38;5;124m\"\u001b[39m\u001b[38;5;124mMime type rendering requires ipython but it is not installed\u001b[39m\u001b[38;5;124m\"\u001b[39m\n\u001b[1;32m    391\u001b[0m         )\n\u001b[1;32m    393\u001b[0m     \u001b[38;5;28;01mif\u001b[39;00m \u001b[38;5;129;01mnot\u001b[39;00m nbformat \u001b[38;5;129;01mor\u001b[39;00m Version(nbformat\u001b[38;5;241m.\u001b[39m__version__) \u001b[38;5;241m<\u001b[39m Version(\u001b[38;5;124m\"\u001b[39m\u001b[38;5;124m4.2.0\u001b[39m\u001b[38;5;124m\"\u001b[39m):\n\u001b[0;32m--> 394\u001b[0m         \u001b[38;5;28;01mraise\u001b[39;00m \u001b[38;5;167;01mValueError\u001b[39;00m(\n\u001b[1;32m    395\u001b[0m             \u001b[38;5;124m\"\u001b[39m\u001b[38;5;124mMime type rendering requires nbformat>=4.2.0 but it is not installed\u001b[39m\u001b[38;5;124m\"\u001b[39m\n\u001b[1;32m    396\u001b[0m         )\n\u001b[1;32m    398\u001b[0m     ipython_display\u001b[38;5;241m.\u001b[39mdisplay(bundle, raw\u001b[38;5;241m=\u001b[39m\u001b[38;5;28;01mTrue\u001b[39;00m)\n\u001b[1;32m    400\u001b[0m \u001b[38;5;66;03m# external renderers\u001b[39;00m\n",
      "\u001b[0;31mValueError\u001b[0m: Mime type rendering requires nbformat>=4.2.0 but it is not installed"
     ]
    },
    {
     "data": {
      "application/vnd.plotly.v1+json": {
       "config": {
        "plotlyServerURL": "https://plot.ly"
       },
       "data": [
        {
         "mode": "markers",
         "name": "Objective Value",
         "type": "scatter",
         "x": [
          0,
          1,
          2,
          3,
          4,
          5,
          6,
          7,
          8,
          9,
          10,
          11,
          12,
          13,
          14,
          15,
          16,
          17,
          18,
          19,
          20,
          21,
          22,
          23,
          24,
          25,
          26,
          27,
          28,
          29,
          30,
          31,
          32,
          33,
          34,
          35,
          36,
          37,
          38,
          39,
          40,
          41,
          42,
          43,
          44,
          45,
          46,
          47,
          48,
          49,
          50,
          51,
          52,
          53,
          54,
          55,
          56,
          57,
          58,
          59,
          60,
          61,
          62,
          63,
          64,
          65,
          66,
          67,
          68,
          69,
          70,
          71,
          72,
          73,
          74,
          75,
          76,
          77,
          78,
          79,
          80,
          81,
          82,
          83,
          84,
          85,
          86,
          87,
          88,
          89,
          90,
          91,
          92,
          93,
          94,
          95,
          96,
          97,
          98,
          99
         ],
         "y": [
          0.6563640478702477,
          0.6566346569501407,
          0.6569283454049306,
          0.6524178884507318,
          0.6354727126595823,
          0.6558300161668421,
          0.6554191205956107,
          0.6545877947772019,
          0.6570762460129155,
          0.6553769281551021,
          0.656056536286067,
          0.6577783982506593,
          0.6522753403227388,
          0.6644844285887429,
          0.6519669688635807,
          0.6512750733313436,
          0.6649709451794412,
          0.6567814234577787,
          0.6571865001935037,
          0.6563661637917741,
          0.6558256474915185,
          0.669940798075549,
          0.6566441639869944,
          0.6377034959801058,
          0.6819005561241691,
          0.6619558728646682,
          0.6572015686567452,
          0.6562515826689866,
          0.6572092204400004,
          0.6575043716574573,
          0.6569193392223747,
          0.6554139523900533,
          0.6579136930776347,
          0.6552254041033326,
          0.6499054025489706,
          0.6569398329710816,
          0.6567921371906987,
          0.6482185164419942,
          0.6565019822577072,
          0.6352765953467445,
          0.6552451227111327,
          0.650397513003546,
          0.6540057743721635,
          0.6627926037826221,
          0.6512518235992533,
          0.6597162348132519,
          0.6661104891918257,
          0.6569171098431257,
          0.653371974159996,
          0.6543981648814045,
          0.6583257406951224,
          0.6667874448481567,
          0.6548356786082533,
          0.6549702874382077,
          0.6378107155908467,
          0.6518240659288017,
          0.655106199293023,
          0.6519857699597879,
          0.6467645207398183,
          0.6570589003038487,
          0.6432238577610813,
          0.6532793554251761,
          0.649315110074796,
          0.652991400893068,
          0.6796491225431233,
          0.6348995689619772,
          0.643240119739288,
          0.6507481240853658,
          0.6647016361664799,
          0.6752095079704267,
          0.6569249997153298,
          0.6563909569643966,
          0.6534190041192061,
          0.6494024076319889,
          0.6516864521658668,
          0.6553726893373313,
          0.6361154645984367,
          0.6484822054700329,
          0.636748259569133,
          0.655822962341273,
          0.6502813242806937,
          0.6428585796732572,
          0.6537269156965536,
          0.6546814223410603,
          0.6587560474774891,
          0.6522256403141543,
          0.6544526114097048,
          0.6600170681741576,
          0.6545414199873154,
          0.6550975460844909,
          0.663202980982847,
          0.6596072701710483,
          0.6548055181382263,
          0.6836874934802044,
          0.6731245247494616,
          0.652691702676609,
          0.6573250084411754,
          0.6522650138807383,
          0.6501375357894096,
          0.6417258869674854
         ]
        },
        {
         "mode": "lines",
         "name": "Best Value",
         "type": "scatter",
         "x": [
          0,
          1,
          2,
          3,
          4,
          5,
          6,
          7,
          8,
          9,
          10,
          11,
          12,
          13,
          14,
          15,
          16,
          17,
          18,
          19,
          20,
          21,
          22,
          23,
          24,
          25,
          26,
          27,
          28,
          29,
          30,
          31,
          32,
          33,
          34,
          35,
          36,
          37,
          38,
          39,
          40,
          41,
          42,
          43,
          44,
          45,
          46,
          47,
          48,
          49,
          50,
          51,
          52,
          53,
          54,
          55,
          56,
          57,
          58,
          59,
          60,
          61,
          62,
          63,
          64,
          65,
          66,
          67,
          68,
          69,
          70,
          71,
          72,
          73,
          74,
          75,
          76,
          77,
          78,
          79,
          80,
          81,
          82,
          83,
          84,
          85,
          86,
          87,
          88,
          89,
          90,
          91,
          92,
          93,
          94,
          95,
          96,
          97,
          98,
          99
         ],
         "y": [
          0.6563640478702477,
          0.6566346569501407,
          0.6569283454049306,
          0.6569283454049306,
          0.6569283454049306,
          0.6569283454049306,
          0.6569283454049306,
          0.6569283454049306,
          0.6570762460129155,
          0.6570762460129155,
          0.6570762460129155,
          0.6577783982506593,
          0.6577783982506593,
          0.6644844285887429,
          0.6644844285887429,
          0.6644844285887429,
          0.6649709451794412,
          0.6649709451794412,
          0.6649709451794412,
          0.6649709451794412,
          0.6649709451794412,
          0.669940798075549,
          0.669940798075549,
          0.669940798075549,
          0.6819005561241691,
          0.6819005561241691,
          0.6819005561241691,
          0.6819005561241691,
          0.6819005561241691,
          0.6819005561241691,
          0.6819005561241691,
          0.6819005561241691,
          0.6819005561241691,
          0.6819005561241691,
          0.6819005561241691,
          0.6819005561241691,
          0.6819005561241691,
          0.6819005561241691,
          0.6819005561241691,
          0.6819005561241691,
          0.6819005561241691,
          0.6819005561241691,
          0.6819005561241691,
          0.6819005561241691,
          0.6819005561241691,
          0.6819005561241691,
          0.6819005561241691,
          0.6819005561241691,
          0.6819005561241691,
          0.6819005561241691,
          0.6819005561241691,
          0.6819005561241691,
          0.6819005561241691,
          0.6819005561241691,
          0.6819005561241691,
          0.6819005561241691,
          0.6819005561241691,
          0.6819005561241691,
          0.6819005561241691,
          0.6819005561241691,
          0.6819005561241691,
          0.6819005561241691,
          0.6819005561241691,
          0.6819005561241691,
          0.6819005561241691,
          0.6819005561241691,
          0.6819005561241691,
          0.6819005561241691,
          0.6819005561241691,
          0.6819005561241691,
          0.6819005561241691,
          0.6819005561241691,
          0.6819005561241691,
          0.6819005561241691,
          0.6819005561241691,
          0.6819005561241691,
          0.6819005561241691,
          0.6819005561241691,
          0.6819005561241691,
          0.6819005561241691,
          0.6819005561241691,
          0.6819005561241691,
          0.6819005561241691,
          0.6819005561241691,
          0.6819005561241691,
          0.6819005561241691,
          0.6819005561241691,
          0.6819005561241691,
          0.6819005561241691,
          0.6819005561241691,
          0.6819005561241691,
          0.6819005561241691,
          0.6819005561241691,
          0.6836874934802044,
          0.6836874934802044,
          0.6836874934802044,
          0.6836874934802044,
          0.6836874934802044,
          0.6836874934802044,
          0.6836874934802044
         ]
        },
        {
         "marker": {
          "color": "#cccccc"
         },
         "mode": "markers",
         "name": "Infeasible Trial",
         "showlegend": false,
         "type": "scatter",
         "x": [],
         "y": []
        }
       ],
       "layout": {
        "template": {
         "data": {
          "bar": [
           {
            "error_x": {
             "color": "#2a3f5f"
            },
            "error_y": {
             "color": "#2a3f5f"
            },
            "marker": {
             "line": {
              "color": "#E5ECF6",
              "width": 0.5
             },
             "pattern": {
              "fillmode": "overlay",
              "size": 10,
              "solidity": 0.2
             }
            },
            "type": "bar"
           }
          ],
          "barpolar": [
           {
            "marker": {
             "line": {
              "color": "#E5ECF6",
              "width": 0.5
             },
             "pattern": {
              "fillmode": "overlay",
              "size": 10,
              "solidity": 0.2
             }
            },
            "type": "barpolar"
           }
          ],
          "carpet": [
           {
            "aaxis": {
             "endlinecolor": "#2a3f5f",
             "gridcolor": "white",
             "linecolor": "white",
             "minorgridcolor": "white",
             "startlinecolor": "#2a3f5f"
            },
            "baxis": {
             "endlinecolor": "#2a3f5f",
             "gridcolor": "white",
             "linecolor": "white",
             "minorgridcolor": "white",
             "startlinecolor": "#2a3f5f"
            },
            "type": "carpet"
           }
          ],
          "choropleth": [
           {
            "colorbar": {
             "outlinewidth": 0,
             "ticks": ""
            },
            "type": "choropleth"
           }
          ],
          "contour": [
           {
            "colorbar": {
             "outlinewidth": 0,
             "ticks": ""
            },
            "colorscale": [
             [
              0,
              "#0d0887"
             ],
             [
              0.1111111111111111,
              "#46039f"
             ],
             [
              0.2222222222222222,
              "#7201a8"
             ],
             [
              0.3333333333333333,
              "#9c179e"
             ],
             [
              0.4444444444444444,
              "#bd3786"
             ],
             [
              0.5555555555555556,
              "#d8576b"
             ],
             [
              0.6666666666666666,
              "#ed7953"
             ],
             [
              0.7777777777777778,
              "#fb9f3a"
             ],
             [
              0.8888888888888888,
              "#fdca26"
             ],
             [
              1,
              "#f0f921"
             ]
            ],
            "type": "contour"
           }
          ],
          "contourcarpet": [
           {
            "colorbar": {
             "outlinewidth": 0,
             "ticks": ""
            },
            "type": "contourcarpet"
           }
          ],
          "heatmap": [
           {
            "colorbar": {
             "outlinewidth": 0,
             "ticks": ""
            },
            "colorscale": [
             [
              0,
              "#0d0887"
             ],
             [
              0.1111111111111111,
              "#46039f"
             ],
             [
              0.2222222222222222,
              "#7201a8"
             ],
             [
              0.3333333333333333,
              "#9c179e"
             ],
             [
              0.4444444444444444,
              "#bd3786"
             ],
             [
              0.5555555555555556,
              "#d8576b"
             ],
             [
              0.6666666666666666,
              "#ed7953"
             ],
             [
              0.7777777777777778,
              "#fb9f3a"
             ],
             [
              0.8888888888888888,
              "#fdca26"
             ],
             [
              1,
              "#f0f921"
             ]
            ],
            "type": "heatmap"
           }
          ],
          "heatmapgl": [
           {
            "colorbar": {
             "outlinewidth": 0,
             "ticks": ""
            },
            "colorscale": [
             [
              0,
              "#0d0887"
             ],
             [
              0.1111111111111111,
              "#46039f"
             ],
             [
              0.2222222222222222,
              "#7201a8"
             ],
             [
              0.3333333333333333,
              "#9c179e"
             ],
             [
              0.4444444444444444,
              "#bd3786"
             ],
             [
              0.5555555555555556,
              "#d8576b"
             ],
             [
              0.6666666666666666,
              "#ed7953"
             ],
             [
              0.7777777777777778,
              "#fb9f3a"
             ],
             [
              0.8888888888888888,
              "#fdca26"
             ],
             [
              1,
              "#f0f921"
             ]
            ],
            "type": "heatmapgl"
           }
          ],
          "histogram": [
           {
            "marker": {
             "pattern": {
              "fillmode": "overlay",
              "size": 10,
              "solidity": 0.2
             }
            },
            "type": "histogram"
           }
          ],
          "histogram2d": [
           {
            "colorbar": {
             "outlinewidth": 0,
             "ticks": ""
            },
            "colorscale": [
             [
              0,
              "#0d0887"
             ],
             [
              0.1111111111111111,
              "#46039f"
             ],
             [
              0.2222222222222222,
              "#7201a8"
             ],
             [
              0.3333333333333333,
              "#9c179e"
             ],
             [
              0.4444444444444444,
              "#bd3786"
             ],
             [
              0.5555555555555556,
              "#d8576b"
             ],
             [
              0.6666666666666666,
              "#ed7953"
             ],
             [
              0.7777777777777778,
              "#fb9f3a"
             ],
             [
              0.8888888888888888,
              "#fdca26"
             ],
             [
              1,
              "#f0f921"
             ]
            ],
            "type": "histogram2d"
           }
          ],
          "histogram2dcontour": [
           {
            "colorbar": {
             "outlinewidth": 0,
             "ticks": ""
            },
            "colorscale": [
             [
              0,
              "#0d0887"
             ],
             [
              0.1111111111111111,
              "#46039f"
             ],
             [
              0.2222222222222222,
              "#7201a8"
             ],
             [
              0.3333333333333333,
              "#9c179e"
             ],
             [
              0.4444444444444444,
              "#bd3786"
             ],
             [
              0.5555555555555556,
              "#d8576b"
             ],
             [
              0.6666666666666666,
              "#ed7953"
             ],
             [
              0.7777777777777778,
              "#fb9f3a"
             ],
             [
              0.8888888888888888,
              "#fdca26"
             ],
             [
              1,
              "#f0f921"
             ]
            ],
            "type": "histogram2dcontour"
           }
          ],
          "mesh3d": [
           {
            "colorbar": {
             "outlinewidth": 0,
             "ticks": ""
            },
            "type": "mesh3d"
           }
          ],
          "parcoords": [
           {
            "line": {
             "colorbar": {
              "outlinewidth": 0,
              "ticks": ""
             }
            },
            "type": "parcoords"
           }
          ],
          "pie": [
           {
            "automargin": true,
            "type": "pie"
           }
          ],
          "scatter": [
           {
            "fillpattern": {
             "fillmode": "overlay",
             "size": 10,
             "solidity": 0.2
            },
            "type": "scatter"
           }
          ],
          "scatter3d": [
           {
            "line": {
             "colorbar": {
              "outlinewidth": 0,
              "ticks": ""
             }
            },
            "marker": {
             "colorbar": {
              "outlinewidth": 0,
              "ticks": ""
             }
            },
            "type": "scatter3d"
           }
          ],
          "scattercarpet": [
           {
            "marker": {
             "colorbar": {
              "outlinewidth": 0,
              "ticks": ""
             }
            },
            "type": "scattercarpet"
           }
          ],
          "scattergeo": [
           {
            "marker": {
             "colorbar": {
              "outlinewidth": 0,
              "ticks": ""
             }
            },
            "type": "scattergeo"
           }
          ],
          "scattergl": [
           {
            "marker": {
             "colorbar": {
              "outlinewidth": 0,
              "ticks": ""
             }
            },
            "type": "scattergl"
           }
          ],
          "scattermapbox": [
           {
            "marker": {
             "colorbar": {
              "outlinewidth": 0,
              "ticks": ""
             }
            },
            "type": "scattermapbox"
           }
          ],
          "scatterpolar": [
           {
            "marker": {
             "colorbar": {
              "outlinewidth": 0,
              "ticks": ""
             }
            },
            "type": "scatterpolar"
           }
          ],
          "scatterpolargl": [
           {
            "marker": {
             "colorbar": {
              "outlinewidth": 0,
              "ticks": ""
             }
            },
            "type": "scatterpolargl"
           }
          ],
          "scatterternary": [
           {
            "marker": {
             "colorbar": {
              "outlinewidth": 0,
              "ticks": ""
             }
            },
            "type": "scatterternary"
           }
          ],
          "surface": [
           {
            "colorbar": {
             "outlinewidth": 0,
             "ticks": ""
            },
            "colorscale": [
             [
              0,
              "#0d0887"
             ],
             [
              0.1111111111111111,
              "#46039f"
             ],
             [
              0.2222222222222222,
              "#7201a8"
             ],
             [
              0.3333333333333333,
              "#9c179e"
             ],
             [
              0.4444444444444444,
              "#bd3786"
             ],
             [
              0.5555555555555556,
              "#d8576b"
             ],
             [
              0.6666666666666666,
              "#ed7953"
             ],
             [
              0.7777777777777778,
              "#fb9f3a"
             ],
             [
              0.8888888888888888,
              "#fdca26"
             ],
             [
              1,
              "#f0f921"
             ]
            ],
            "type": "surface"
           }
          ],
          "table": [
           {
            "cells": {
             "fill": {
              "color": "#EBF0F8"
             },
             "line": {
              "color": "white"
             }
            },
            "header": {
             "fill": {
              "color": "#C8D4E3"
             },
             "line": {
              "color": "white"
             }
            },
            "type": "table"
           }
          ]
         },
         "layout": {
          "annotationdefaults": {
           "arrowcolor": "#2a3f5f",
           "arrowhead": 0,
           "arrowwidth": 1
          },
          "autotypenumbers": "strict",
          "coloraxis": {
           "colorbar": {
            "outlinewidth": 0,
            "ticks": ""
           }
          },
          "colorscale": {
           "diverging": [
            [
             0,
             "#8e0152"
            ],
            [
             0.1,
             "#c51b7d"
            ],
            [
             0.2,
             "#de77ae"
            ],
            [
             0.3,
             "#f1b6da"
            ],
            [
             0.4,
             "#fde0ef"
            ],
            [
             0.5,
             "#f7f7f7"
            ],
            [
             0.6,
             "#e6f5d0"
            ],
            [
             0.7,
             "#b8e186"
            ],
            [
             0.8,
             "#7fbc41"
            ],
            [
             0.9,
             "#4d9221"
            ],
            [
             1,
             "#276419"
            ]
           ],
           "sequential": [
            [
             0,
             "#0d0887"
            ],
            [
             0.1111111111111111,
             "#46039f"
            ],
            [
             0.2222222222222222,
             "#7201a8"
            ],
            [
             0.3333333333333333,
             "#9c179e"
            ],
            [
             0.4444444444444444,
             "#bd3786"
            ],
            [
             0.5555555555555556,
             "#d8576b"
            ],
            [
             0.6666666666666666,
             "#ed7953"
            ],
            [
             0.7777777777777778,
             "#fb9f3a"
            ],
            [
             0.8888888888888888,
             "#fdca26"
            ],
            [
             1,
             "#f0f921"
            ]
           ],
           "sequentialminus": [
            [
             0,
             "#0d0887"
            ],
            [
             0.1111111111111111,
             "#46039f"
            ],
            [
             0.2222222222222222,
             "#7201a8"
            ],
            [
             0.3333333333333333,
             "#9c179e"
            ],
            [
             0.4444444444444444,
             "#bd3786"
            ],
            [
             0.5555555555555556,
             "#d8576b"
            ],
            [
             0.6666666666666666,
             "#ed7953"
            ],
            [
             0.7777777777777778,
             "#fb9f3a"
            ],
            [
             0.8888888888888888,
             "#fdca26"
            ],
            [
             1,
             "#f0f921"
            ]
           ]
          },
          "colorway": [
           "#636efa",
           "#EF553B",
           "#00cc96",
           "#ab63fa",
           "#FFA15A",
           "#19d3f3",
           "#FF6692",
           "#B6E880",
           "#FF97FF",
           "#FECB52"
          ],
          "font": {
           "color": "#2a3f5f"
          },
          "geo": {
           "bgcolor": "white",
           "lakecolor": "white",
           "landcolor": "#E5ECF6",
           "showlakes": true,
           "showland": true,
           "subunitcolor": "white"
          },
          "hoverlabel": {
           "align": "left"
          },
          "hovermode": "closest",
          "mapbox": {
           "style": "light"
          },
          "paper_bgcolor": "white",
          "plot_bgcolor": "#E5ECF6",
          "polar": {
           "angularaxis": {
            "gridcolor": "white",
            "linecolor": "white",
            "ticks": ""
           },
           "bgcolor": "#E5ECF6",
           "radialaxis": {
            "gridcolor": "white",
            "linecolor": "white",
            "ticks": ""
           }
          },
          "scene": {
           "xaxis": {
            "backgroundcolor": "#E5ECF6",
            "gridcolor": "white",
            "gridwidth": 2,
            "linecolor": "white",
            "showbackground": true,
            "ticks": "",
            "zerolinecolor": "white"
           },
           "yaxis": {
            "backgroundcolor": "#E5ECF6",
            "gridcolor": "white",
            "gridwidth": 2,
            "linecolor": "white",
            "showbackground": true,
            "ticks": "",
            "zerolinecolor": "white"
           },
           "zaxis": {
            "backgroundcolor": "#E5ECF6",
            "gridcolor": "white",
            "gridwidth": 2,
            "linecolor": "white",
            "showbackground": true,
            "ticks": "",
            "zerolinecolor": "white"
           }
          },
          "shapedefaults": {
           "line": {
            "color": "#2a3f5f"
           }
          },
          "ternary": {
           "aaxis": {
            "gridcolor": "white",
            "linecolor": "white",
            "ticks": ""
           },
           "baxis": {
            "gridcolor": "white",
            "linecolor": "white",
            "ticks": ""
           },
           "bgcolor": "#E5ECF6",
           "caxis": {
            "gridcolor": "white",
            "linecolor": "white",
            "ticks": ""
           }
          },
          "title": {
           "x": 0.05
          },
          "xaxis": {
           "automargin": true,
           "gridcolor": "white",
           "linecolor": "white",
           "ticks": "",
           "title": {
            "standoff": 15
           },
           "zerolinecolor": "white",
           "zerolinewidth": 2
          },
          "yaxis": {
           "automargin": true,
           "gridcolor": "white",
           "linecolor": "white",
           "ticks": "",
           "title": {
            "standoff": 15
           },
           "zerolinecolor": "white",
           "zerolinewidth": 2
          }
         }
        },
        "title": {
         "text": "Optimization History Plot"
        },
        "xaxis": {
         "title": {
          "text": "Trial"
         }
        },
        "yaxis": {
         "title": {
          "text": "Objective Value"
         }
        }
       }
      },
      "text/html": [
       "<div>                        <script type=\"text/javascript\">window.PlotlyConfig = {MathJaxConfig: 'local'};</script>\n",
       "        <script charset=\"utf-8\" src=\"https://cdn.plot.ly/plotly-2.32.0.min.js\"></script>                <div id=\"440b5640-0341-458e-bc73-2d8e0d83f609\" class=\"plotly-graph-div\" style=\"height:100%; width:100%;\"></div>            <script type=\"text/javascript\">                                    window.PLOTLYENV=window.PLOTLYENV || {};                                    if (document.getElementById(\"440b5640-0341-458e-bc73-2d8e0d83f609\")) {                    Plotly.newPlot(                        \"440b5640-0341-458e-bc73-2d8e0d83f609\",                        [{\"mode\":\"markers\",\"name\":\"Objective Value\",\"x\":[0,1,2,3,4,5,6,7,8,9,10,11,12,13,14,15,16,17,18,19,20,21,22,23,24,25,26,27,28,29,30,31,32,33,34,35,36,37,38,39,40,41,42,43,44,45,46,47,48,49,50,51,52,53,54,55,56,57,58,59,60,61,62,63,64,65,66,67,68,69,70,71,72,73,74,75,76,77,78,79,80,81,82,83,84,85,86,87,88,89,90,91,92,93,94,95,96,97,98,99],\"y\":[0.6563640478702477,0.6566346569501407,0.6569283454049306,0.6524178884507318,0.6354727126595823,0.6558300161668421,0.6554191205956107,0.6545877947772019,0.6570762460129155,0.6553769281551021,0.656056536286067,0.6577783982506593,0.6522753403227388,0.6644844285887429,0.6519669688635807,0.6512750733313436,0.6649709451794412,0.6567814234577787,0.6571865001935037,0.6563661637917741,0.6558256474915185,0.669940798075549,0.6566441639869944,0.6377034959801058,0.6819005561241691,0.6619558728646682,0.6572015686567452,0.6562515826689866,0.6572092204400004,0.6575043716574573,0.6569193392223747,0.6554139523900533,0.6579136930776347,0.6552254041033326,0.6499054025489706,0.6569398329710816,0.6567921371906987,0.6482185164419942,0.6565019822577072,0.6352765953467445,0.6552451227111327,0.650397513003546,0.6540057743721635,0.6627926037826221,0.6512518235992533,0.6597162348132519,0.6661104891918257,0.6569171098431257,0.653371974159996,0.6543981648814045,0.6583257406951224,0.6667874448481567,0.6548356786082533,0.6549702874382077,0.6378107155908467,0.6518240659288017,0.655106199293023,0.6519857699597879,0.6467645207398183,0.6570589003038487,0.6432238577610813,0.6532793554251761,0.649315110074796,0.652991400893068,0.6796491225431233,0.6348995689619772,0.643240119739288,0.6507481240853658,0.6647016361664799,0.6752095079704267,0.6569249997153298,0.6563909569643966,0.6534190041192061,0.6494024076319889,0.6516864521658668,0.6553726893373313,0.6361154645984367,0.6484822054700329,0.636748259569133,0.655822962341273,0.6502813242806937,0.6428585796732572,0.6537269156965536,0.6546814223410603,0.6587560474774891,0.6522256403141543,0.6544526114097048,0.6600170681741576,0.6545414199873154,0.6550975460844909,0.663202980982847,0.6596072701710483,0.6548055181382263,0.6836874934802044,0.6731245247494616,0.652691702676609,0.6573250084411754,0.6522650138807383,0.6501375357894096,0.6417258869674854],\"type\":\"scatter\"},{\"mode\":\"lines\",\"name\":\"Best Value\",\"x\":[0,1,2,3,4,5,6,7,8,9,10,11,12,13,14,15,16,17,18,19,20,21,22,23,24,25,26,27,28,29,30,31,32,33,34,35,36,37,38,39,40,41,42,43,44,45,46,47,48,49,50,51,52,53,54,55,56,57,58,59,60,61,62,63,64,65,66,67,68,69,70,71,72,73,74,75,76,77,78,79,80,81,82,83,84,85,86,87,88,89,90,91,92,93,94,95,96,97,98,99],\"y\":[0.6563640478702477,0.6566346569501407,0.6569283454049306,0.6569283454049306,0.6569283454049306,0.6569283454049306,0.6569283454049306,0.6569283454049306,0.6570762460129155,0.6570762460129155,0.6570762460129155,0.6577783982506593,0.6577783982506593,0.6644844285887429,0.6644844285887429,0.6644844285887429,0.6649709451794412,0.6649709451794412,0.6649709451794412,0.6649709451794412,0.6649709451794412,0.669940798075549,0.669940798075549,0.669940798075549,0.6819005561241691,0.6819005561241691,0.6819005561241691,0.6819005561241691,0.6819005561241691,0.6819005561241691,0.6819005561241691,0.6819005561241691,0.6819005561241691,0.6819005561241691,0.6819005561241691,0.6819005561241691,0.6819005561241691,0.6819005561241691,0.6819005561241691,0.6819005561241691,0.6819005561241691,0.6819005561241691,0.6819005561241691,0.6819005561241691,0.6819005561241691,0.6819005561241691,0.6819005561241691,0.6819005561241691,0.6819005561241691,0.6819005561241691,0.6819005561241691,0.6819005561241691,0.6819005561241691,0.6819005561241691,0.6819005561241691,0.6819005561241691,0.6819005561241691,0.6819005561241691,0.6819005561241691,0.6819005561241691,0.6819005561241691,0.6819005561241691,0.6819005561241691,0.6819005561241691,0.6819005561241691,0.6819005561241691,0.6819005561241691,0.6819005561241691,0.6819005561241691,0.6819005561241691,0.6819005561241691,0.6819005561241691,0.6819005561241691,0.6819005561241691,0.6819005561241691,0.6819005561241691,0.6819005561241691,0.6819005561241691,0.6819005561241691,0.6819005561241691,0.6819005561241691,0.6819005561241691,0.6819005561241691,0.6819005561241691,0.6819005561241691,0.6819005561241691,0.6819005561241691,0.6819005561241691,0.6819005561241691,0.6819005561241691,0.6819005561241691,0.6819005561241691,0.6819005561241691,0.6836874934802044,0.6836874934802044,0.6836874934802044,0.6836874934802044,0.6836874934802044,0.6836874934802044,0.6836874934802044],\"type\":\"scatter\"},{\"marker\":{\"color\":\"#cccccc\"},\"mode\":\"markers\",\"name\":\"Infeasible Trial\",\"showlegend\":false,\"x\":[],\"y\":[],\"type\":\"scatter\"}],                        {\"title\":{\"text\":\"Optimization History Plot\"},\"xaxis\":{\"title\":{\"text\":\"Trial\"}},\"yaxis\":{\"title\":{\"text\":\"Objective Value\"}},\"template\":{\"data\":{\"histogram2dcontour\":[{\"type\":\"histogram2dcontour\",\"colorbar\":{\"outlinewidth\":0,\"ticks\":\"\"},\"colorscale\":[[0.0,\"#0d0887\"],[0.1111111111111111,\"#46039f\"],[0.2222222222222222,\"#7201a8\"],[0.3333333333333333,\"#9c179e\"],[0.4444444444444444,\"#bd3786\"],[0.5555555555555556,\"#d8576b\"],[0.6666666666666666,\"#ed7953\"],[0.7777777777777778,\"#fb9f3a\"],[0.8888888888888888,\"#fdca26\"],[1.0,\"#f0f921\"]]}],\"choropleth\":[{\"type\":\"choropleth\",\"colorbar\":{\"outlinewidth\":0,\"ticks\":\"\"}}],\"histogram2d\":[{\"type\":\"histogram2d\",\"colorbar\":{\"outlinewidth\":0,\"ticks\":\"\"},\"colorscale\":[[0.0,\"#0d0887\"],[0.1111111111111111,\"#46039f\"],[0.2222222222222222,\"#7201a8\"],[0.3333333333333333,\"#9c179e\"],[0.4444444444444444,\"#bd3786\"],[0.5555555555555556,\"#d8576b\"],[0.6666666666666666,\"#ed7953\"],[0.7777777777777778,\"#fb9f3a\"],[0.8888888888888888,\"#fdca26\"],[1.0,\"#f0f921\"]]}],\"heatmap\":[{\"type\":\"heatmap\",\"colorbar\":{\"outlinewidth\":0,\"ticks\":\"\"},\"colorscale\":[[0.0,\"#0d0887\"],[0.1111111111111111,\"#46039f\"],[0.2222222222222222,\"#7201a8\"],[0.3333333333333333,\"#9c179e\"],[0.4444444444444444,\"#bd3786\"],[0.5555555555555556,\"#d8576b\"],[0.6666666666666666,\"#ed7953\"],[0.7777777777777778,\"#fb9f3a\"],[0.8888888888888888,\"#fdca26\"],[1.0,\"#f0f921\"]]}],\"heatmapgl\":[{\"type\":\"heatmapgl\",\"colorbar\":{\"outlinewidth\":0,\"ticks\":\"\"},\"colorscale\":[[0.0,\"#0d0887\"],[0.1111111111111111,\"#46039f\"],[0.2222222222222222,\"#7201a8\"],[0.3333333333333333,\"#9c179e\"],[0.4444444444444444,\"#bd3786\"],[0.5555555555555556,\"#d8576b\"],[0.6666666666666666,\"#ed7953\"],[0.7777777777777778,\"#fb9f3a\"],[0.8888888888888888,\"#fdca26\"],[1.0,\"#f0f921\"]]}],\"contourcarpet\":[{\"type\":\"contourcarpet\",\"colorbar\":{\"outlinewidth\":0,\"ticks\":\"\"}}],\"contour\":[{\"type\":\"contour\",\"colorbar\":{\"outlinewidth\":0,\"ticks\":\"\"},\"colorscale\":[[0.0,\"#0d0887\"],[0.1111111111111111,\"#46039f\"],[0.2222222222222222,\"#7201a8\"],[0.3333333333333333,\"#9c179e\"],[0.4444444444444444,\"#bd3786\"],[0.5555555555555556,\"#d8576b\"],[0.6666666666666666,\"#ed7953\"],[0.7777777777777778,\"#fb9f3a\"],[0.8888888888888888,\"#fdca26\"],[1.0,\"#f0f921\"]]}],\"surface\":[{\"type\":\"surface\",\"colorbar\":{\"outlinewidth\":0,\"ticks\":\"\"},\"colorscale\":[[0.0,\"#0d0887\"],[0.1111111111111111,\"#46039f\"],[0.2222222222222222,\"#7201a8\"],[0.3333333333333333,\"#9c179e\"],[0.4444444444444444,\"#bd3786\"],[0.5555555555555556,\"#d8576b\"],[0.6666666666666666,\"#ed7953\"],[0.7777777777777778,\"#fb9f3a\"],[0.8888888888888888,\"#fdca26\"],[1.0,\"#f0f921\"]]}],\"mesh3d\":[{\"type\":\"mesh3d\",\"colorbar\":{\"outlinewidth\":0,\"ticks\":\"\"}}],\"scatter\":[{\"fillpattern\":{\"fillmode\":\"overlay\",\"size\":10,\"solidity\":0.2},\"type\":\"scatter\"}],\"parcoords\":[{\"type\":\"parcoords\",\"line\":{\"colorbar\":{\"outlinewidth\":0,\"ticks\":\"\"}}}],\"scatterpolargl\":[{\"type\":\"scatterpolargl\",\"marker\":{\"colorbar\":{\"outlinewidth\":0,\"ticks\":\"\"}}}],\"bar\":[{\"error_x\":{\"color\":\"#2a3f5f\"},\"error_y\":{\"color\":\"#2a3f5f\"},\"marker\":{\"line\":{\"color\":\"#E5ECF6\",\"width\":0.5},\"pattern\":{\"fillmode\":\"overlay\",\"size\":10,\"solidity\":0.2}},\"type\":\"bar\"}],\"scattergeo\":[{\"type\":\"scattergeo\",\"marker\":{\"colorbar\":{\"outlinewidth\":0,\"ticks\":\"\"}}}],\"scatterpolar\":[{\"type\":\"scatterpolar\",\"marker\":{\"colorbar\":{\"outlinewidth\":0,\"ticks\":\"\"}}}],\"histogram\":[{\"marker\":{\"pattern\":{\"fillmode\":\"overlay\",\"size\":10,\"solidity\":0.2}},\"type\":\"histogram\"}],\"scattergl\":[{\"type\":\"scattergl\",\"marker\":{\"colorbar\":{\"outlinewidth\":0,\"ticks\":\"\"}}}],\"scatter3d\":[{\"type\":\"scatter3d\",\"line\":{\"colorbar\":{\"outlinewidth\":0,\"ticks\":\"\"}},\"marker\":{\"colorbar\":{\"outlinewidth\":0,\"ticks\":\"\"}}}],\"scattermapbox\":[{\"type\":\"scattermapbox\",\"marker\":{\"colorbar\":{\"outlinewidth\":0,\"ticks\":\"\"}}}],\"scatterternary\":[{\"type\":\"scatterternary\",\"marker\":{\"colorbar\":{\"outlinewidth\":0,\"ticks\":\"\"}}}],\"scattercarpet\":[{\"type\":\"scattercarpet\",\"marker\":{\"colorbar\":{\"outlinewidth\":0,\"ticks\":\"\"}}}],\"carpet\":[{\"aaxis\":{\"endlinecolor\":\"#2a3f5f\",\"gridcolor\":\"white\",\"linecolor\":\"white\",\"minorgridcolor\":\"white\",\"startlinecolor\":\"#2a3f5f\"},\"baxis\":{\"endlinecolor\":\"#2a3f5f\",\"gridcolor\":\"white\",\"linecolor\":\"white\",\"minorgridcolor\":\"white\",\"startlinecolor\":\"#2a3f5f\"},\"type\":\"carpet\"}],\"table\":[{\"cells\":{\"fill\":{\"color\":\"#EBF0F8\"},\"line\":{\"color\":\"white\"}},\"header\":{\"fill\":{\"color\":\"#C8D4E3\"},\"line\":{\"color\":\"white\"}},\"type\":\"table\"}],\"barpolar\":[{\"marker\":{\"line\":{\"color\":\"#E5ECF6\",\"width\":0.5},\"pattern\":{\"fillmode\":\"overlay\",\"size\":10,\"solidity\":0.2}},\"type\":\"barpolar\"}],\"pie\":[{\"automargin\":true,\"type\":\"pie\"}]},\"layout\":{\"autotypenumbers\":\"strict\",\"colorway\":[\"#636efa\",\"#EF553B\",\"#00cc96\",\"#ab63fa\",\"#FFA15A\",\"#19d3f3\",\"#FF6692\",\"#B6E880\",\"#FF97FF\",\"#FECB52\"],\"font\":{\"color\":\"#2a3f5f\"},\"hovermode\":\"closest\",\"hoverlabel\":{\"align\":\"left\"},\"paper_bgcolor\":\"white\",\"plot_bgcolor\":\"#E5ECF6\",\"polar\":{\"bgcolor\":\"#E5ECF6\",\"angularaxis\":{\"gridcolor\":\"white\",\"linecolor\":\"white\",\"ticks\":\"\"},\"radialaxis\":{\"gridcolor\":\"white\",\"linecolor\":\"white\",\"ticks\":\"\"}},\"ternary\":{\"bgcolor\":\"#E5ECF6\",\"aaxis\":{\"gridcolor\":\"white\",\"linecolor\":\"white\",\"ticks\":\"\"},\"baxis\":{\"gridcolor\":\"white\",\"linecolor\":\"white\",\"ticks\":\"\"},\"caxis\":{\"gridcolor\":\"white\",\"linecolor\":\"white\",\"ticks\":\"\"}},\"coloraxis\":{\"colorbar\":{\"outlinewidth\":0,\"ticks\":\"\"}},\"colorscale\":{\"sequential\":[[0.0,\"#0d0887\"],[0.1111111111111111,\"#46039f\"],[0.2222222222222222,\"#7201a8\"],[0.3333333333333333,\"#9c179e\"],[0.4444444444444444,\"#bd3786\"],[0.5555555555555556,\"#d8576b\"],[0.6666666666666666,\"#ed7953\"],[0.7777777777777778,\"#fb9f3a\"],[0.8888888888888888,\"#fdca26\"],[1.0,\"#f0f921\"]],\"sequentialminus\":[[0.0,\"#0d0887\"],[0.1111111111111111,\"#46039f\"],[0.2222222222222222,\"#7201a8\"],[0.3333333333333333,\"#9c179e\"],[0.4444444444444444,\"#bd3786\"],[0.5555555555555556,\"#d8576b\"],[0.6666666666666666,\"#ed7953\"],[0.7777777777777778,\"#fb9f3a\"],[0.8888888888888888,\"#fdca26\"],[1.0,\"#f0f921\"]],\"diverging\":[[0,\"#8e0152\"],[0.1,\"#c51b7d\"],[0.2,\"#de77ae\"],[0.3,\"#f1b6da\"],[0.4,\"#fde0ef\"],[0.5,\"#f7f7f7\"],[0.6,\"#e6f5d0\"],[0.7,\"#b8e186\"],[0.8,\"#7fbc41\"],[0.9,\"#4d9221\"],[1,\"#276419\"]]},\"xaxis\":{\"gridcolor\":\"white\",\"linecolor\":\"white\",\"ticks\":\"\",\"title\":{\"standoff\":15},\"zerolinecolor\":\"white\",\"automargin\":true,\"zerolinewidth\":2},\"yaxis\":{\"gridcolor\":\"white\",\"linecolor\":\"white\",\"ticks\":\"\",\"title\":{\"standoff\":15},\"zerolinecolor\":\"white\",\"automargin\":true,\"zerolinewidth\":2},\"scene\":{\"xaxis\":{\"backgroundcolor\":\"#E5ECF6\",\"gridcolor\":\"white\",\"linecolor\":\"white\",\"showbackground\":true,\"ticks\":\"\",\"zerolinecolor\":\"white\",\"gridwidth\":2},\"yaxis\":{\"backgroundcolor\":\"#E5ECF6\",\"gridcolor\":\"white\",\"linecolor\":\"white\",\"showbackground\":true,\"ticks\":\"\",\"zerolinecolor\":\"white\",\"gridwidth\":2},\"zaxis\":{\"backgroundcolor\":\"#E5ECF6\",\"gridcolor\":\"white\",\"linecolor\":\"white\",\"showbackground\":true,\"ticks\":\"\",\"zerolinecolor\":\"white\",\"gridwidth\":2}},\"shapedefaults\":{\"line\":{\"color\":\"#2a3f5f\"}},\"annotationdefaults\":{\"arrowcolor\":\"#2a3f5f\",\"arrowhead\":0,\"arrowwidth\":1},\"geo\":{\"bgcolor\":\"white\",\"landcolor\":\"#E5ECF6\",\"subunitcolor\":\"white\",\"showland\":true,\"showlakes\":true,\"lakecolor\":\"white\"},\"title\":{\"x\":0.05},\"mapbox\":{\"style\":\"light\"}}}},                        {\"responsive\": true}                    )                };                            </script>        </div>"
      ],
      "text/plain": [
       "Figure({\n",
       "    'data': [{'mode': 'markers',\n",
       "              'name': 'Objective Value',\n",
       "              'type': 'scatter',\n",
       "              'x': [0, 1, 2, 3, 4, 5, 6, 7, 8, 9, 10, 11, 12, 13, 14, 15, 16, 17,\n",
       "                    18, 19, 20, 21, 22, 23, 24, 25, 26, 27, 28, 29, 30, 31, 32, 33,\n",
       "                    34, 35, 36, 37, 38, 39, 40, 41, 42, 43, 44, 45, 46, 47, 48, 49,\n",
       "                    50, 51, 52, 53, 54, 55, 56, 57, 58, 59, 60, 61, 62, 63, 64, 65,\n",
       "                    66, 67, 68, 69, 70, 71, 72, 73, 74, 75, 76, 77, 78, 79, 80, 81,\n",
       "                    82, 83, 84, 85, 86, 87, 88, 89, 90, 91, 92, 93, 94, 95, 96, 97,\n",
       "                    98, 99],\n",
       "              'y': [0.6563640478702477, 0.6566346569501407, 0.6569283454049306,\n",
       "                    0.6524178884507318, 0.6354727126595823, 0.6558300161668421,\n",
       "                    0.6554191205956107, 0.6545877947772019, 0.6570762460129155,\n",
       "                    0.6553769281551021, 0.656056536286067, 0.6577783982506593,\n",
       "                    0.6522753403227388, 0.6644844285887429, 0.6519669688635807,\n",
       "                    0.6512750733313436, 0.6649709451794412, 0.6567814234577787,\n",
       "                    0.6571865001935037, 0.6563661637917741, 0.6558256474915185,\n",
       "                    0.669940798075549, 0.6566441639869944, 0.6377034959801058,\n",
       "                    0.6819005561241691, 0.6619558728646682, 0.6572015686567452,\n",
       "                    0.6562515826689866, 0.6572092204400004, 0.6575043716574573,\n",
       "                    0.6569193392223747, 0.6554139523900533, 0.6579136930776347,\n",
       "                    0.6552254041033326, 0.6499054025489706, 0.6569398329710816,\n",
       "                    0.6567921371906987, 0.6482185164419942, 0.6565019822577072,\n",
       "                    0.6352765953467445, 0.6552451227111327, 0.650397513003546,\n",
       "                    0.6540057743721635, 0.6627926037826221, 0.6512518235992533,\n",
       "                    0.6597162348132519, 0.6661104891918257, 0.6569171098431257,\n",
       "                    0.653371974159996, 0.6543981648814045, 0.6583257406951224,\n",
       "                    0.6667874448481567, 0.6548356786082533, 0.6549702874382077,\n",
       "                    0.6378107155908467, 0.6518240659288017, 0.655106199293023,\n",
       "                    0.6519857699597879, 0.6467645207398183, 0.6570589003038487,\n",
       "                    0.6432238577610813, 0.6532793554251761, 0.649315110074796,\n",
       "                    0.652991400893068, 0.6796491225431233, 0.6348995689619772,\n",
       "                    0.643240119739288, 0.6507481240853658, 0.6647016361664799,\n",
       "                    0.6752095079704267, 0.6569249997153298, 0.6563909569643966,\n",
       "                    0.6534190041192061, 0.6494024076319889, 0.6516864521658668,\n",
       "                    0.6553726893373313, 0.6361154645984367, 0.6484822054700329,\n",
       "                    0.636748259569133, 0.655822962341273, 0.6502813242806937,\n",
       "                    0.6428585796732572, 0.6537269156965536, 0.6546814223410603,\n",
       "                    0.6587560474774891, 0.6522256403141543, 0.6544526114097048,\n",
       "                    0.6600170681741576, 0.6545414199873154, 0.6550975460844909,\n",
       "                    0.663202980982847, 0.6596072701710483, 0.6548055181382263,\n",
       "                    0.6836874934802044, 0.6731245247494616, 0.652691702676609,\n",
       "                    0.6573250084411754, 0.6522650138807383, 0.6501375357894096,\n",
       "                    0.6417258869674854]},\n",
       "             {'mode': 'lines',\n",
       "              'name': 'Best Value',\n",
       "              'type': 'scatter',\n",
       "              'x': [0, 1, 2, 3, 4, 5, 6, 7, 8, 9, 10, 11, 12, 13, 14, 15, 16, 17,\n",
       "                    18, 19, 20, 21, 22, 23, 24, 25, 26, 27, 28, 29, 30, 31, 32, 33,\n",
       "                    34, 35, 36, 37, 38, 39, 40, 41, 42, 43, 44, 45, 46, 47, 48, 49,\n",
       "                    50, 51, 52, 53, 54, 55, 56, 57, 58, 59, 60, 61, 62, 63, 64, 65,\n",
       "                    66, 67, 68, 69, 70, 71, 72, 73, 74, 75, 76, 77, 78, 79, 80, 81,\n",
       "                    82, 83, 84, 85, 86, 87, 88, 89, 90, 91, 92, 93, 94, 95, 96, 97,\n",
       "                    98, 99],\n",
       "              'y': [0.6563640478702477, 0.6566346569501407, 0.6569283454049306,\n",
       "                    0.6569283454049306, 0.6569283454049306, 0.6569283454049306,\n",
       "                    0.6569283454049306, 0.6569283454049306, 0.6570762460129155,\n",
       "                    0.6570762460129155, 0.6570762460129155, 0.6577783982506593,\n",
       "                    0.6577783982506593, 0.6644844285887429, 0.6644844285887429,\n",
       "                    0.6644844285887429, 0.6649709451794412, 0.6649709451794412,\n",
       "                    0.6649709451794412, 0.6649709451794412, 0.6649709451794412,\n",
       "                    0.669940798075549, 0.669940798075549, 0.669940798075549,\n",
       "                    0.6819005561241691, 0.6819005561241691, 0.6819005561241691,\n",
       "                    0.6819005561241691, 0.6819005561241691, 0.6819005561241691,\n",
       "                    0.6819005561241691, 0.6819005561241691, 0.6819005561241691,\n",
       "                    0.6819005561241691, 0.6819005561241691, 0.6819005561241691,\n",
       "                    0.6819005561241691, 0.6819005561241691, 0.6819005561241691,\n",
       "                    0.6819005561241691, 0.6819005561241691, 0.6819005561241691,\n",
       "                    0.6819005561241691, 0.6819005561241691, 0.6819005561241691,\n",
       "                    0.6819005561241691, 0.6819005561241691, 0.6819005561241691,\n",
       "                    0.6819005561241691, 0.6819005561241691, 0.6819005561241691,\n",
       "                    0.6819005561241691, 0.6819005561241691, 0.6819005561241691,\n",
       "                    0.6819005561241691, 0.6819005561241691, 0.6819005561241691,\n",
       "                    0.6819005561241691, 0.6819005561241691, 0.6819005561241691,\n",
       "                    0.6819005561241691, 0.6819005561241691, 0.6819005561241691,\n",
       "                    0.6819005561241691, 0.6819005561241691, 0.6819005561241691,\n",
       "                    0.6819005561241691, 0.6819005561241691, 0.6819005561241691,\n",
       "                    0.6819005561241691, 0.6819005561241691, 0.6819005561241691,\n",
       "                    0.6819005561241691, 0.6819005561241691, 0.6819005561241691,\n",
       "                    0.6819005561241691, 0.6819005561241691, 0.6819005561241691,\n",
       "                    0.6819005561241691, 0.6819005561241691, 0.6819005561241691,\n",
       "                    0.6819005561241691, 0.6819005561241691, 0.6819005561241691,\n",
       "                    0.6819005561241691, 0.6819005561241691, 0.6819005561241691,\n",
       "                    0.6819005561241691, 0.6819005561241691, 0.6819005561241691,\n",
       "                    0.6819005561241691, 0.6819005561241691, 0.6819005561241691,\n",
       "                    0.6836874934802044, 0.6836874934802044, 0.6836874934802044,\n",
       "                    0.6836874934802044, 0.6836874934802044, 0.6836874934802044,\n",
       "                    0.6836874934802044]},\n",
       "             {'marker': {'color': '#cccccc'},\n",
       "              'mode': 'markers',\n",
       "              'name': 'Infeasible Trial',\n",
       "              'showlegend': False,\n",
       "              'type': 'scatter',\n",
       "              'x': [],\n",
       "              'y': []}],\n",
       "    'layout': {'template': '...',\n",
       "               'title': {'text': 'Optimization History Plot'},\n",
       "               'xaxis': {'title': {'text': 'Trial'}},\n",
       "               'yaxis': {'title': {'text': 'Objective Value'}}}\n",
       "})"
      ]
     },
     "execution_count": 355,
     "metadata": {},
     "output_type": "execute_result"
    }
   ],
   "source": [
    "best_params = study.best_params\n",
    "optuna.visualization.plot_optimization_history(study)"
   ]
  }
 ],
 "metadata": {
  "kernelspec": {
   "display_name": "Python 3",
   "language": "python",
   "name": "python3"
  },
  "language_info": {
   "codemirror_mode": {
    "name": "ipython",
    "version": 3
   },
   "file_extension": ".py",
   "mimetype": "text/x-python",
   "name": "python",
   "nbconvert_exporter": "python",
   "pygments_lexer": "ipython3",
   "version": "3.12.2"
  }
 },
 "nbformat": 4,
 "nbformat_minor": 2
}
